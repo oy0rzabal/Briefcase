{
 "cells": [
  {
   "cell_type": "markdown",
   "id": "e1a94ecf",
   "metadata": {},
   "source": [
    "# Importamos las libreriras necesarias para hacer el scraping"
   ]
  },
  {
   "cell_type": "code",
   "execution_count": 27,
   "id": "92fd68ce",
   "metadata": {},
   "outputs": [],
   "source": [
    "#Desde bs4 importamos BeautifulSoup\n",
    "from bs4 import BeautifulSoup\n",
    "\n",
    "#Importamos las librerias de para la extracion de datos\n",
    "import webbrowser\n",
    "\n",
    "#importamos requests\n",
    "import requests\n",
    "\n",
    "#Importamos lxml para un buen manejo de datos\n",
    "import lxml.html as html\n",
    "#importamos csv para guardar el text a un csv\n",
    "import csv"
   ]
  },
  {
   "cell_type": "markdown",
   "id": "497b8f70",
   "metadata": {},
   "source": [
    "## Ahora empezamos hacer el Scraping\n",
    "\n",
    "### Hacemos el llamado a la pagina web para despues transformar los datos a text"
   ]
  },
  {
   "cell_type": "code",
   "execution_count": 28,
   "id": "7c3d848e",
   "metadata": {},
   "outputs": [],
   "source": [
    "page = requests.get('https://www.icasas.mx/renta/comerciales-oficinas-guerrero-acapulco-juarez-3_14_12_0_366_0')\n",
    "soup = BeautifulSoup(page.text, 'html.parser')"
   ]
  },
  {
   "cell_type": "markdown",
   "id": "5f1d6e99",
   "metadata": {},
   "source": [
    "### Empezamos la extracion de los datos"
   ]
  },
  {
   "cell_type": "code",
   "execution_count": 29,
   "id": "e75825ca",
   "metadata": {},
   "outputs": [
    {
     "name": "stdout",
     "output_type": "stream",
     "text": [
      "['Oficina en Renta Av. Constitución No\\n, Acapulco De Juárez Centro, Acapulco De Juárez', '\\t\\t\\t\\t200 MX$\\t\\t\\t', 'Oficina en Renta Av. Constitución No\\n, Acapulco De Juárez Centro, Acapulco De Juárez', 'CARACTERÍSTICAS\\n Pisos: 2\\n Alturas: 4 metros.\\n Estacionamientos públicos cercanos.\\n Escaleras de servicio.\\n Baños por nivel...', '\\n \\n']\n"
     ]
    }
   ],
   "source": [
    "page = requests.get('https://www.icasas.mx/renta/comerciales-oficinas-guerrero-acapulco-juarez-3_14_12_0_366_0')\n",
    "soup = BeautifulSoup(page.text, 'html.parser')\n",
    "\n",
    "#Empezamos hacer la limpieza de etiquetas html\n",
    "div_data = soup.find_all('div', class_=\"data\")\n",
    "for div in div_data:\n",
    "    price = div.find(class_='price').text\n",
    "    title = div.find(class_='title').text\n",
    "    detailredirection = div.find(class_='detail-redirection').text\n",
    "    description = div.find(class_='description').text\n",
    "    adCharacteristics = div.find(class_='adCharacteristics').text\n",
    "    \n",
    "#Devolvemos los datos\n",
    "\n",
    "datos = [title, price, detailredirection, description, adCharacteristics]\n",
    "print(datos)"
   ]
  },
  {
   "cell_type": "code",
   "execution_count": 34,
   "id": "63a400ca",
   "metadata": {},
   "outputs": [
    {
     "ename": "NameError",
     "evalue": "name 'w' is not defined",
     "output_type": "error",
     "traceback": [
      "\u001b[1;31m---------------------------------------------------------------------------\u001b[0m",
      "\u001b[1;31mNameError\u001b[0m                                 Traceback (most recent call last)",
      "\u001b[1;32m~\\AppData\\Local\\Temp/ipykernel_14212/4002479812.py\u001b[0m in \u001b[0;36m<module>\u001b[1;34m\u001b[0m\n\u001b[1;32m----> 1\u001b[1;33m \u001b[1;32mwith\u001b[0m \u001b[0mopen\u001b[0m\u001b[1;33m(\u001b[0m\u001b[1;34m'data_icasa.csv'\u001b[0m\u001b[1;33m,\u001b[0m \u001b[0mw\u001b[0m\u001b[1;33m)\u001b[0m \u001b[1;32mas\u001b[0m \u001b[0mf\u001b[0m\u001b[1;33m:\u001b[0m\u001b[1;33m\u001b[0m\u001b[1;33m\u001b[0m\u001b[0m\n\u001b[0m\u001b[0;32m      2\u001b[0m     \u001b[0md\u001b[0m \u001b[1;33m=\u001b[0m \u001b[0mcsv\u001b[0m\u001b[1;33m.\u001b[0m\u001b[0mwrite\u001b[0m\u001b[1;33m(\u001b[0m\u001b[0mf\u001b[0m\u001b[1;33m)\u001b[0m\u001b[1;33m\u001b[0m\u001b[1;33m\u001b[0m\u001b[0m\n\u001b[0;32m      3\u001b[0m     \u001b[0md\u001b[0m\u001b[1;33m.\u001b[0m\u001b[0mwriterows\u001b[0m\u001b[1;33m(\u001b[0m\u001b[0mdatos\u001b[0m\u001b[1;33m(\u001b[0m\u001b[1;33m)\u001b[0m\u001b[1;33m)\u001b[0m\u001b[1;33m\u001b[0m\u001b[1;33m\u001b[0m\u001b[0m\n",
      "\u001b[1;31mNameError\u001b[0m: name 'w' is not defined"
     ]
    }
   ],
   "source": [
    "with open('data_icasa.csv', w) as f:\n",
    "    d = csv.write(f)\n",
    "    d.writerows(datos())"
   ]
  },
  {
   "cell_type": "code",
   "execution_count": null,
   "id": "f4133550",
   "metadata": {},
   "outputs": [],
   "source": []
  }
 ],
 "metadata": {
  "kernelspec": {
   "display_name": "Python 3 (ipykernel)",
   "language": "python",
   "name": "python3"
  },
  "language_info": {
   "codemirror_mode": {
    "name": "ipython",
    "version": 3
   },
   "file_extension": ".py",
   "mimetype": "text/x-python",
   "name": "python",
   "nbconvert_exporter": "python",
   "pygments_lexer": "ipython3",
   "version": "3.9.7"
  }
 },
 "nbformat": 4,
 "nbformat_minor": 5
}
