{
 "cells": [
  {
   "cell_type": "markdown",
   "metadata": {
    "_cell_guid": "b91a74ba-85f4-486e-b5f9-d0898f0626bf",
    "_uuid": "6ac53f18b4f4ec0fc44348cedb5d1c319fa127c0"
   },
   "source": [
    "### All days of the challange:\n",
    "\n",
    "* [Day 1: Handling missing values](https://www.kaggle.com/rtatman/data-cleaning-challenge-handling-missing-values)\n",
    "* [Day 2: Scaling and normalization](https://www.kaggle.com/rtatman/data-cleaning-challenge-scale-and-normalize-data)\n",
    "* [Day 3: Parsing dates](https://www.kaggle.com/rtatman/data-cleaning-challenge-parsing-dates/)\n",
    "* [Day 4: Character encodings](https://www.kaggle.com/rtatman/data-cleaning-challenge-character-encodings/)\n",
    "* [Day 5: Inconsistent Data Entry](https://www.kaggle.com/rtatman/data-cleaning-challenge-inconsistent-data-entry/)\n",
    "___\n",
    "¡Bienvenido al día 4 del Desafío de datos de 5 días! Hoy trabajaremos con diferentes codificaciones de caracteres. Para comenzar, haga clic en el botón azul \"Fork Notebook\" en la esquina superior derecha. Esto creará una copia privada de este cuaderno que puede editar y jugar. Una vez que haya terminado con los ejercicios, puede optar por hacer público su cuaderno para compartirlo con otros. :)\n",
    "\n",
    "> **¡Tu turno!** Mientras trabajamos en este cuaderno, verá algunas celdas del cuaderno (un bloque de código o texto) que tiene \"¡Tu turno!\" escrito en él. Estos son ejercicios que puede realizar para ayudar a consolidar su comprensión de los conceptos de los que estamos hablando. Una vez que haya escrito el código para responder una pregunta específica, puede ejecutar el código haciendo clic dentro de la celda (cuadro con el código) con el código que desea ejecutar y luego presione CTRL + ENTER (CMD + ENTER en una Mac ). También puede hacer clic en una celda y luego hacer clic en la flecha derecha \"reproducir\" a la izquierda del código. Si desea ejecutar todo el código en su cuaderno, puede usar las flechas dobles de \"avance rápido\" en la parte inferior del editor del cuaderno.\n",
    "\n",
    "Esto es lo que haremos hoy:\n",
    "\n",
    "* [Get our environment set up](#Get-our-environment-set-up)\n",
    "* [What are encodings?](#What-are-encodings?)\n",
    "* [Reading in files with encoding problems](#Reading-in-files-with-encoding-problems)\n",
    "* [Saving your files with UTF-8 encoding](#Saving-your-files-with-UTF-8-encoding)\n",
    "\n",
    "¡Empecemos!"
   ]
  },
  {
   "cell_type": "markdown",
   "metadata": {
    "_cell_guid": "5cd5061f-ae30-4837-a53b-690ffd5c5830",
    "_uuid": "9d82bf13584b8e682962fbb96131f2447d741679"
   },
   "source": [
    "# Configurar nuestro entorno\n",
    "________\n",
    "\n",
    "Lo primero que tendremos que hacer es cargar las bibliotecas que usaremos. Sin embargo, no nuestros conjuntos de datos: ¡llegaremos a ellos más tarde!\n",
    "\n",
    "> **¡Importante!** ¡Asegúrese de ejecutar esta celda usted mismo o el resto de su código no funcionará!"
   ]
  },
  {
   "cell_type": "code",
   "execution_count": null,
   "metadata": {
    "_cell_guid": "135a7804-b5f5-40aa-8657-4a15774e3666",
    "_uuid": "835cbe0834b935fb0fd40c75b9c39454836f4d5f",
    "collapsed": true
   },
   "outputs": [],
   "source": [
    "# modules we'll use\n",
    "import pandas as pd\n",
    "import numpy as np\n",
    "\n",
    "# helpful character encoding module\n",
    "import chardet\n",
    "\n",
    "# set seed for reproducibility\n",
    "np.random.seed(0)"
   ]
  },
  {
   "cell_type": "markdown",
   "metadata": {
    "_cell_guid": "604ac3a4-b1d9-4264-b312-4bbeecdeec00",
    "_uuid": "03ce3b4afe87d98f777172c2c7be066a66a0b237"
   },
   "source": [
    "¡Ahora estamos listos para trabajar con algunas codificaciones de caracteres! (Si lo desea, puede agregar una celda de código aquí y aprovechar esta oportunidad para ver algunos de los datos)."
   ]
  },
  {
   "cell_type": "markdown",
   "metadata": {
    "_cell_guid": "52d1b1fb-b71f-4691-9f49-545bf272354d",
    "_uuid": "06093219f80ef491dd51e776a1c0701badaaf67e"
   },
   "source": [
    "# ¿Qué son las codificaciones?\n",
    "____\n",
    "\n",
    "Las codificaciones de caracteres son conjuntos específicos de reglas para mapear desde cadenas de bytes binarios sin procesar (que se ven así: 0110100001101001) a caracteres que componen texto legible por humanos (como \"hola\"). Hay muchas codificaciones diferentes, y si trataste de leer un texto con una codificación diferente a la que estaba escrito originalmente, terminaste con un texto codificado llamado \"mojibake\" (dicho como mo-gee-bah-kay). Aquí tienes un ejemplo de mojibake:\n",
    "\n",
    "æ– ‡ å — åŒ – ã ??\n",
    "\n",
    "También puede terminar con personajes \"desconocidos\". Hay lo que se imprime cuando no hay un mapeo entre un byte en particular y un carácter en la codificación que está usando para leer su cadena de bytes y se ven así:\n",
    "\n",
    "����������\n",
    "\n",
    "Las discrepancias en la codificación de caracteres son menos comunes hoy en día de lo que solían ser, pero definitivamente sigue siendo un problema. Hay muchas codificaciones de caracteres diferentes, pero la principal que necesita saber es UTF-8.\n",
    "\n",
    "> UTF-8 is **the** codificación de texto estándar. Todo el código Python está en UTF-8 e, idealmente, todos sus datos también deberían estarlo. Es cuando las cosas no están en UTF-8 cuando te metes en problemas.\n",
    "\n",
    "Fue bastante difícil lidiar con codificaciones en Python 2, pero afortunadamente en Python 3 es mucho más simple. (Los kernels de Kaggle solo usan Python 3.) Hay dos tipos de datos principales que encontrará cuando trabaje con texto en Python 3. Uno es la cadena, que es el texto predeterminado."
   ]
  },
  {
   "cell_type": "code",
   "execution_count": null,
   "metadata": {
    "_cell_guid": "579e7b4a-9113-4795-833f-43dfaa7bd223",
    "_uuid": "c93b6c3d188e2174d5060255ea6220f52026d6f2",
    "collapsed": true
   },
   "outputs": [],
   "source": [
    "# start with a string\n",
    "before = \"This is the euro symbol: €\"\n",
    "\n",
    "# check to see what datatype it is\n",
    "type(before)"
   ]
  },
  {
   "cell_type": "markdown",
   "metadata": {
    "_cell_guid": "411f1c92-beeb-41ae-bf37-689830b18543",
    "_uuid": "3744c3f583a9e2cc71a9dddbd40f875cfe118192"
   },
   "source": [
    "The other data is the [bytes](https://docs.python.org/3.1/library/functions.html#bytes) tipo de datos, que es una secuencia de números enteros. Puede convertir una cadena en bytes especificando en qué codificación está:"
   ]
  },
  {
   "cell_type": "code",
   "execution_count": null,
   "metadata": {
    "_cell_guid": "e2581032-e30d-427a-ade1-e68bd5bbfa26",
    "_uuid": "7abd3230e80d30916c7bb2c89a75268c8d943124",
    "collapsed": true
   },
   "outputs": [],
   "source": [
    "# encode it to a different encoding, replacing characters that raise errors\n",
    "after = before.encode(\"utf-8\", errors = \"replace\")\n",
    "\n",
    "# check the type\n",
    "type(after)"
   ]
  },
  {
   "cell_type": "markdown",
   "metadata": {
    "_cell_guid": "2163421a-27ec-40b7-8064-7a4ddf2ccbb2",
    "_uuid": "561289a2b998601f914ddd548a1f8cc15f6d6452"
   },
   "source": [
    "Si observa un objeto de bytes, verá que tiene una b delante de él, y luego tal vez algo de texto después. Eso es porque los bytes se imprimen como si fueran caracteres codificados en ASCII. (ASCII es una codificación de caracteres más antigua que realmente no funciona para escribir en ningún idioma que no sea el inglés). Aquí puede ver que nuestro símbolo del euro ha sido reemplazado por un mojibake que se parece a \"\\ xe2 \\ x82 \\ xac\" cuando está impreso como si fuera una cadena ASCII."
   ]
  },
  {
   "cell_type": "code",
   "execution_count": null,
   "metadata": {
    "_cell_guid": "b3aa69d1-7e4a-48a3-b788-a75d71d4dfc4",
    "_uuid": "28337794179e4e4b335983027e60789b4664f0d4",
    "collapsed": true
   },
   "outputs": [],
   "source": [
    "# take a look at what the bytes look like\n",
    "after"
   ]
  },
  {
   "cell_type": "markdown",
   "metadata": {
    "_cell_guid": "f56be052-f564-4cea-9aee-e34813a71a3f",
    "_uuid": "4c2e8b76861fb724986a7475cb0979d3bc23276b"
   },
   "source": [
    "Cuando volvemos a convertir nuestros bytes en una cadena con la codificación correcta, podemos ver que todo nuestro texto está allí correctamente, ¡lo cual es genial! :)"
   ]
  },
  {
   "cell_type": "code",
   "execution_count": null,
   "metadata": {
    "_cell_guid": "8cc169fb-827e-485a-bb6d-f414a46e6c15",
    "_uuid": "5d904ea4f724652fbad9b786f2c0aa318601b8fc",
    "collapsed": true
   },
   "outputs": [],
   "source": [
    "# convert it back to utf-8\n",
    "print(after.decode(\"utf-8\"))"
   ]
  },
  {
   "cell_type": "markdown",
   "metadata": {
    "_cell_guid": "ea3bd345-e139-46cf-bf2a-a479887c112b",
    "_uuid": "7ed1ee6a1ae446fc02eb35f01456c9d068fa897d"
   },
   "source": [
    "Sin embargo, cuando intentamos usar una codificación diferente para mapear nuestros bytes en una cadena, obtenemos un error. Esto se debe a que la codificación que estamos tratando de usar no sabe qué hacer con los bytes que estamos tratando de pasar. Debe decirle a Python la codificación en la que se supone que está realmente la cadena de bytes.\n",
    "\n",
    "> Puede pensar en diferentes codificaciones como diferentes formas de grabar música. Puede grabar la misma música en un CD, cinta de casete o de 8 pistas. Si bien la música puede sonar más o menos igual, debe usar el equipo adecuado para reproducir la música de cada formato de grabación. El decodificador correcto es como un reproductor de casetes o un reproductor de CD. Si intenta reproducir un casete en un reproductor de CD, simplemente no funcionará."
   ]
  },
  {
   "cell_type": "code",
   "execution_count": null,
   "metadata": {
    "_cell_guid": "0454daad-f3b4-46bb-986e-e1710e6ec45c",
    "_uuid": "2ae367e4c83d2d1b1a02e288c9ab9d2a409bbddc",
    "collapsed": true
   },
   "outputs": [],
   "source": [
    "# try to decode our bytes with the ascii encoding\n",
    "print(after.decode(\"ascii\"))"
   ]
  },
  {
   "cell_type": "markdown",
   "metadata": {
    "_cell_guid": "7dde2127-bcbe-46a6-8522-66eaef4fde53",
    "_uuid": "c7c9271352fc4564669cf34712096b21fb4b29b7"
   },
   "source": [
    "También podemos tener problemas si intentamos usar la codificación incorrecta para mapear de una cadena a bytes. Como dije antes, las cadenas son UTF-8 por defecto en Python 3, así que si tratamos de tratarlas como si estuvieran en otra codificación, crearemos problemas.\n",
    "\n",
    "Por ejemplo, si intentamos convertir una cadena en bytes para ascii usando encode (), podemos pedir que los bytes sean los que serían si el texto estuviera en ASCII. Sin embargo, dado que nuestro texto no está en ASCII, habrá algunos caracteres que no podrá manejar. Podemos reemplazar automáticamente los caracteres que ASCII no puede manejar. Sin embargo, si hacemos eso, cualquier carácter que no esté en ASCII será reemplazado por el carácter desconocido. Luego, cuando volvamos a convertir los bytes en una cadena, el carácter será reemplazado por el carácter desconocido. La parte peligrosa de esto es que no hay forma de saber qué personaje * debería * haber sido. ¡Eso significa que es posible que hayamos inutilizado nuestros datos!"
   ]
  },
  {
   "cell_type": "code",
   "execution_count": null,
   "metadata": {
    "_cell_guid": "abc9901f-4667-4679-a7e1-5589f8cbf7cf",
    "_uuid": "7a54834072c291034ddd3f83292e1a36be01388f",
    "collapsed": true
   },
   "outputs": [],
   "source": [
    "# start with a string\n",
    "before = \"This is the euro symbol: €\"\n",
    "\n",
    "# encode it to a different encoding, replacing characters that raise errors\n",
    "after = before.encode(\"ascii\", errors = \"replace\")\n",
    "\n",
    "# convert it back to utf-8\n",
    "print(after.decode(\"ascii\"))\n",
    "\n",
    "# We've lost the original underlying byte string! It's been \n",
    "# replaced with the underlying byte string for the unknown character :("
   ]
  },
  {
   "cell_type": "markdown",
   "metadata": {
    "_cell_guid": "cdc4438f-4e9f-4d06-bbf5-01f2613af790",
    "_uuid": "991c5ca3457deb585ce58bf4ba64d55fe0580ee2"
   },
   "source": [
    "¡Esto es malo y queremos evitarlo! Es mucho mejor convertir todo nuestro texto a UTF-8 tan pronto como podamos y mantenerlo en esa codificación. El mejor momento para convertir una entrada que no sea UTF-8 en UTF-8 es cuando lee archivos, de lo que hablaremos a continuación.\n",
    "\n",
    "Primero, sin embargo, intente convertir entre bytes y cadenas con diferentes codificaciones y vea qué sucede. Observe lo que esto le hace a su texto. ¿Le gustaría que esto sucediera con los datos que estaba tratando de analizar?"
   ]
  },
  {
   "cell_type": "code",
   "execution_count": null,
   "metadata": {
    "_cell_guid": "6a07f260-d0f4-41d1-8511-e45e8a43bf43",
    "_uuid": "1b1f20f32a0647bc65281d3feb1d3124a226ccdd",
    "collapsed": true
   },
   "outputs": [],
   "source": [
    "# Your turn! Try encoding and decoding different symbols to ASCII and\n",
    "# see what happens. I'd recommend $, #, 你好 and नमस्ते but feel free to\n",
    "# try other characters. What happens? When would this cause problems?"
   ]
  },
  {
   "cell_type": "markdown",
   "metadata": {
    "_cell_guid": "8cdb1777-e518-499c-8941-2c510e1ca785",
    "_uuid": "1970b834a6189e19197ffd4d1ad2c56b1a7c705d"
   },
   "source": [
    "# Lectura de archivos con problemas de codificación\n",
    "___\n",
    "\n",
    "La mayoría de los archivos que encontrará probablemente estarán codificados con UTF-8. Esto es lo que Python espera de forma predeterminada, por lo que la mayoría de las veces no tendrá problemas. Sin embargo, a veces obtendrá un error como este:"
   ]
  },
  {
   "cell_type": "code",
   "execution_count": null,
   "metadata": {
    "_cell_guid": "7f193412-74f3-4b8c-93d3-61997020b922",
    "_uuid": "4833c0ce828c4547d374737f5707401c90ac4597",
    "collapsed": true
   },
   "outputs": [],
   "source": [
    "# try to read in a file not in UTF-8\n",
    "kickstarter_2016 = pd.read_csv(\"../input/kickstarter-projects/ks-projects-201612.csv\")"
   ]
  },
  {
   "cell_type": "markdown",
   "metadata": {
    "_cell_guid": "8e40ef9c-8973-4df8-b307-10a6c592c715",
    "_uuid": "3855e9b70f573aff62a7333001b827b13d349b49"
   },
   "source": [
    "¡Observe que obtenemos el mismo `UnicodeDecodeError` que obtuvimos cuando intentamos decodificar bytes UTF-8 como si fueran ASCII! Esto nos dice que este archivo no es en realidad UTF-8. Sin embargo, no sabemos qué codificación * es *. Una forma de averiguarlo es probar y probar un montón de codificaciones de caracteres diferentes y ver si alguna de ellas funciona. Sin embargo, una mejor manera es usar el módulo chardet para intentar adivinar automáticamente cuál es la codificación correcta. No se garantiza al 100% que sea correcto, pero generalmente es más rápido que solo intentar adivinar.\n",
    "\n",
    "Solo voy a mirar los primeros diez mil bytes de este archivo. Esto suele ser suficiente para adivinar cuál es la codificación y es mucho más rápido que intentar ver el archivo completo. (Especialmente con un archivo grande, esto puede ser muy lento). Otra razón para mirar la primera parte del archivo es que podemos ver al mirar el mensaje de error que el primer problema es el undécimo carácter. Así que probablemente solo necesitemos mirar el primer fragmento del archivo para averiguar qué está pasando."
   ]
  },
  {
   "cell_type": "code",
   "execution_count": null,
   "metadata": {
    "_cell_guid": "86e058c6-e971-4927-a442-0d67fadca013",
    "_uuid": "ef876801a295410c657b2b85ecfef63c8ae0ab09",
    "collapsed": true
   },
   "outputs": [],
   "source": [
    "# look at the first ten thousand bytes to guess the character encoding\n",
    "with open(\"../input/kickstarter-projects/ks-projects-201801.csv\", 'rb') as rawdata:\n",
    "    result = chardet.detect(rawdata.read(10000))\n",
    "\n",
    "# check what the character encoding might be\n",
    "print(result)"
   ]
  },
  {
   "cell_type": "markdown",
   "metadata": {
    "_cell_guid": "eb893685-188a-4de6-9f1e-ab42973135a9",
    "_uuid": "907cafd0d66144e12af2953467021019cd5c2945"
   },
   "source": [
    "So chardet is 73%  confidence that the right encoding is \"Windows-1252\". Let's see if that's correct:"
   ]
  },
  {
   "cell_type": "code",
   "execution_count": null,
   "metadata": {
    "_cell_guid": "25e9e59c-d881-4d91-be0f-4425f5c6583d",
    "_uuid": "5e09150f25216d09065165845414f308d7445ae2",
    "collapsed": true
   },
   "outputs": [],
   "source": [
    "# read in the file with the encoding detected by chardet\n",
    "kickstarter_2016 = pd.read_csv(\"../input/kickstarter-projects/ks-projects-201612.csv\", encoding='Windows-1252')\n",
    "\n",
    "# look at the first few lines\n",
    "kickstarter_2016.head()"
   ]
  },
  {
   "cell_type": "markdown",
   "metadata": {
    "_cell_guid": "200d647e-0d92-48b9-b49b-9d48b5f149ba",
    "_uuid": "bbc3c1a70b0d01f314a68b2cf2448cecd8006e89"
   },
   "source": [
    "¡Sí, parece que Chardet tenía razón! El archivo se lee sin problemas (aunque recibimos una advertencia sobre los tipos de datos) y cuando miramos las primeras filas parece estar bien. \n",
    "\n",
    "> **¿Qué pasa si la codificación de Chardet adivina no es correcta?** Dado que chardet es básicamente un adivino sofisticado, a veces adivinará la codificación incorrecta. Una cosa que puede intentar es mirar más o menos el archivo y ver si obtiene un resultado diferente y luego intentarlo."
   ]
  },
  {
   "cell_type": "code",
   "execution_count": null,
   "metadata": {
    "_cell_guid": "a52ac0aa-7d47-4442-88e3-d625d7b42934",
    "_uuid": "706e1f985080e9492a47447a34fb9c1203738229",
    "collapsed": true
   },
   "outputs": [],
   "source": [
    "# Your Turn! Trying to read in this file gives you an error. Figure out\n",
    "# what the correct encoding should be and read in the file. :)\n",
    "police_killings = pd.read_csv(\"../input/fatal-police-shootings-in-the-us/PoliceKillingsUS.csv\")"
   ]
  },
  {
   "cell_type": "markdown",
   "metadata": {
    "_cell_guid": "02f54e31-ec04-425b-9fcd-d85b11742f8e",
    "_uuid": "51e11611fae94a9f704440275905e719ee801a0a"
   },
   "source": [
    "# Guardar sus archivos con codificación UTF-8\n",
    "___\n",
    "\n",
    "Finalmente, una vez que haya pasado por todos los problemas de llevar su archivo a UTF-8, probablemente querrá mantenerlo así. La forma más sencilla de hacerlo es guardar sus archivos con codificación UTF-8. La buena noticia es que, dado que UTF-8 es la codificación estándar en Python, cuando guarde un archivo, se guardará como UTF-8 de forma predeterminada:"
   ]
  },
  {
   "cell_type": "code",
   "execution_count": null,
   "metadata": {
    "_cell_guid": "affcfb28-b6a8-426a-b690-0c717073ad09",
    "_uuid": "8f72b89b5ea80a1fc9890c3eac89614757c16b47",
    "collapsed": true
   },
   "outputs": [],
   "source": [
    "# save our file (will be saved as UTF-8 by default!)\n",
    "kickstarter_2016.to_csv(\"ks-projects-201801-utf8.csv\")"
   ]
  },
  {
   "cell_type": "markdown",
   "metadata": {
    "_cell_guid": "036fb925-21ec-4b15-8eac-4d29879003f5",
    "_uuid": "5ff9d834741ea3f9a6ed0276dc02b7a59948ae1e"
   },
   "source": [
    "Bastante fácil, ¿eh? :)\n",
    "\n",
    "> Si no ha guardado un archivo en un kernel antes, debe presionar el botón confirmar y ejecutar y esperar a que su cuaderno termine de ejecutarse antes de poder ver o acceder al archivo que ha guardado. Si no lo ve al principio, espere un par de minutos y debería aparecer. Los archivos que guarde estarán en el directorio \"../output/\", y puede descargarlos desde su computadora portátil."
   ]
  },
  {
   "cell_type": "code",
   "execution_count": null,
   "metadata": {
    "_cell_guid": "a56266f2-b957-459b-a2d4-3587b6637e70",
    "_uuid": "b6610da48bc0a43c5934b4970c394e9de596fe97",
    "collapsed": true
   },
   "outputs": [],
   "source": [
    "# Your turn! Save out a version of the police_killings dataset with UTF-8 encoding "
   ]
  },
  {
   "cell_type": "markdown",
   "metadata": {
    "_cell_guid": "b4f37fce-4d08-409e-bbbd-6a26c3bbc6ee",
    "_uuid": "52b0af56e3c77db96056e9acd785f8f435f7caf5"
   },
   "source": [
    "¡Y eso es todo por hoy! No hicimos tanta codificación, pero confíe en mi palabra: si no tiene las herramientas adecuadas, averiguar en qué codificación se encuentra un archivo puede suponer una gran pérdida de tiempo. Si tiene alguna pregunta, asegúrese de publicarla en los comentarios a continuación o [on the forums](https://www.kaggle.com/questions-and-answers). \n",
    "\n",
    "Recuerde que su bloc de notas es privado de forma predeterminada y, para compartirlo con otras personas o pedir ayuda con él, deberá hacerlo público. Primero, deberá guardar una versión de su cuaderno que muestre su trabajo actual presionando el botón \"Confirmar y ejecutar\". (Su trabajo se guarda automáticamente, pero el control de versiones de su trabajo le permite volver atrás y ver cómo era en el momento en que lo guardó. También le permite compartir un buen cuaderno compilado en lugar de solo el código sin procesar). la computadora portátil ha terminado de ejecutarse, puede ir a la pestaña Configuración en el panel de la izquierda (es posible que deba expandirla presionando el botón [<] junto al botón \"Confirmar y ejecutar\") y configurar el menú desplegable \"Visibilidad\" en \"Público\".\n",
    "\n",
    "# ¡Más práctica!\n",
    "___\n",
    "\n",
    "Verificar [this dataset of files in different character encodings](https://www.kaggle.com/rtatman/character-encoding-examples). ¿Puede leer todos los archivos con sus codificaciones originales y guardarlos como archivos UTF-8?\n",
    "\n",
    "Si tiene un archivo en UTF-8 pero tiene solo un par de caracteres extraños, puede probar el [ftfy module](https://ftfy.readthedocs.io/en/latest/#) y vea si ayuda."
   ]
  },
  {
   "cell_type": "code",
   "execution_count": null,
   "metadata": {},
   "outputs": [],
   "source": []
  }
 ],
 "metadata": {
  "kernelspec": {
   "display_name": "Python 3",
   "language": "python",
   "name": "python3"
  },
  "language_info": {
   "codemirror_mode": {
    "name": "ipython",
    "version": 3
   },
   "file_extension": ".py",
   "mimetype": "text/x-python",
   "name": "python",
   "nbconvert_exporter": "python",
   "pygments_lexer": "ipython3",
   "version": "3.8.5"
  }
 },
 "nbformat": 4,
 "nbformat_minor": 1
}
