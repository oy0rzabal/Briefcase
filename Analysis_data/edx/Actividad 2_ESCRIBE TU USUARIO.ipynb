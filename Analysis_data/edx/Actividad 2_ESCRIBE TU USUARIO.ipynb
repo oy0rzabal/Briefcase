{
 "cells": [
  {
   "cell_type": "markdown",
   "metadata": {},
   "source": [
    "<img src=\"img2/Banner Curso 1_.jpg\" width=\"921\" height=\"89\" align=\"center\"/>\n",
    "\n",
    "<h1><center>Introducción a la ciencia de datos con Python - AnáhuacX</center></h1>\n",
    "<h2><center>Actividad 2</center></h2>\n",
    "\n",
    "La pobreza es un tema de suma relevancia para la agenda de todos los gobiernos alrededor del mundo. Los esfuerzos de múltiples naciones se han consolidado en los __Objetivos de Desarrollo Sostenible__ propuestos por la ONU, organización de la que México y muchos países de latinoamérica forman parte. Conocer la magnitud del problema es prioridad en orden para proponer intervenciones eficaces que abonen a disminuir la brecha de desigualdad.\n",
    "\n",
    "<img src=\"img2/S-SDG-Poster_-Letter.jpg\" width=\"800\" height=\"800\" align=\"center\"/>\n",
    "\n",
    "__En la siguiente actividad limpiarás y explorarás un dataframe en el que encontrarás datos relevantes al análisis de la pobreza en los diferentes países que integran a la Organización de las Naciones Unidas.__\n",
    "\n",
    "<br>\n",
    "<br>\n",
    "<br>\n"
   ]
  },
  {
   "cell_type": "markdown",
   "metadata": {},
   "source": [
    "1. Importa las librerías de Pandas, Numpy, Requests, Webbrowser y Beautiful soup a tu libreta. Las estaremos utilizando a lo largo del ejercicio."
   ]
  },
  {
   "cell_type": "code",
   "execution_count": null,
   "metadata": {},
   "outputs": [],
   "source": []
  },
  {
   "cell_type": "markdown",
   "metadata": {},
   "source": [
    "2. Accede a la siguiente página web desde tu libreta utilizando webbrowser. \n",
    "\n",
    "_https://en.wikipedia.org/wiki/List_of_countries_by_percentage_of_population_living_in_poverty_"
   ]
  },
  {
   "cell_type": "code",
   "execution_count": null,
   "metadata": {},
   "outputs": [],
   "source": []
  },
  {
   "cell_type": "markdown",
   "metadata": {},
   "source": [
    "3. Descarga en tu libreta la página proporcionada y obtén todas las tablas utilizando la librería requests y beautiful soup. Recuerda escribir el número de tabla correcto. Te recomendamos explorar la página."
   ]
  },
  {
   "cell_type": "code",
   "execution_count": null,
   "metadata": {},
   "outputs": [],
   "source": []
  },
  {
   "cell_type": "code",
   "execution_count": null,
   "metadata": {},
   "outputs": [],
   "source": []
  },
  {
   "cell_type": "markdown",
   "metadata": {},
   "source": [
    "4. Utilizando la función “read_html” de la librería “Pandas” guarda la tabla __\"Percent of population (including non-citizens) living under \\\\$1,90, \\\\$3,20 and \\\\$5,50 a day\"__ en una variable llamada “df”. \n",
    "\n",
    "_Sugerencia: Ocupa la función \"head\" de la librería \"Pandas\" para mostrar los primeros cinco elementos y verificar que haya funcionado lo anterior._"
   ]
  },
  {
   "cell_type": "code",
   "execution_count": null,
   "metadata": {},
   "outputs": [],
   "source": []
  },
  {
   "cell_type": "code",
   "execution_count": null,
   "metadata": {},
   "outputs": [],
   "source": []
  },
  {
   "cell_type": "markdown",
   "metadata": {},
   "source": [
    "5. __¿Cuántas filas tiene el dataframe?__ Recuerda utilizar tu libreta de Python para encontrar la respuesta."
   ]
  },
  {
   "cell_type": "markdown",
   "metadata": {},
   "source": [
    "6. __¿Cuántas columnas posee el dataframe?__"
   ]
  },
  {
   "cell_type": "code",
   "execution_count": null,
   "metadata": {},
   "outputs": [],
   "source": []
  },
  {
   "cell_type": "markdown",
   "metadata": {},
   "source": [
    "7.\tDebido a que los datos de la tabla contienen registros vacíos y el símbolo de porcentaje, es necesario que realices una limpieza de estos datos; utiliza las funciones __\"replace\"__ y __\"dropna\"__ de \"Pandas\" para lograrlo. \n",
    "\n",
    "__Ejemplo de sintaxis de la función \"replace\": df = df.replace({'%':\"\"}, regex = True).__ (Se sugiere utilizar la función \"head\" con la tabla  modificada para visualizar que todo se encuentre en orden).\n",
    "\n",
    "__¿Cuántas filas quedaron después de hacer esto?__"
   ]
  },
  {
   "cell_type": "code",
   "execution_count": null,
   "metadata": {},
   "outputs": [],
   "source": []
  },
  {
   "cell_type": "code",
   "execution_count": null,
   "metadata": {},
   "outputs": [],
   "source": []
  },
  {
   "cell_type": "markdown",
   "metadata": {},
   "source": [
    "8.\tVerifica el tipo de datos que poseen las columnas de tu dataframe utilizando la función __“info”__. (Puedes encontrar más información acerca de cómo utilizar esta función a través del siguiente link: https://www.geeksforgeeks.org/python-pandas-dataframe-info/ \n",
    "\n",
    "__¿Cuál es el tipo de datos que aparece en la mayoría de las columnas?__"
   ]
  },
  {
   "cell_type": "code",
   "execution_count": null,
   "metadata": {},
   "outputs": [],
   "source": []
  },
  {
   "cell_type": "markdown",
   "metadata": {},
   "source": [
    "9.\tTransforma las columnas “< \\\\$1.90[1]”, “< \\\\$3.20[5]”, “< \\\\$5.50[6]” a tipo __flotante__ para que puedas hacer análisis con ellas. Para esto te recomendamos utilizar la función __“astype”__. Para más información te recomendamos entrar a el siguiente vínculo: \n",
    "\n",
    "https://www.geeksforgeeks.org/python-pandas-dataframe-astype/#:~:text=astype()%20method%20is%20used,type%20to%20another%20data%20type. "
   ]
  },
  {
   "cell_type": "code",
   "execution_count": null,
   "metadata": {},
   "outputs": [],
   "source": []
  },
  {
   "cell_type": "markdown",
   "metadata": {},
   "source": [
    "10. Utiliza la función __describe__ en el dataframe y responde __¿Cuál es el promedio del porcentaje de la población que vive con menos de $5,50 dólares al día?__"
   ]
  },
  {
   "cell_type": "code",
   "execution_count": null,
   "metadata": {},
   "outputs": [],
   "source": []
  },
  {
   "cell_type": "markdown",
   "metadata": {},
   "source": [
    "11.\t__¿Cuál es el porcentaje máximo de personas que viven con menos de \\\\$1,90 dólares al día?__"
   ]
  },
  {
   "cell_type": "code",
   "execution_count": null,
   "metadata": {},
   "outputs": [],
   "source": []
  },
  {
   "cell_type": "markdown",
   "metadata": {},
   "source": [
    "12. __¿Cuál es el país que posee ese último porcentaje?__"
   ]
  },
  {
   "cell_type": "code",
   "execution_count": null,
   "metadata": {},
   "outputs": [],
   "source": []
  },
  {
   "cell_type": "markdown",
   "metadata": {},
   "source": [
    "13.\t__¿Cuál es el porcentaje de la población en México que gana menos de \\\\$1,90 dólares al día?__"
   ]
  },
  {
   "cell_type": "code",
   "execution_count": null,
   "metadata": {},
   "outputs": [],
   "source": []
  },
  {
   "cell_type": "markdown",
   "metadata": {},
   "source": [
    "14.\t__¿Cuáles son los 5 países que tienen el mayor porcentaje de población que gana menos de \\\\$1,90 dólares al día?__"
   ]
  },
  {
   "cell_type": "code",
   "execution_count": null,
   "metadata": {},
   "outputs": [],
   "source": []
  },
  {
   "cell_type": "markdown",
   "metadata": {},
   "source": [
    "15.\tUtiliza la función \"drop\" de \"Pandas\" para eliminar la columna \"year\" y así simplificar más tu conjunto de datos."
   ]
  },
  {
   "cell_type": "code",
   "execution_count": null,
   "metadata": {},
   "outputs": [],
   "source": []
  },
  {
   "cell_type": "markdown",
   "metadata": {},
   "source": [
    "16.\tUtiliza la función “groupby” y contesta la siguiente pregunta __¿Cuál es el porcentaje promedio de la población en Sudamérica que vive con menos de \\\\$3,20 dólares al día?__"
   ]
  },
  {
   "cell_type": "code",
   "execution_count": null,
   "metadata": {},
   "outputs": [],
   "source": []
  },
  {
   "cell_type": "markdown",
   "metadata": {},
   "source": [
    "17.\t__¿Cuál es el país que está en el lugar 140 de la lista?__"
   ]
  },
  {
   "cell_type": "code",
   "execution_count": null,
   "metadata": {},
   "outputs": [],
   "source": []
  },
  {
   "cell_type": "markdown",
   "metadata": {},
   "source": [
    "18.\t__¿Cuál es el país que posee el 140 como número de índice?__"
   ]
  },
  {
   "cell_type": "code",
   "execution_count": null,
   "metadata": {},
   "outputs": [],
   "source": []
  },
  {
   "cell_type": "markdown",
   "metadata": {},
   "source": [
    "19.\t__¿Cuál es el país de América del sur que tiene menos porcentaje de población ganando \\\\$1,90 dólares al día?__"
   ]
  },
  {
   "cell_type": "code",
   "execution_count": null,
   "metadata": {},
   "outputs": [],
   "source": []
  },
  {
   "cell_type": "markdown",
   "metadata": {},
   "source": [
    "20.\t__¿Cuál es el país de América del sur que tiene más porcentaje de población ganando \\\\$1,90 dólares al día?__"
   ]
  },
  {
   "cell_type": "code",
   "execution_count": null,
   "metadata": {},
   "outputs": [],
   "source": []
  },
  {
   "cell_type": "markdown",
   "metadata": {},
   "source": [
    "21.\t__¿Cuál es el país de América del norte que tiene más porcentaje de población ganando \\\\$5,50 dólares al día?__"
   ]
  },
  {
   "cell_type": "code",
   "execution_count": null,
   "metadata": {},
   "outputs": [],
   "source": []
  },
  {
   "cell_type": "markdown",
   "metadata": {},
   "source": [
    "22.\t__¿Cuál es el país de América del norte que tiene menos porcentaje de población ganando \\\\$3,20 dólares al día?__"
   ]
  },
  {
   "cell_type": "code",
   "execution_count": null,
   "metadata": {
    "scrolled": true
   },
   "outputs": [],
   "source": []
  },
  {
   "cell_type": "markdown",
   "metadata": {},
   "source": [
    "23.\tUtiliza la función \"to_csv\" de \"Pandas\" para generar un archivo .csv con los datos trabajados. Ejemplo de la sintaxis de la función anterior: df.to_csv(\"NOMBRE.csv\")"
   ]
  },
  {
   "cell_type": "code",
   "execution_count": null,
   "metadata": {},
   "outputs": [],
   "source": []
  },
  {
   "cell_type": "markdown",
   "metadata": {},
   "source": [
    "24. Guarda tu libreta, tu archivo csv recién creado y colócalos en una carpeta comprimida con extensión __.zip__. Sube el archivo .zip a la plataforma de EdX y califica los ejercicios de tus demás compañeros.\n",
    "<img src=\"img3/Anáhuac_edX.png\" width=\"498\" height=\"150\" align=\"center\"/>"
   ]
  }
 ],
 "metadata": {
  "kernelspec": {
   "display_name": "Python 3 (ipykernel)",
   "language": "python",
   "name": "python3"
  },
  "language_info": {
   "codemirror_mode": {
    "name": "ipython",
    "version": 3
   },
   "file_extension": ".py",
   "mimetype": "text/x-python",
   "name": "python",
   "nbconvert_exporter": "python",
   "pygments_lexer": "ipython3",
   "version": "3.8.5"
  }
 },
 "nbformat": 4,
 "nbformat_minor": 4
}
