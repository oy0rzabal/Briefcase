{
 "cells": [
  {
   "cell_type": "markdown",
   "metadata": {
    "_cell_guid": "b91a74ba-85f4-486e-b5f9-d0898f0626bf",
    "_uuid": "6ac53f18b4f4ec0fc44348cedb5d1c319fa127c0"
   },
   "source": [
    "### Todos los días del desafío:\n",
    "\n",
    "* [Day 1: Handling missing values](https://www.kaggle.com/rtatman/data-cleaning-challenge-handling-missing-values)\n",
    "* [Day 2: Scaling and normalization](https://www.kaggle.com/rtatman/data-cleaning-challenge-scale-and-normalize-data)\n",
    "* [Day 3: Parsing dates](https://www.kaggle.com/rtatman/data-cleaning-challenge-parsing-dates/)\n",
    "* [Day 4: Character encodings](https://www.kaggle.com/rtatman/data-cleaning-challenge-character-encodings/)\n",
    "* [Day 5: Inconsistent Data Entry](https://www.kaggle.com/rtatman/data-cleaning-challenge-inconsistent-data-entry/)\n",
    "___\n",
    "¡Bienvenido al día 3 del Desafío de datos de 5 días! Hoy vamos a trabajar con fechas. Para comenzar, haga clic en el botón azul \"Fork Notebook\" en la esquina superior derecha. Esto creará una copia privada de este cuaderno que puede editar y jugar. Una vez que haya terminado con los ejercicios, puede optar por hacer público su cuaderno para compartirlo con otros. :)\n",
    "\n",
    "> **¡Tu turno!** Mientras trabajamos en este cuaderno, verá algunas celdas del cuaderno (un bloque de código o texto) que tiene \"¡Tu turno!\" escrito en él. Estos son ejercicios que puede realizar para ayudar a consolidar su comprensión de los conceptos de los que estamos hablando. Una vez que haya escrito el código para responder una pregunta específica, puede ejecutar el código haciendo clic dentro de la celda (cuadro con el código) con el código que desea ejecutar y luego presione CTRL + ENTER (CMD + ENTER en una Mac ). También puede hacer clic en una celda y luego hacer clic en la flecha derecha \"reproducir\" a la izquierda del código. Si desea ejecutar todo el código en su cuaderno, puede usar las flechas dobles de \"avance rápido\" en la parte inferior del editor del cuaderno.\n",
    "\n",
    "Esto es lo que haremos hoy:\n",
    "\n",
    "* [Get our environment set up](#Get-our-environment-set-up)\n",
    "* [Check the data type of our date column](#Check-the-data-type-of-our-date-column)\n",
    "* [Convert our date columns to datetime](#Convert-our-date-columns-to-datetime)\n",
    "* [Select just the day of the month from our column](#Select-just-the-day-of-the-month-from-our-column)\n",
    "* [Plot the day of the month to check the date parsing](#Plot-the-day-of-the-month-to-the-date-parsing)\n",
    "\n",
    "¡Empecemos!"
   ]
  },
  {
   "cell_type": "markdown",
   "metadata": {
    "_cell_guid": "5cd5061f-ae30-4837-a53b-690ffd5c5830",
    "_uuid": "9d82bf13584b8e682962fbb96131f2447d741679"
   },
   "source": [
    "# Configurar nuestro entorno\n",
    "________\n",
    "\n",
    "Lo primero que tendremos que hacer es cargar las bibliotecas y los conjuntos de datos que usaremos. Por hoy, trabajaremos con dos conjuntos de datos: uno que contiene información sobre terremotos que ocurrieron entre 1965 y 2016, y otro que contiene información sobre deslizamientos de tierra que ocurrieron entre 2007 y 2016.\n",
    "\n",
    "> **¡Importante!** ¡Asegúrese de ejecutar esta celda usted mismo o el resto de su código no funcionará!"
   ]
  },
  {
   "cell_type": "code",
   "execution_count": null,
   "metadata": {
    "_cell_guid": "135a7804-b5f5-40aa-8657-4a15774e3666",
    "_uuid": "835cbe0834b935fb0fd40c75b9c39454836f4d5f",
    "collapsed": true
   },
   "outputs": [],
   "source": [
    "# modules we'll use\n",
    "import pandas as pd\n",
    "import numpy as np\n",
    "import seaborn as sns\n",
    "import datetime\n",
    "\n",
    "# read in our data\n",
    "earthquakes = pd.read_csv(\"../input/earthquake-database/database.csv\")\n",
    "landslides = pd.read_csv(\"../input/landslide-events/catalog.csv\")\n",
    "volcanos = pd.read_csv(\"../input/volcanic-eruptions/database.csv\")\n",
    "\n",
    "# set seed for reproducibility\n",
    "np.random.seed(0)"
   ]
  },
  {
   "cell_type": "markdown",
   "metadata": {
    "_cell_guid": "604ac3a4-b1d9-4264-b312-4bbeecdeec00",
    "_uuid": "03ce3b4afe87d98f777172c2c7be066a66a0b237"
   },
   "source": [
    "Now we're ready to look at some dates! (If you like, you can take this opportunity to take a look at some of the data.)"
   ]
  },
  {
   "cell_type": "markdown",
   "metadata": {
    "_cell_guid": "9b87a77d-e5e5-4581-9cd3-0e7339fe1516",
    "_uuid": "742028572a307a42ce40db0102171bc219b05282"
   },
   "source": [
    "# Verifique el tipo de datos de nuestra columna de fecha\n",
    "___\n",
    "\n",
    "Para esta parte del desafío, trabajaré con la columna `date` del marco de datos `landslides`. Lo primero que voy a hacer es echar un vistazo a las primeras filas para asegurarme de que realmente parezca que contiene fechas."
   ]
  },
  {
   "cell_type": "code",
   "execution_count": null,
   "metadata": {
    "_cell_guid": "e6b7eb39-c3e3-40a1-b0a5-91cfcd2d42da",
    "_uuid": "93a08de7a6a621e4b07968c07c1cc612936c6027",
    "collapsed": true
   },
   "outputs": [],
   "source": [
    "# print the first few rows of the date column\n",
    "print(landslides['date'].head())"
   ]
  },
  {
   "cell_type": "markdown",
   "metadata": {
    "_cell_guid": "dbdacb7c-10d4-4b0a-8f6b-6d4a940ca446",
    "_uuid": "d88dbc08ab145fd20f86073b027c53f40fd306bc"
   },
   "source": [
    "¡Sí, esas son citas! Pero solo porque yo, un ser humano, pueda decir que estas son fechas no significa que Python sepa que son fechas. Observe que en la parte inferior de la salida de `head ()`, puede ver que dice que el tipo de datos de esta columna es \"objeto\".\n",
    "\n",
    "> Pandas usa el dtype \"object\" para almacenar varios tipos de tipos de datos, pero la mayoría de las veces, cuando ve una columna con el dtype \"object\", tendrá cadenas.\n",
    "\n",
    "Si comprueba la documentación de pandas dtype [here](http://pandas.pydata.org/pandas-docs/stable/basics.html#dtypes), notará que también hay un dtypes específico de `datetime64`. Debido a que el dtype de nuestra columna es `object` en lugar de` datetime64`, podemos decir que Python no sabe que esta columna contiene fechas.\n",
    "\n",
    "También podemos mirar solo el tipo d de su columna sin imprimir las primeras filas si lo deseamos:"
   ]
  },
  {
   "cell_type": "code",
   "execution_count": null,
   "metadata": {
    "_cell_guid": "56a047f4-cbf7-4914-951c-a04310ee7432",
    "_uuid": "e2ab2ac80aaac7b165b3af64edb75d29f2612482",
    "collapsed": true
   },
   "outputs": [],
   "source": [
    "# check the data type of our date column\n",
    "landslides['date'].dtype"
   ]
  },
  {
   "cell_type": "markdown",
   "metadata": {
    "_cell_guid": "99a207db-3db0-4343-9805-58753f51f6e8",
    "_uuid": "06e6483764014a04e7a1f34525e2f12aee5fdab8"
   },
   "source": [
    "Puede que tenga que comprobar el [numpy documentation](https://docs.scipy.org/doc/numpy-1.12.0/reference/generated/numpy.dtype.kind.html#numpy.dtype.kind) para hacer coincidir el código de la letra con el tipo d del objeto. \"O\" es el código para \"objeto\", por lo que podemos ver que estos dos métodos nos dan la misma información."
   ]
  },
  {
   "cell_type": "code",
   "execution_count": null,
   "metadata": {
    "_cell_guid": "8987e921-0c37-4c0f-ba68-e4e26d8d1a1b",
    "_uuid": "a2a983470b318469993b75b450bab28c12b59ae6",
    "collapsed": true
   },
   "outputs": [],
   "source": [
    "# Your turn! Check the data type of the Date column in the earthquakes dataframe\n",
    "# (note the capital 'D' in date!)\n"
   ]
  },
  {
   "cell_type": "markdown",
   "metadata": {
    "_cell_guid": "fb3b552b-411b-4fc0-b1e6-a3a8156fd459",
    "_uuid": "0939ce269aef7001e35cc8f2a5f1eed1f6160940"
   },
   "source": [
    "# Convierta nuestras columnas de fecha a fecha y hora\n",
    "___\n",
    "\n",
    "Ahora que sabemos que nuestra columna de fecha no se reconoce como una fecha, es hora de convertirla para que * se * reconozca como una fecha. Esto se llama \"analizar fechas\" porque tomamos una cadena e identificamos sus partes.\n",
    "\n",
    "Podemos pandas cuál es el formato de nuestras fechas con una guía llamada como​ [\"strftime directive\", which you can find more information on at this link](http://strftime.org/). La idea básica es que debes señalar qué partes de la fecha están dónde y qué puntuación hay entre ellas. Existen[lots of possible parts of a date](http://strftime.org/), pero los más comunes son `%d` para el día, `%m` para el mes, `%Y` para un año de dos dígitos y `%Y` para un año de cuatro dígitos.\n",
    "\n",
    "Algunos ejemplos:\n",
    "\n",
    " * 1/17/07 has the format \"%m/%d/%y\"\n",
    " * 17-1-2007 has the format \"%d-%m-%Y\"\n",
    " \n",
    "Mirando hacia atrás en el encabezado de la columna `fecha` en el conjunto de datos de deslizamientos de tierra, podemos ver que tiene el formato\" mes / día / año de dos dígitos \", por lo que podemos usar la misma sintaxis que en el primer ejemplo para analizar nuestras fechas:"
   ]
  },
  {
   "cell_type": "code",
   "execution_count": null,
   "metadata": {
    "_cell_guid": "f955aa17-ede7-4457-a913-ba1c44f8846d",
    "_uuid": "a471aae50241b245caa0c60fbb19821372682b76",
    "collapsed": true,
    "scrolled": false
   },
   "outputs": [],
   "source": [
    "# create a new column, date_parsed, with the parsed dates\n",
    "landslides['date_parsed'] = pd.to_datetime(landslides['date'], format = \"%m/%d/%y\")"
   ]
  },
  {
   "cell_type": "markdown",
   "metadata": {
    "_cell_guid": "09c1c55c-3883-4f5e-8ea9-e914b09416b6",
    "_uuid": "50feaed5f874d8c09f983ad3172febdc54f4f0bb"
   },
   "source": [
    "Ahora, cuando reviso las primeras filas de la nueva columna, puedo ver que el tipo d es `datetime64`. También puedo ver que mis fechas se han reorganizado ligeramente para que se ajusten a los objetos de fecha y hora de orden predeterminados (año-mes-día)."
   ]
  },
  {
   "cell_type": "code",
   "execution_count": null,
   "metadata": {
    "_cell_guid": "5a6c6244-b724-4a70-b356-6e3fb1e61270",
    "_uuid": "2bff07787e5aa5ad2b6484c5bcee18b5b2f283bc",
    "collapsed": true
   },
   "outputs": [],
   "source": [
    "# print the first few rows\n",
    "landslides['date_parsed'].head()"
   ]
  },
  {
   "cell_type": "markdown",
   "metadata": {
    "_cell_guid": "7bd8f8b6-8a60-4a12-b94b-4100188845da",
    "_uuid": "fc95b22f0f4d7a6bc0cb1a7cc55abfb204cc81f9"
   },
   "source": [
    "Ahora que nuestras fechas se han analizado correctamente, podemos interactuar con ellas de formas útiles.\n",
    "\n",
    "___\n",
    "* **¿Qué pasa si me encuentro con un error con varios formatos de fecha?** Si bien estamos especificando el formato de fecha aquí, a veces se encontrará con un error cuando hay varios formatos de fecha en una sola columna. Si eso sucede, los pandas intentan inferir cuál debería ser el formato de fecha correcto. Puedes hacerlo así:\n",
    "\n",
    "`landslides['date_parsed'] = pd.to_datetime(landslides['Date'], infer_datetime_format=True)`\n",
    "\n",
    "* **¿Por qué no usas siempre `infer_datetime_format = True?`** Hay dos grandes razones para que los pandas no siempre adivinen el formato de la hora. La primera es que los pandas no siempre podrán averiguar el formato de fecha correcto, especialmente si alguien se ha vuelto creativo con la entrada de datos. La segunda es que es mucho más lento que especificar el formato exacto de las fechas.\n",
    "____"
   ]
  },
  {
   "cell_type": "code",
   "execution_count": null,
   "metadata": {
    "_cell_guid": "beba42ab-fb0e-4285-83cb-984a51bdb8ed",
    "_uuid": "c029d8021e0d6cd5de3c9e62014a498c7dd5d582",
    "collapsed": true
   },
   "outputs": [],
   "source": [
    "# Your turn! Create a new column, date_parsed, in the earthquakes\n",
    "# dataset that has correctly parsed dates in it. (Don't forget to \n",
    "# double-check that the dtype is correct!)\n"
   ]
  },
  {
   "cell_type": "markdown",
   "metadata": {
    "_cell_guid": "9f310829-85bd-44c8-b1c5-d582407b5931",
    "_uuid": "3d6f5bef5deb1c1d4d83bbcaeb9ba23612978f35"
   },
   "source": [
    "# Seleccione solo el día del mes de nuestra columna\n",
    "___\n",
    "\n",
    "\"Ok, Rachael\", puedes estar diciendo en este punto, \"Esto de jugar con los tipos de datos está bien, supongo, pero ¿cuál es el * punto *?\" Para responder a su pregunta, intentemos obtener información sobre el día del mes en que ocurrió un deslizamiento de tierra de la columna \"fecha\" original, que tiene un tipo de \"objeto\":"
   ]
  },
  {
   "cell_type": "code",
   "execution_count": null,
   "metadata": {
    "_cell_guid": "ff451a5e-4447-40e2-ad76-367136a1fcff",
    "_uuid": "3c3be07dbf7394103a1db120e6ecbdffaf08d37f",
    "collapsed": true
   },
   "outputs": [],
   "source": [
    "# try to get the day of the month from the date column\n",
    "day_of_month_landslides = landslides['date'].dt.day"
   ]
  },
  {
   "cell_type": "markdown",
   "metadata": {
    "_cell_guid": "c78aada6-c4d9-4464-894e-bdd4fabb4b13",
    "_uuid": "5847844cdd3aede3ff62bc5115f1d69c91b4af9d"
   },
   "source": [
    "¡Tenemos un error! La parte importante a mirar aquí es la parte al final que dice `AttributeError: Solo se puede usar el acceso .dt con valores de fecha y hora`. Recibimos este error porque la función dt.day () no sabe cómo tratar una columna con el \"objeto\" dtype. A pesar de que nuestro marco de datos tiene fechas, debido a que no se han analizado, no podemos interactuar con ellos de una manera útil.\n",
    "\n",
    "Afortunadamente, tenemos una columna que analizamos anteriormente y que nos permite sacar el día del mes sin problemas:"
   ]
  },
  {
   "cell_type": "code",
   "execution_count": null,
   "metadata": {
    "_cell_guid": "27b6422d-3a62-47ca-bb87-6e6292bed7cf",
    "_uuid": "e0be15da345949c990b5789e2a94f8f4e09e4cf5",
    "collapsed": true
   },
   "outputs": [],
   "source": [
    "# get the day of the month from the date_parsed column\n",
    "day_of_month_landslides = landslides['date_parsed'].dt.day"
   ]
  },
  {
   "cell_type": "code",
   "execution_count": null,
   "metadata": {
    "_cell_guid": "aa3c05ea-f6d1-453f-86dc-c2fd9f8b3fd6",
    "_uuid": "ffe9bfc0acef502b995aa61ee1c5d2e4a59a5e4e",
    "collapsed": true
   },
   "outputs": [],
   "source": [
    "# Your turn! get the day of the month from the date_parsed column\n"
   ]
  },
  {
   "cell_type": "markdown",
   "metadata": {
    "_cell_guid": "fe33df7d-c85d-4b61-b572-5682e6eea81b",
    "_uuid": "a2cec7b480ef13c070d40ca0e0763d2d30a86a9c"
   },
   "source": [
    "# Grafique el día del mes para verificar el análisis de la fecha\n",
    "___\n",
    "\n",
    "Uno de los mayores peligros al analizar las fechas es mezclar los meses y los días. La función to_datetime () tiene mensajes de error muy útiles, pero no está de más comprobar que los días del mes que hemos extraído tengan sentido.\n",
    "\n",
    "Para hacer esto, tracemos un histograma de los días del mes. Esperamos que tenga valores entre 1 y 31 y, dado que no hay razón para suponer que los deslizamientos de tierra son más comunes en algunos días del mes que en otros, una distribución relativamente uniforme. (Con una caída en 31 porque no todos los meses tienen 31 días). Veamos si ese es el caso:"
   ]
  },
  {
   "cell_type": "code",
   "execution_count": null,
   "metadata": {
    "_cell_guid": "49feb18f-c077-474e-9353-a24ae850acf6",
    "_uuid": "d3d5a143d3d49e10187e420abfe9cfe18c7bac56",
    "collapsed": true
   },
   "outputs": [],
   "source": [
    "# remove na's\n",
    "day_of_month_landslides = day_of_month_landslides.dropna()\n",
    "\n",
    "# plot the day of the month\n",
    "sns.distplot(day_of_month_landslides, kde=False, bins=31)"
   ]
  },
  {
   "cell_type": "markdown",
   "metadata": {
    "_cell_guid": "c8c706a4-2697-4520-b0dd-86fc6fb80326",
    "_uuid": "90016c3e93eb8499d9efe2ece32fb5b70dcbd2ae"
   },
   "source": [
    "Sí, parece que analizamos nuestras fechas correctamente y este gráfico tiene sentido para mí. ¿Por qué no se turna para comprobar las fechas que analizó anteriormente?"
   ]
  },
  {
   "cell_type": "code",
   "execution_count": null,
   "metadata": {
    "_cell_guid": "7b5a7571-2ee3-4aad-94e9-ba47b06e6a29",
    "_uuid": "f2b79871c730f32f5ef1889912b7a8623eccf98f",
    "collapsed": true
   },
   "outputs": [],
   "source": [
    "# Your turn! Plot the days of the month from your\n",
    "# earthquake dataset and make sure they make sense.\n"
   ]
  },
  {
   "cell_type": "markdown",
   "metadata": {
    "_cell_guid": "b4f37fce-4d08-409e-bbbd-6a26c3bbc6ee",
    "_uuid": "52b0af56e3c77db96056e9acd785f8f435f7caf5"
   },
   "source": [
    "¡Y eso es todo por hoy! Si tiene alguna pregunta, asegúrese de publicarla en los comentarios a continuación o [on the forums](https://www.kaggle.com/questions-and-answers). \n",
    "\n",
    "Recuerde que su bloc de notas es privado de forma predeterminada y, para compartirlo con otras personas o pedir ayuda con él, deberá hacerlo público. Primero, deberá guardar una versión de su cuaderno que muestre su trabajo actual presionando el botón \"Confirmar y ejecutar\". (Su trabajo se guarda automáticamente, pero el control de versiones de su trabajo le permite volver atrás y ver cómo era en el momento en que lo guardó. También le permite compartir un buen cuaderno compilado en lugar de solo el código sin procesar). la computadora portátil ha terminado de ejecutarse, puede ir a la pestaña Configuración en el panel de la izquierda (es posible que deba expandirla presionando el botón [<] al lado del botón \"Confirmar y ejecutar\") y configurar la \"Visibilidad\"dropdown to \"Public\".\n",
    "\n",
    "# ¡Más práctica!\n",
    "___\n",
    "\n",
    "Si está interesado en graficar series de tiempo, [check out this Learn tutorial](https://www.kaggle.com/residentmario/time-series-plotting-optional).\n",
    "\n",
    "También puede buscar columnas de paso que sabe que tienen fechas en ellas el argumento `parse_dates` en` read_csv`. (The documention [is here](https://pandas.pydata.org/pandas-docs/stable/generated/pandas.read_csv.html).) Tenga en cuenta que este método puede ser muy lento, pero dependiendo de sus necesidades, a veces puede resultar útil.\n",
    "\n",
    "Para un desafío adicional, puede intentar analizar la columna `Last Known Eruption`  del marco de datos `volcanos`. Esta columna contiene una mezcla de texto (\"Unknown\") y años antes de la era común (BCE, también conocida como BC) y en la era común (CE, también conocida como AD)."
   ]
  },
  {
   "cell_type": "code",
   "execution_count": null,
   "metadata": {
    "_cell_guid": "dd64bc7c-c361-44d3-9f02-f7f8a2cb8430",
    "_uuid": "0027b29db32dc34294f713c345747a37d89cfd26",
    "collapsed": true
   },
   "outputs": [],
   "source": [
    "volcanos['Last Known Eruption'].sample(5)"
   ]
  }
 ],
 "metadata": {
  "kernelspec": {
   "display_name": "Python 3",
   "language": "python",
   "name": "python3"
  },
  "language_info": {
   "codemirror_mode": {
    "name": "ipython",
    "version": 3
   },
   "file_extension": ".py",
   "mimetype": "text/x-python",
   "name": "python",
   "nbconvert_exporter": "python",
   "pygments_lexer": "ipython3",
   "version": "3.8.5"
  }
 },
 "nbformat": 4,
 "nbformat_minor": 1
}
