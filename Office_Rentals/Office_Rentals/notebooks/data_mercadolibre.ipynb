{
 "cells": [
  {
   "cell_type": "code",
   "execution_count": null,
   "metadata": {},
   "outputs": [],
   "source": []
  },
  {
   "cell_type": "markdown",
   "metadata": {},
   "source": [
    "# WebScraping en la pagina de Mercadolibre"
   ]
  },
  {
   "cell_type": "markdown",
   "metadata": {},
   "source": [
    "### Importamos las librerias necesarias para poder continuar"
   ]
  },
  {
   "cell_type": "code",
   "execution_count": 16,
   "metadata": {},
   "outputs": [],
   "source": [
    "#Importamos las librerias de para la extracion de datos\n",
    "import webbrowser\n",
    "\n",
    "#importamos requests\n",
    "import requests"
   ]
  },
  {
   "cell_type": "markdown",
   "metadata": {},
   "source": [
    "### Empezamos el proceso de conexion de datos con la pagina"
   ]
  },
  {
   "cell_type": "code",
   "execution_count": 20,
   "metadata": {},
   "outputs": [],
   "source": [
    "#Recopilamos los datos con reequests:\n",
    "r = requests.get('https://www.icasas.mx/renta/comerciales-oficinas-guerrero-acapulco-juarez-3_14_12_0_366_0')\n",
    "\n",
    "#Vizualizamos los datos una vez ya obtenidos los datos:\n",
    "w = webbrowser.open_new('https://www.icasas.mx/renta/comerciales-oficinas-guerrero-acapulco-juarez-3_14_12_0_366_0')"
   ]
  },
  {
   "cell_type": "code",
   "execution_count": 21,
   "metadata": {},
   "outputs": [
    {
     "name": "stdout",
     "output_type": "stream",
     "text": [
      "355784\n"
     ]
    }
   ],
   "source": [
    "#Obtenemos los datos:\n",
    "print(len(r.text))"
   ]
  },
  {
   "cell_type": "markdown",
   "metadata": {},
   "source": [
    "##### En teoria ya podremos extraer nuestros datos, con requests podemos extraer datos y mandarlos en un archivo .text donde estaran todos nuestros datos ya pedidos anteriormente"
   ]
  },
  {
   "cell_type": "code",
   "execution_count": 23,
   "metadata": {},
   "outputs": [],
   "source": [
    "#r.text"
   ]
  },
  {
   "cell_type": "markdown",
   "metadata": {},
   "source": [
    "### Ahora vamos a seleccionar los datos que espesificamente vayamos a utilizar-"
   ]
  },
  {
   "cell_type": "code",
   "execution_count": 25,
   "metadata": {},
   "outputs": [],
   "source": [
    "#Traimos desde la raiz bs4 para poder importar BeautifulSoup\n",
    "from bs4 import BeautifulSoup"
   ]
  },
  {
   "cell_type": "markdown",
   "metadata": {},
   "source": [
    "### Ahora vamos a convertir el HTML a text con BeautifulSoup"
   ]
  },
  {
   "cell_type": "code",
   "execution_count": 29,
   "metadata": {},
   "outputs": [],
   "source": [
    "#Estamos transformando los datos javascript a text\n",
    "soup = BeautifulSoup(r.text)"
   ]
  },
  {
   "cell_type": "code",
   "execution_count": 38,
   "metadata": {},
   "outputs": [
    {
     "name": "stdout",
     "output_type": "stream",
     "text": [
      "None\n"
     ]
    }
   ],
   "source": [
    "print(soup.div.price)"
   ]
  },
  {
   "cell_type": "markdown",
   "metadata": {},
   "source": [
    "safsdvSD"
   ]
  }
 ],
 "metadata": {
  "interpreter": {
   "hash": "31c0aa2156f50712dcb49d4598f39fdcf879f1903ffb438882857aea2bfd2385"
  },
  "kernelspec": {
   "display_name": "Python 3.9.7 64-bit ('base': conda)",
   "language": "python",
   "name": "python3"
  },
  "language_info": {
   "codemirror_mode": {
    "name": "ipython",
    "version": 3
   },
   "file_extension": ".py",
   "mimetype": "text/x-python",
   "name": "python",
   "nbconvert_exporter": "python",
   "pygments_lexer": "ipython3",
   "version": "3.9.7"
  },
  "orig_nbformat": 4
 },
 "nbformat": 4,
 "nbformat_minor": 2
}
