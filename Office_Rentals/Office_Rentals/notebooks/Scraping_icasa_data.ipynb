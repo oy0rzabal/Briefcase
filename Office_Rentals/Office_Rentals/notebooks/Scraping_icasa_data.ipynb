{
 "cells": [
  {
   "cell_type": "markdown",
   "id": "46845ed4",
   "metadata": {},
   "source": [
    "# Importamos las libreriras necesarias para hacer el scraping"
   ]
  },
  {
   "cell_type": "code",
   "execution_count": 2,
   "id": "cb99b006",
   "metadata": {},
   "outputs": [],
   "source": [
    "#Desde bs4 importamos BeautifulSoup\n",
    "from bs4 import BeautifulSoup\n",
    "\n",
    "#Importamos las librerias de para la extracion de datos\n",
    "import webbrowser\n",
    "\n",
    "#importamos requests\n",
    "import requests\n",
    "\n",
    "#Importamos lxml para un buen manejo de datos\n",
    "import lxml.html as html"
   ]
  },
  {
   "cell_type": "markdown",
   "id": "48bccb33",
   "metadata": {},
   "source": [
    "## Ahora empezamos hacer el Scraping\n",
    "\n",
    "### Hacemos el llamado a la pagina web para despues transformar los datos a text"
   ]
  },
  {
   "cell_type": "code",
   "execution_count": 3,
   "id": "54676fdd",
   "metadata": {},
   "outputs": [],
   "source": [
    "page = requests.get('https://www.icasas.mx/renta/comerciales-oficinas-guerrero-acapulco-juarez-3_14_12_0_366_0')\n",
    "soup = BeautifulSoup(page.text, 'html.parser')"
   ]
  },
  {
   "cell_type": "code",
   "execution_count": null,
   "id": "cdbf64ea",
   "metadata": {},
   "outputs": [],
   "source": []
  },
  {
   "cell_type": "code",
   "execution_count": null,
   "id": "b2c6e341",
   "metadata": {},
   "outputs": [],
   "source": [
    "page = requests.get('name_page')\n",
    "soup = BeautifulSoup(page.text, 'html.parser')\n",
    "\n",
    "#Empezamos hacer la limpieza de etiquetas html\n",
    "div_data = find('div', class_=\"data\")\n",
    "for div in div_data:\n",
    "price = div.find[class_='price'].text\n",
    "title\n",
    "detail-redirection\n",
    "description\n",
    "adCharacteristics"
   ]
  }
 ],
 "metadata": {
  "kernelspec": {
   "display_name": "Python 3 (ipykernel)",
   "language": "python",
   "name": "python3"
  },
  "language_info": {
   "codemirror_mode": {
    "name": "ipython",
    "version": 3
   },
   "file_extension": ".py",
   "mimetype": "text/x-python",
   "name": "python",
   "nbconvert_exporter": "python",
   "pygments_lexer": "ipython3",
   "version": "3.9.7"
  }
 },
 "nbformat": 4,
 "nbformat_minor": 5
}
