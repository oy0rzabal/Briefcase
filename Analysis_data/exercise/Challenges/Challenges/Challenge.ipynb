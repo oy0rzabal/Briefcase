{
 "cells": [
  {
   "cell_type": "markdown",
   "metadata": {
    "id": "B849gas4y3LO"
   },
   "source": [
    "###Lectura y escritutra de archivos txt\n"
   ]
  },
  {
   "cell_type": "markdown",
   "metadata": {
    "id": "koEnUCaTAhmX"
   },
   "source": [
    "MiniChallenge 1\n",
    "1. Crear archivo txt llamado 'mi_archivo.txt' con un mensaje de 'Hola, este es mi archivo txt'\n",
    "2. Con el método a agregarle al archivo su nombre de su equipo y lo lean"
   ]
  },
  {
   "cell_type": "code",
   "execution_count": 16,
   "metadata": {
    "id": "whzCfrCaDUeG"
   },
   "outputs": [],
   "source": [
    "#Pista: Checa el Colab que vimos todos juntos en clase\n",
    "a = open('mi_archivo.txt', 'w')\n",
    "f.close()"
   ]
  },
  {
   "cell_type": "code",
   "execution_count": 21,
   "metadata": {
    "id": "_6M9Wn5cAvMC"
   },
   "outputs": [
    {
     "name": "stdout",
     "output_type": "stream",
     "text": [
      "\n"
     ]
    }
   ],
   "source": [
    "#Codea aqui para **crear** archivo txt con elegancia\n",
    "#Creamos un nuevo archivo con 'x'\n",
    "with open('mi_archivo.txt') as f:\n",
    "    read_data = f.read()\n",
    "print(read_data)"
   ]
  },
  {
   "cell_type": "code",
   "execution_count": 7,
   "metadata": {
    "id": "-5QZaj5SAu-c"
   },
   "outputs": [],
   "source": [
    "#Codea aqui para **escribir** con modo w \n",
    "with open('mi_archivo.txt', 'w') as f:\n",
    "    f.write(\"Hola, este es mi archivo txt\")"
   ]
  },
  {
   "cell_type": "code",
   "execution_count": 8,
   "metadata": {},
   "outputs": [
    {
     "data": {
      "text/plain": [
       "<_io.TextIOWrapper name='mi_archivo.txt' mode='w' encoding='cp1252'>"
      ]
     },
     "execution_count": 8,
     "metadata": {},
     "output_type": "execute_result"
    }
   ],
   "source": [
    "#DEvolvemos el contenido del Archivo\n",
    "f"
   ]
  },
  {
   "cell_type": "code",
   "execution_count": 14,
   "metadata": {
    "id": "Bo8JA5NPCXLN"
   },
   "outputs": [],
   "source": [
    "#Codea aqui para **escribir al final** con modo a\n",
    "with open('mi_archivo.txt', 'a') as f:\n",
    "    f.write(\"\\nEstamos poniendo este comentario hasta el final\")"
   ]
  },
  {
   "cell_type": "code",
   "execution_count": 15,
   "metadata": {
    "id": "V5YH6GnRB1QY"
   },
   "outputs": [
    {
     "name": "stdout",
     "output_type": "stream",
     "text": [
      "Hola, este es mi archivo txtEstamos poniendo este comentario hasta el finalEstamos poniendo este comentario hasta el final\n",
      "\n",
      "\n",
      "\n",
      "Estamos poniendo este comentario hasta el final\n"
     ]
    }
   ],
   "source": [
    "# Esta ejecutala para ver que hay en su archivo\n",
    "with open('mi_archivo.txt', 'r') as f:\n",
    "    for line in f:\n",
    "        print(line)"
   ]
  },
  {
   "cell_type": "markdown",
   "metadata": {
    "id": "cBZBLMC4zAt5"
   },
   "source": [
    "###Lectura de archivos CSV\n"
   ]
  },
  {
   "cell_type": "markdown",
   "metadata": {
    "id": "GxncPtjWC3hC"
   },
   "source": [
    "MiniChallenge 2\n",
    "1. Crear un archivo csv con un tabulador de **,** (coma) y con dos columnas; una con los **nombres** de los integrantes del equipo y la segunda con sus edades.\n",
    "2. Abrir y mostrar la columna de los nombres."
   ]
  },
  {
   "cell_type": "code",
   "execution_count": 26,
   "metadata": {
    "id": "pvWH-I-RzJag"
   },
   "outputs": [
    {
     "name": "stdout",
     "output_type": "stream",
     "text": [
      "<_csv.reader object at 0x0000019B0D093EE0>\n",
      "['YEARMODA', 'TEMP', 'MAX', 'MIN', 'DIFF', 'DIFF_MIN', 'TEMP_CELSIUS']\n",
      "['20160601', '65.5', '73.6', '54.7', '18.9', '10.8', '18.6']\n",
      "['20160602', '65.8', '80.8', '55.0', '25.8', '10.8', '18.8']\n",
      "['20160603', '68.4', '77.9', '55.6', '22.3', '12.8', '20.2']\n",
      "['20160604', '57.5', '70.9', '47.3', '23.6', '10.2', '14.2']\n",
      "['20160605', '51.4', '58.3', '43.2', '15.1', '8.2', '10.8']\n",
      "['20160606', '52.2', '59.7', '42.8', '16.9', '9.4', '11.2']\n",
      "['20160607', '56.9', '65.1', '45.9', '19.2', '11.0', '13.8']\n",
      "['20160608', '54.2', '60.4', '47.5', '12.9', '6.7', '12.3']\n",
      "['20160609', '49.4', '54.1', '45.7', '8.4', '3.7', '9.7']\n",
      "['20160610', '49.5', '55.9', '43.0', '12.9', '6.5', '9.7']\n",
      "['20160611', '54.0', '62.1', '41.7', '20.4', '12.3', '12.2']\n",
      "['20160612', '55.4', '64.2', '46.0', '18.2', '9.4', '13.0']\n",
      "['20160613', '58.3', '68.2', '47.3', '20.9', '11.0', '14.6']\n",
      "['20160614', '59.7', '67.8', '47.8', '20.0', '11.9', '15.4']\n",
      "['20160615', '63.4', '70.3', '49.3', '21.0', '14.1', '17.4']\n",
      "['20160616', '57.8', '67.5', '55.6', '11.9', '2.2', '14.3']\n",
      "['20160617', '60.4', '70.7', '55.9', '14.8', '4.5', '15.8']\n",
      "['20160618', '57.3', '62.8', '54.0', '8.8', '3.3', '14.1']\n",
      "['20160619', '56.3', '59.2', '54.1', '5.1', '2.2', '13.5']\n",
      "['20160620', '59.3', '69.1', '52.2', '16.9', '7.1', '15.2']\n",
      "['20160621', '62.6', '71.4', '50.4', '21.0', '12.2', '17.0']\n",
      "['20160622', '61.7', '70.2', '55.4', '14.8', '6.3', '16.5']\n",
      "['20160623', '60.9', '67.1', '54.9', '12.2', '6.0', '16.1']\n",
      "['20160624', '61.1', '68.9', '56.7', '12.2', '4.4', '16.2']\n",
      "['20160625', '65.7', '75.4', '57.9', '17.5', '7.8', '18.7']\n",
      "['20160626', '69.6', '77.7', '60.3', '17.4', '9.3', '20.9']\n",
      "['20160627', '60.7', '70.0', '57.6', '12.4', '3.1', '15.9']\n",
      "['20160628', '65.4', '73.0', '55.8', '17.2', '9.6', '18.6']\n",
      "['20160629', '65.8', '73.2', '59.7', '13.5', '6.1', '18.8']\n",
      "['20160630', '65.7', '72.7', '59.2', '13.5', '6.5', '18.7']\n"
     ]
    }
   ],
   "source": [
    "import csv\n",
    "\n",
    "temperatures_list = []  #almacenara el contenido de mi csv\n",
    "\n",
    "with open('temperatures.csv') as csv_file:\n",
    "    csv_reader = csv.reader(csv_file, delimiter = ',')   #accedemos a la funcion\n",
    "    print(csv_reader)\n",
    "    for row in csv_reader:\n",
    "      temperatures_list.append(row)\n",
    "      print(row)"
   ]
  },
  {
   "cell_type": "code",
   "execution_count": 29,
   "metadata": {
    "id": "atGgqqbc1Va_"
   },
   "outputs": [],
   "source": [
    "#Crea y Escribe tu CSV aqui\n",
    "with open('File.csv', 'w') as f:\n",
    "    f.write(\"Este es una archivo csv\")"
   ]
  },
  {
   "cell_type": "code",
   "execution_count": 30,
   "metadata": {
    "id": "Jqk9w5sieC0G"
   },
   "outputs": [
    {
     "name": "stdout",
     "output_type": "stream",
     "text": [
      "Este es una archivo csv\n"
     ]
    }
   ],
   "source": [
    "#Lee tu CSV aqui \n",
    "with open('File.csv') as f:\n",
    "    read_data = f.read()\n",
    "print(read_data)"
   ]
  },
  {
   "cell_type": "code",
   "execution_count": 33,
   "metadata": {
    "id": "oU_eocI-eNYX"
   },
   "outputs": [
    {
     "data": {
      "text/html": [
       "<div>\n",
       "<style scoped>\n",
       "    .dataframe tbody tr th:only-of-type {\n",
       "        vertical-align: middle;\n",
       "    }\n",
       "\n",
       "    .dataframe tbody tr th {\n",
       "        vertical-align: top;\n",
       "    }\n",
       "\n",
       "    .dataframe thead th {\n",
       "        text-align: right;\n",
       "    }\n",
       "</style>\n",
       "<table border=\"1\" class=\"dataframe\">\n",
       "  <thead>\n",
       "    <tr style=\"text-align: right;\">\n",
       "      <th></th>\n",
       "      <th>YEARMODA</th>\n",
       "      <th>TEMP</th>\n",
       "      <th>MAX</th>\n",
       "      <th>MIN</th>\n",
       "      <th>DIFF</th>\n",
       "      <th>DIFF_MIN</th>\n",
       "      <th>TEMP_CELSIUS</th>\n",
       "    </tr>\n",
       "  </thead>\n",
       "  <tbody>\n",
       "    <tr>\n",
       "      <th>0</th>\n",
       "      <td>20160601</td>\n",
       "      <td>65.5</td>\n",
       "      <td>73.6</td>\n",
       "      <td>54.7</td>\n",
       "      <td>18.9</td>\n",
       "      <td>10.8</td>\n",
       "      <td>18.6</td>\n",
       "    </tr>\n",
       "    <tr>\n",
       "      <th>1</th>\n",
       "      <td>20160602</td>\n",
       "      <td>65.8</td>\n",
       "      <td>80.8</td>\n",
       "      <td>55.0</td>\n",
       "      <td>25.8</td>\n",
       "      <td>10.8</td>\n",
       "      <td>18.8</td>\n",
       "    </tr>\n",
       "    <tr>\n",
       "      <th>2</th>\n",
       "      <td>20160603</td>\n",
       "      <td>68.4</td>\n",
       "      <td>77.9</td>\n",
       "      <td>55.6</td>\n",
       "      <td>22.3</td>\n",
       "      <td>12.8</td>\n",
       "      <td>20.2</td>\n",
       "    </tr>\n",
       "    <tr>\n",
       "      <th>3</th>\n",
       "      <td>20160604</td>\n",
       "      <td>57.5</td>\n",
       "      <td>70.9</td>\n",
       "      <td>47.3</td>\n",
       "      <td>23.6</td>\n",
       "      <td>10.2</td>\n",
       "      <td>14.2</td>\n",
       "    </tr>\n",
       "    <tr>\n",
       "      <th>4</th>\n",
       "      <td>20160605</td>\n",
       "      <td>51.4</td>\n",
       "      <td>58.3</td>\n",
       "      <td>43.2</td>\n",
       "      <td>15.1</td>\n",
       "      <td>8.2</td>\n",
       "      <td>10.8</td>\n",
       "    </tr>\n",
       "  </tbody>\n",
       "</table>\n",
       "</div>"
      ],
      "text/plain": [
       "   YEARMODA  TEMP   MAX   MIN  DIFF  DIFF_MIN  TEMP_CELSIUS\n",
       "0  20160601  65.5  73.6  54.7  18.9      10.8          18.6\n",
       "1  20160602  65.8  80.8  55.0  25.8      10.8          18.8\n",
       "2  20160603  68.4  77.9  55.6  22.3      12.8          20.2\n",
       "3  20160604  57.5  70.9  47.3  23.6      10.2          14.2\n",
       "4  20160605  51.4  58.3  43.2  15.1       8.2          10.8"
      ]
     },
     "execution_count": 33,
     "metadata": {},
     "output_type": "execute_result"
    }
   ],
   "source": [
    "#Muestra las primeras 5 columas\n",
    "import pandas as pd\n",
    "df = pd.read_csv('temperatures.csv')\n",
    "\n",
    "#Devolvemos las primeras 5 filas\n",
    "df.head(5)"
   ]
  },
  {
   "cell_type": "markdown",
   "metadata": {
    "id": "tKTXFzaPzKJq"
   },
   "source": [
    "###Lectura y exploracion de archivo CSV con Pandas"
   ]
  },
  {
   "cell_type": "markdown",
   "metadata": {
    "id": "hBLx76OvzbzE"
   },
   "source": [
    "\n",
    "[Pandas](https://pandas.pydata.org) es un módulo externo en Python que provee de herramientas para el análisis y manipulación de datos comúnmente utilizado en *Data Science* debido a que es rápido, poderoso, flexible y fácil de utilizar."
   ]
  },
  {
   "cell_type": "markdown",
   "metadata": {
    "id": "7kECivjM2aAM"
   },
   "source": [
    "Una de las principales ventajas de utilizar un DataFrame en lugar de una estructura de datos convencional de Python es el acceso a funcionalidades de uso frecuente. Una de estas es la posibilidad de realizar operaciones de agregación (metodos) sobre las columnas.\n",
    "\n",
    "Existen 13 funciones de agregación (metodos) incluidas en Pandas:\n",
    "1. `mean()`: Calcula el promedio.\n",
    "1. `sum()`: Calcula la suma.\n",
    "1. `size()`: Calcula el tamaño.\n",
    "1. `count()`: Calcula el tamaño ignorando valores vacíos.\n",
    "1. `std()`: Calcula la desviación estándar.\n",
    "1. `var()`: Calcula la varianza.\n",
    "1. `sem()`: Calcula el error estándar de los valores promedio.\n",
    "1. `describe()`: Genera estadísticas descriptivas (promedio, desviación estándar, mínimo, máximo, quartiles).\n",
    "1. `first():` Devuelve el primer elemento.\n",
    "1. `last()`: Devuelve el último elemento.\n",
    "1. `nth()` : Devuel el n-ésimo elemento para un valor de `n` entero, o un subconjunto si `n` es una lista.\n",
    "1. `min()`: Calcula el mínimo.\n",
    "1. `max()`: Calcula el máximo."
   ]
  },
  {
   "cell_type": "markdown",
   "metadata": {
    "id": "vpkKmPR2eoaX"
   },
   "source": [
    "MiniChallenge 3\n",
    "1. Entra a Kaggle, descarga el archivo [water_potability.csv](https://www.kaggle.com/adityakadiwal/water-potability?select=water_potability.csv) y subelo a tu carpeta de Files\n",
    "2. Importar la base de datos con pandas al notebook\n",
    "3. Mostrar la columna 'Turbidity'\n",
    "4. Sacar promedio de la columna 'Ph'"
   ]
  },
  {
   "cell_type": "code",
   "execution_count": null,
   "metadata": {
    "id": "pOuoVhVyzVhS"
   },
   "outputs": [],
   "source": [
    "import pandas as pd"
   ]
  },
  {
   "cell_type": "code",
   "execution_count": null,
   "metadata": {
    "id": "3VFVVl1rzf4n"
   },
   "outputs": [],
   "source": []
  },
  {
   "cell_type": "code",
   "execution_count": null,
   "metadata": {
    "id": "w3t3Omv0e0Q6"
   },
   "outputs": [],
   "source": []
  },
  {
   "cell_type": "code",
   "execution_count": null,
   "metadata": {
    "id": "yIScX4zMe0DU"
   },
   "outputs": [],
   "source": []
  },
  {
   "cell_type": "markdown",
   "metadata": {
    "id": "AgK938AnzzNT"
   },
   "source": [
    "###Accediendo a Páginas Web "
   ]
  },
  {
   "cell_type": "markdown",
   "metadata": {
    "id": "mp9uNQ6Te7sF"
   },
   "source": [
    "MiniChallenge 4\n",
    "1. Accedemos a Project Gutemberg y elegir el libro de tu preferencia en formato txt https://www.gutenberg.org/\n",
    "2. leer el libro elegido\n",
    "3. Mostrar los primeros 5000 caracteres"
   ]
  },
  {
   "cell_type": "code",
   "execution_count": null,
   "metadata": {
    "id": "CMDCXjpI0F6e"
   },
   "outputs": [],
   "source": [
    "import urllib.request"
   ]
  },
  {
   "cell_type": "code",
   "execution_count": null,
   "metadata": {
    "id": "kcG7p5km1IeL"
   },
   "outputs": [],
   "source": []
  },
  {
   "cell_type": "markdown",
   "metadata": {
    "id": "I_FHDNj-0Hds"
   },
   "source": [
    "###Manipulacion de JSON con Python"
   ]
  },
  {
   "cell_type": "markdown",
   "metadata": {
    "id": "7hirxJVp0ras"
   },
   "source": [
    "JavaScript Object Notation (JSON) El formato mas utilizado para trasferir informacion (intercambio de datos a través de la web)"
   ]
  },
  {
   "cell_type": "markdown",
   "metadata": {
    "id": "N9v6TwUJbW6S"
   },
   "source": [
    "MiniChallenge 5\n",
    " \n",
    "1. Busquemos acceder a las 'description' del json"
   ]
  },
  {
   "cell_type": "code",
   "execution_count": null,
   "metadata": {
    "id": "Fto6srjpbWlX"
   },
   "outputs": [],
   "source": [
    "import json"
   ]
  },
  {
   "cell_type": "code",
   "execution_count": null,
   "metadata": {
    "id": "O9Jh6m1C0cPV"
   },
   "outputs": [],
   "source": [
    "otro_JSON='''\n",
    "{\n",
    "    \"marcadores\": [\n",
    "      {\n",
    "        \"latitude\": 40.416875,\n",
    "        \"longitude\": -3.703308,\n",
    "        \"city\": \"Madrid\",\n",
    "        \"description\": \"Puerta del Sol\"\n",
    "      },\n",
    "      {\n",
    "        \"latitude\": 40.417438,\n",
    "        \"longitude\": -3.693363,\n",
    "        \"city\": \"Madrid\",\n",
    "        \"description\": \"Paseo del Prado\"\n",
    "      },\n",
    "      {\n",
    "        \"latitude\": 40.407015,\n",
    "        \"longitude\": -3.691163,\n",
    "        \"city\": \"Madrid\",\n",
    "        \"description\": \"Estación de Atocha\"\n",
    "      }\n",
    "    ]\n",
    "}\n",
    "\n",
    "'''"
   ]
  },
  {
   "cell_type": "code",
   "execution_count": null,
   "metadata": {
    "id": "vTu7ouo6byvY"
   },
   "outputs": [],
   "source": [
    "#Codea aqui para acceder a las 3 description de otro_JSON con ayuda de un for\n",
    "\n"
   ]
  },
  {
   "cell_type": "code",
   "execution_count": null,
   "metadata": {
    "id": "zx66ZSEc0cek"
   },
   "outputs": [],
   "source": []
  },
  {
   "cell_type": "markdown",
   "metadata": {
    "id": "vsiz_YdVAMc5"
   },
   "source": [
    "##API"
   ]
  },
  {
   "cell_type": "markdown",
   "metadata": {
    "id": "H75n3VaOBDXR"
   },
   "source": [
    "Minichallenge 6 \n",
    "\n",
    "Haz una consulta a la siguiente API y obten todos los elementos de 'sunrise' del JSON que da como resultado\n",
    "\n",
    "* [Sunrise Sunset](https://sunrise-sunset.org/api)"
   ]
  },
  {
   "cell_type": "code",
   "execution_count": null,
   "metadata": {
    "id": "bNqAR_btAOQG"
   },
   "outputs": [],
   "source": [
    "import requests    "
   ]
  },
  {
   "cell_type": "code",
   "execution_count": null,
   "metadata": {
    "id": "5Sf65z0_APCG"
   },
   "outputs": [],
   "source": []
  }
 ],
 "metadata": {
  "colab": {
   "name": "Challenge.ipynb",
   "provenance": []
  },
  "kernelspec": {
   "display_name": "Python 3",
   "language": "python",
   "name": "python3"
  },
  "language_info": {
   "codemirror_mode": {
    "name": "ipython",
    "version": 3
   },
   "file_extension": ".py",
   "mimetype": "text/x-python",
   "name": "python",
   "nbconvert_exporter": "python",
   "pygments_lexer": "ipython3",
   "version": "3.8.5"
  }
 },
 "nbformat": 4,
 "nbformat_minor": 1
}
