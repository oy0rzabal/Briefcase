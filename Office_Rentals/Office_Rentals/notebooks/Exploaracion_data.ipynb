{
 "cells": [
  {
   "cell_type": "markdown",
   "metadata": {},
   "source": [
    "# Primera Exploracion de nuestros datos"
   ]
  },
  {
   "cell_type": "markdown",
   "metadata": {},
   "source": [
    "### Iniciamos las primeras instalaciones de las librerias para iniciar nuestras exploracion."
   ]
  },
  {
   "cell_type": "code",
   "execution_count": 6,
   "metadata": {},
   "outputs": [],
   "source": [
    "#importamos la libreria matplotlib\n",
    "import matplotlib.pyplot as mp\n",
    "\n",
    "#importamos la libreria de pandas\n",
    "import pandas as pd\n",
    "\n",
    "#importamos numpy\n",
    "import numpy as np\n",
    "\n",
    "#importamos missingo\n",
    "import missingno as ms"
   ]
  },
  {
   "cell_type": "code",
   "execution_count": null,
   "metadata": {},
   "outputs": [],
   "source": [
    "df = pd.read_csv('')"
   ]
  }
 ],
 "metadata": {
  "interpreter": {
   "hash": "31c0aa2156f50712dcb49d4598f39fdcf879f1903ffb438882857aea2bfd2385"
  },
  "kernelspec": {
   "display_name": "Python 3.9.7 64-bit ('base': conda)",
   "language": "python",
   "name": "python3"
  },
  "language_info": {
   "codemirror_mode": {
    "name": "ipython",
    "version": 3
   },
   "file_extension": ".py",
   "mimetype": "text/x-python",
   "name": "python",
   "nbconvert_exporter": "python",
   "pygments_lexer": "ipython3",
   "version": "3.9.7"
  },
  "orig_nbformat": 4
 },
 "nbformat": 4,
 "nbformat_minor": 2
}
