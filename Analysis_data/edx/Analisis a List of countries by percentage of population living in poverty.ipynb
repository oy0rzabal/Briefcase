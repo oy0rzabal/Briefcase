{
 "cells": [
  {
   "cell_type": "markdown",
   "metadata": {},
   "source": [
    "<img src=\"img2/Banner Curso 1_.jpg\" width=\"921\" height=\"89\" align=\"center\"/>\n",
    "\n",
    "<h1><center>Introducción a la ciencia de datos con Python - AnáhuacX</center></h1>\n",
    "<h2><center>Actividad 2</center></h2>\n",
    "\n",
    "La pobreza es un tema de suma relevancia para la agenda de todos los gobiernos alrededor del mundo. Los esfuerzos de múltiples naciones se han consolidado en los __Objetivos de Desarrollo Sostenible__ propuestos por la ONU, organización de la que México y muchos países de latinoamérica forman parte. Conocer la magnitud del problema es prioridad en orden para proponer intervenciones eficaces que abonen a disminuir la brecha de desigualdad.\n",
    "\n",
    "<img src=\"img2/S-SDG-Poster_-Letter.jpg\" width=\"800\" height=\"800\" align=\"center\"/>\n",
    "\n",
    "__En la siguiente actividad limpiarás y explorarás un dataframe en el que encontrarás datos relevantes al análisis de la pobreza en los diferentes países que integran a la Organización de las Naciones Unidas.__\n",
    "\n",
    "<br>\n",
    "<br>\n",
    "<br>\n"
   ]
  },
  {
   "cell_type": "markdown",
   "metadata": {},
   "source": [
    "1. Importa las librerías de Pandas, Numpy, Requests, Webbrowser y Beautiful soup a tu libreta. Las estaremos utilizando a lo largo del ejercicio."
   ]
  },
  {
   "cell_type": "code",
   "execution_count": 1,
   "metadata": {},
   "outputs": [],
   "source": [
    "import pandas as pd\n",
    "\n",
    "import numpy as np\n",
    "\n",
    "import requests\n",
    "\n",
    "import webbrowser\n",
    "\n",
    "from bs4 import BeautifulSoup"
   ]
  },
  {
   "cell_type": "markdown",
   "metadata": {},
   "source": [
    "2. Accede a la siguiente página web desde tu libreta utilizando webbrowser. \n",
    "\n",
    "_https://en.wikipedia.org/wiki/List_of_countries_by_percentage_of_population_living_in_poverty_"
   ]
  },
  {
   "cell_type": "code",
   "execution_count": 2,
   "metadata": {},
   "outputs": [
    {
     "data": {
      "text/plain": [
       "True"
      ]
     },
     "execution_count": 2,
     "metadata": {},
     "output_type": "execute_result"
    }
   ],
   "source": [
    "webbrowser.open('https://en.wikipedia.org/wiki/List_of_countries_by_percentage_of_population_living_in_poverty')"
   ]
  },
  {
   "cell_type": "markdown",
   "metadata": {},
   "source": [
    "3. Descarga en tu libreta la página proporcionada y obtén todas las tablas utilizando la librería requests y beautiful soup. Recuerda escribir el número de tabla correcto. Te recomendamos explorar la página."
   ]
  },
  {
   "cell_type": "code",
   "execution_count": 3,
   "metadata": {},
   "outputs": [
    {
     "data": {
      "text/plain": [
       "<Response [200]>"
      ]
     },
     "execution_count": 3,
     "metadata": {},
     "output_type": "execute_result"
    }
   ],
   "source": [
    "res = requests.get('https://en.wikipedia.org/wiki/List_of_countries_by_percentage_of_population_living_in_poverty')\n",
    "\n",
    "res"
   ]
  },
  {
   "cell_type": "code",
   "execution_count": 54,
   "metadata": {},
   "outputs": [],
   "source": [
    "soup = BeautifulSoup(res.content)\n",
    "table = soup.find_all('table')"
   ]
  },
  {
   "cell_type": "markdown",
   "metadata": {},
   "source": [
    "4. Utilizando la función “read_html” de la librería “Pandas” guarda la tabla __\"Percent of population (including non-citizens) living under \\\\$1,90, \\\\$3,20 and \\\\$5,50 a day\"__ en una variable llamada “df”. \n",
    "\n",
    "_Sugerencia: Ocupa la función \"head\" de la librería \"Pandas\" para mostrar los primeros cinco elementos y verificar que haya funcionado lo anterior._"
   ]
  },
  {
   "cell_type": "code",
   "execution_count": 5,
   "metadata": {},
   "outputs": [],
   "source": [
    "df = pd.read_html(str(table))\n",
    "df = df[0]"
   ]
  },
  {
   "cell_type": "code",
   "execution_count": 6,
   "metadata": {},
   "outputs": [
    {
     "data": {
      "text/html": [
       "<div>\n",
       "<style scoped>\n",
       "    .dataframe tbody tr th:only-of-type {\n",
       "        vertical-align: middle;\n",
       "    }\n",
       "\n",
       "    .dataframe tbody tr th {\n",
       "        vertical-align: top;\n",
       "    }\n",
       "\n",
       "    .dataframe thead th {\n",
       "        text-align: right;\n",
       "    }\n",
       "</style>\n",
       "<table border=\"1\" class=\"dataframe\">\n",
       "  <thead>\n",
       "    <tr style=\"text-align: right;\">\n",
       "      <th></th>\n",
       "      <th>Country</th>\n",
       "      <th>&lt; $1.90[8][1]</th>\n",
       "      <th>&lt; $3.20[6]</th>\n",
       "      <th>&lt; $5.50[7]</th>\n",
       "      <th>Year</th>\n",
       "      <th>Continent</th>\n",
       "    </tr>\n",
       "  </thead>\n",
       "  <tbody>\n",
       "    <tr>\n",
       "      <th>0</th>\n",
       "      <td>Albania</td>\n",
       "      <td>1.3%</td>\n",
       "      <td>8.2%</td>\n",
       "      <td>33.8%</td>\n",
       "      <td>2017</td>\n",
       "      <td>Europe</td>\n",
       "    </tr>\n",
       "    <tr>\n",
       "      <th>1</th>\n",
       "      <td>Algeria</td>\n",
       "      <td>0.4%</td>\n",
       "      <td>3.7%</td>\n",
       "      <td>28.6%</td>\n",
       "      <td>2011</td>\n",
       "      <td>Africa</td>\n",
       "    </tr>\n",
       "    <tr>\n",
       "      <th>2</th>\n",
       "      <td>Angola</td>\n",
       "      <td>49.9%</td>\n",
       "      <td>72.0%</td>\n",
       "      <td>89.3%</td>\n",
       "      <td>2018</td>\n",
       "      <td>Africa</td>\n",
       "    </tr>\n",
       "    <tr>\n",
       "      <th>3</th>\n",
       "      <td>Argentina</td>\n",
       "      <td>1.5%</td>\n",
       "      <td>5.0%</td>\n",
       "      <td>14.0%</td>\n",
       "      <td>2019</td>\n",
       "      <td>South America</td>\n",
       "    </tr>\n",
       "    <tr>\n",
       "      <th>4</th>\n",
       "      <td>Armenia</td>\n",
       "      <td>1.1%</td>\n",
       "      <td>10.0%</td>\n",
       "      <td>44.0%</td>\n",
       "      <td>2019</td>\n",
       "      <td>Asia</td>\n",
       "    </tr>\n",
       "  </tbody>\n",
       "</table>\n",
       "</div>"
      ],
      "text/plain": [
       "     Country < $1.90[8][1] < $3.20[6] < $5.50[7]  Year      Continent\n",
       "0    Albania          1.3%       8.2%      33.8%  2017         Europe\n",
       "1    Algeria          0.4%       3.7%      28.6%  2011         Africa\n",
       "2     Angola         49.9%      72.0%      89.3%  2018         Africa\n",
       "3  Argentina          1.5%       5.0%      14.0%  2019  South America\n",
       "4    Armenia          1.1%      10.0%      44.0%  2019           Asia"
      ]
     },
     "execution_count": 6,
     "metadata": {},
     "output_type": "execute_result"
    }
   ],
   "source": [
    "df.head()"
   ]
  },
  {
   "cell_type": "markdown",
   "metadata": {},
   "source": [
    "5. __¿Cuántas filas tiene el dataframe?__ Recuerda utilizar tu libreta de Python para encontrar la respuesta."
   ]
  },
  {
   "cell_type": "markdown",
   "metadata": {},
   "source": [
    "6. __¿Cuántas columnas posee el dataframe?__"
   ]
  },
  {
   "cell_type": "code",
   "execution_count": 7,
   "metadata": {},
   "outputs": [
    {
     "data": {
      "text/plain": [
       "(164, 6)"
      ]
     },
     "execution_count": 7,
     "metadata": {},
     "output_type": "execute_result"
    }
   ],
   "source": [
    "df.shape"
   ]
  },
  {
   "cell_type": "markdown",
   "metadata": {},
   "source": [
    "7.\tDebido a que los datos de la tabla contienen registros vacíos y el símbolo de porcentaje, es necesario que realices una limpieza de estos datos; utiliza las funciones __\"replace\"__ y __\"dropna\"__ de \"Pandas\" para lograrlo. \n",
    "\n",
    "__Ejemplo de sintaxis de la función \"replace\": df = df.replace({'%':\"\"}, regex = True).__ (Se sugiere utilizar la función \"head\" con la tabla  modificada para visualizar que todo se encuentre en orden).\n",
    "\n",
    "__¿Cuántas filas quedaron después de hacer esto?__"
   ]
  },
  {
   "cell_type": "raw",
   "metadata": {},
   "source": [
    "df.isna().head(160)"
   ]
  },
  {
   "cell_type": "code",
   "execution_count": 8,
   "metadata": {},
   "outputs": [],
   "source": [
    "df = df.replace({'%':\"\"}, regex = True)"
   ]
  },
  {
   "cell_type": "code",
   "execution_count": 9,
   "metadata": {},
   "outputs": [
    {
     "data": {
      "text/html": [
       "<div>\n",
       "<style scoped>\n",
       "    .dataframe tbody tr th:only-of-type {\n",
       "        vertical-align: middle;\n",
       "    }\n",
       "\n",
       "    .dataframe tbody tr th {\n",
       "        vertical-align: top;\n",
       "    }\n",
       "\n",
       "    .dataframe thead th {\n",
       "        text-align: right;\n",
       "    }\n",
       "</style>\n",
       "<table border=\"1\" class=\"dataframe\">\n",
       "  <thead>\n",
       "    <tr style=\"text-align: right;\">\n",
       "      <th></th>\n",
       "      <th>Country</th>\n",
       "      <th>&lt; $1.90[8][1]</th>\n",
       "      <th>&lt; $3.20[6]</th>\n",
       "      <th>&lt; $5.50[7]</th>\n",
       "      <th>Year</th>\n",
       "      <th>Continent</th>\n",
       "    </tr>\n",
       "  </thead>\n",
       "  <tbody>\n",
       "    <tr>\n",
       "      <th>0</th>\n",
       "      <td>Albania</td>\n",
       "      <td>1.3</td>\n",
       "      <td>8.2</td>\n",
       "      <td>33.8</td>\n",
       "      <td>2017</td>\n",
       "      <td>Europe</td>\n",
       "    </tr>\n",
       "    <tr>\n",
       "      <th>1</th>\n",
       "      <td>Algeria</td>\n",
       "      <td>0.4</td>\n",
       "      <td>3.7</td>\n",
       "      <td>28.6</td>\n",
       "      <td>2011</td>\n",
       "      <td>Africa</td>\n",
       "    </tr>\n",
       "    <tr>\n",
       "      <th>2</th>\n",
       "      <td>Angola</td>\n",
       "      <td>49.9</td>\n",
       "      <td>72.0</td>\n",
       "      <td>89.3</td>\n",
       "      <td>2018</td>\n",
       "      <td>Africa</td>\n",
       "    </tr>\n",
       "    <tr>\n",
       "      <th>3</th>\n",
       "      <td>Argentina</td>\n",
       "      <td>1.5</td>\n",
       "      <td>5.0</td>\n",
       "      <td>14.0</td>\n",
       "      <td>2019</td>\n",
       "      <td>South America</td>\n",
       "    </tr>\n",
       "    <tr>\n",
       "      <th>4</th>\n",
       "      <td>Armenia</td>\n",
       "      <td>1.1</td>\n",
       "      <td>10.0</td>\n",
       "      <td>44.0</td>\n",
       "      <td>2019</td>\n",
       "      <td>Asia</td>\n",
       "    </tr>\n",
       "  </tbody>\n",
       "</table>\n",
       "</div>"
      ],
      "text/plain": [
       "     Country < $1.90[8][1] < $3.20[6] < $5.50[7]  Year      Continent\n",
       "0    Albania           1.3        8.2       33.8  2017         Europe\n",
       "1    Algeria           0.4        3.7       28.6  2011         Africa\n",
       "2     Angola          49.9       72.0       89.3  2018         Africa\n",
       "3  Argentina           1.5        5.0       14.0  2019  South America\n",
       "4    Armenia           1.1       10.0       44.0  2019           Asia"
      ]
     },
     "execution_count": 9,
     "metadata": {},
     "output_type": "execute_result"
    }
   ],
   "source": [
    "df.head()"
   ]
  },
  {
   "cell_type": "markdown",
   "metadata": {},
   "source": [
    "8.\tVerifica el tipo de datos que poseen las columnas de tu dataframe utilizando la función __“info”__. (Puedes encontrar más información acerca de cómo utilizar esta función a través del siguiente link: https://www.geeksforgeeks.org/python-pandas-dataframe-info/ \n",
    "\n",
    "__¿Cuál es el tipo de datos que aparece en la mayoría de las columnas?__"
   ]
  },
  {
   "cell_type": "code",
   "execution_count": 10,
   "metadata": {},
   "outputs": [
    {
     "name": "stdout",
     "output_type": "stream",
     "text": [
      "<class 'pandas.core.frame.DataFrame'>\n",
      "RangeIndex: 164 entries, 0 to 163\n",
      "Data columns (total 6 columns):\n",
      " #   Column         Non-Null Count  Dtype \n",
      "---  ------         --------------  ----- \n",
      " 0   Country        164 non-null    object\n",
      " 1   < $1.90[8][1]  164 non-null    object\n",
      " 2   < $3.20[6]     164 non-null    object\n",
      " 3   < $5.50[7]     164 non-null    object\n",
      " 4   Year           164 non-null    int64 \n",
      " 5   Continent      164 non-null    object\n",
      "dtypes: int64(1), object(5)\n",
      "memory usage: 7.8+ KB\n"
     ]
    }
   ],
   "source": [
    "df.info()"
   ]
  },
  {
   "cell_type": "markdown",
   "metadata": {},
   "source": [
    "9.\tTransforma las columnas “< \\\\$1.90[1]”, “< \\\\$3.20[5]”, “< \\\\$5.50[6]” a tipo __flotante__ para que puedas hacer análisis con ellas. Para esto te recomendamos utilizar la función __“astype”__. Para más información te recomendamos entrar a el siguiente vínculo: \n",
    "\n",
    "https://www.geeksforgeeks.org/python-pandas-dataframe-astype/#:~:text=astype()%20method%20is%20used,type%20to%20another%20data%20type. "
   ]
  },
  {
   "cell_type": "code",
   "execution_count": 63,
   "metadata": {},
   "outputs": [
    {
     "name": "stdout",
     "output_type": "stream",
     "text": [
      "      Country     $1.90  $3.20  $5.50  Year      Continent\n",
      "0     Albania       1.3    8.2   33.8  2017         Europe\n",
      "1     Algeria       0.4    3.7   28.6  2011         Africa\n",
      "2      Angola      49.9   72.0   89.3  2018         Africa\n",
      "3   Argentina       1.5    5.0   14.0  2019  South America\n",
      "4     Armenia       1.1   10.0   44.0  2019           Asia\n",
      "..        ...       ...    ...    ...   ...            ...\n",
      "59      Haiti      24.5   50.8   78.9  2012  North America\n",
      "60   Honduras      14.8   29.0   49.0  2019  North America\n",
      "61    Hungary       0.2    0.6    2.0  2018         Europe\n",
      "62    Iceland       0.0    0.0    0.2  2017         Europe\n",
      "63      India  10.6[11]   45.2   79.5  2017           Asia\n",
      "\n",
      "[64 rows x 6 columns]\n"
     ]
    }
   ],
   "source": [
    "#Cambio de nombre de las columnas\n",
    "df.rename(columns={'< $1.90[8][1]': '$1.90','< $3.20[6]': '$3.20', '< $5.50[7]':'$5.50'}, inplace=True)\n",
    "\n",
    "#Imprimimos el resultado de la transformacion de las columnas\n",
    "print(df.head(64))"
   ]
  },
  {
   "cell_type": "code",
   "execution_count": 56,
   "metadata": {},
   "outputs": [
    {
     "data": {
      "text/plain": [
       "Country       object\n",
       "$1.90         string\n",
       "$3.20        float64\n",
       "$5.50        float64\n",
       "Year           int64\n",
       "Continent     object\n",
       "dtype: object"
      ]
     },
     "execution_count": 56,
     "metadata": {},
     "output_type": "execute_result"
    }
   ],
   "source": [
    "df.iloc(['2':'63'])"
   ]
  },
  {
   "cell_type": "code",
   "execution_count": null,
   "metadata": {},
   "outputs": [],
   "source": [
    "df['$1.90'] = df['$1.90'].convert_dtypes(float)\n",
    "df.dtypes"
   ]
  },
  {
   "cell_type": "code",
   "execution_count": 61,
   "metadata": {},
   "outputs": [
    {
     "ename": "ValueError",
     "evalue": "Unable to parse string \"10.6[11]\" at position 63",
     "output_type": "error",
     "traceback": [
      "\u001b[1;31m---------------------------------------------------------------------------\u001b[0m",
      "\u001b[1;31mValueError\u001b[0m                                Traceback (most recent call last)",
      "\u001b[1;32m~\\anaconda3\\lib\\site-packages\\pandas\\_libs\\lib.pyx\u001b[0m in \u001b[0;36mpandas._libs.lib.maybe_convert_numeric\u001b[1;34m()\u001b[0m\n",
      "\u001b[1;31mValueError\u001b[0m: Unable to parse string \"10.6[11]\"",
      "\nDuring handling of the above exception, another exception occurred:\n",
      "\u001b[1;31mValueError\u001b[0m                                Traceback (most recent call last)",
      "\u001b[1;32m~\\AppData\\Local\\Temp/ipykernel_7604/3630565339.py\u001b[0m in \u001b[0;36m<module>\u001b[1;34m\u001b[0m\n\u001b[1;32m----> 1\u001b[1;33m \u001b[0mdf\u001b[0m\u001b[1;33m[\u001b[0m\u001b[1;34m'$1.90'\u001b[0m\u001b[1;33m]\u001b[0m \u001b[1;33m=\u001b[0m \u001b[0mpd\u001b[0m\u001b[1;33m.\u001b[0m\u001b[0mto_numeric\u001b[0m\u001b[1;33m(\u001b[0m\u001b[0mdf\u001b[0m\u001b[1;33m[\u001b[0m\u001b[1;34m'$1.90'\u001b[0m\u001b[1;33m]\u001b[0m\u001b[1;33m,\u001b[0m \u001b[0mdowncast\u001b[0m\u001b[1;33m=\u001b[0m\u001b[1;34m\"float\"\u001b[0m\u001b[1;33m)\u001b[0m\u001b[1;33m\u001b[0m\u001b[1;33m\u001b[0m\u001b[0m\n\u001b[0m",
      "\u001b[1;32m~\\anaconda3\\lib\\site-packages\\pandas\\core\\tools\\numeric.py\u001b[0m in \u001b[0;36mto_numeric\u001b[1;34m(arg, errors, downcast)\u001b[0m\n\u001b[0;32m    181\u001b[0m         \u001b[0mcoerce_numeric\u001b[0m \u001b[1;33m=\u001b[0m \u001b[0merrors\u001b[0m \u001b[1;32mnot\u001b[0m \u001b[1;32min\u001b[0m \u001b[1;33m(\u001b[0m\u001b[1;34m\"ignore\"\u001b[0m\u001b[1;33m,\u001b[0m \u001b[1;34m\"raise\"\u001b[0m\u001b[1;33m)\u001b[0m\u001b[1;33m\u001b[0m\u001b[1;33m\u001b[0m\u001b[0m\n\u001b[0;32m    182\u001b[0m         \u001b[1;32mtry\u001b[0m\u001b[1;33m:\u001b[0m\u001b[1;33m\u001b[0m\u001b[1;33m\u001b[0m\u001b[0m\n\u001b[1;32m--> 183\u001b[1;33m             values, _ = lib.maybe_convert_numeric(\n\u001b[0m\u001b[0;32m    184\u001b[0m                 \u001b[0mvalues\u001b[0m\u001b[1;33m,\u001b[0m \u001b[0mset\u001b[0m\u001b[1;33m(\u001b[0m\u001b[1;33m)\u001b[0m\u001b[1;33m,\u001b[0m \u001b[0mcoerce_numeric\u001b[0m\u001b[1;33m=\u001b[0m\u001b[0mcoerce_numeric\u001b[0m\u001b[1;33m\u001b[0m\u001b[1;33m\u001b[0m\u001b[0m\n\u001b[0;32m    185\u001b[0m             )\n",
      "\u001b[1;32m~\\anaconda3\\lib\\site-packages\\pandas\\_libs\\lib.pyx\u001b[0m in \u001b[0;36mpandas._libs.lib.maybe_convert_numeric\u001b[1;34m()\u001b[0m\n",
      "\u001b[1;31mValueError\u001b[0m: Unable to parse string \"10.6[11]\" at position 63"
     ]
    }
   ],
   "source": [
    "df['$1.90'] = pd.to_numeric(df['$1.90'], downcast=\"float\")"
   ]
  },
  {
   "cell_type": "code",
   "execution_count": 51,
   "metadata": {},
   "outputs": [
    {
     "data": {
      "text/plain": [
       "Country       object\n",
       "$1.90         string\n",
       "$3.20        float64\n",
       "$5.50        float64\n",
       "Year           int64\n",
       "Continent     object\n",
       "dtype: object"
      ]
     },
     "execution_count": 51,
     "metadata": {},
     "output_type": "execute_result"
    }
   ],
   "source": [
    "df['$3.20'] = df['$3.20'].astype(float)\n",
    "df.dtypes"
   ]
  },
  {
   "cell_type": "code",
   "execution_count": 52,
   "metadata": {},
   "outputs": [
    {
     "data": {
      "text/plain": [
       "Country       object\n",
       "$1.90         string\n",
       "$3.20        float64\n",
       "$5.50        float64\n",
       "Year           int64\n",
       "Continent     object\n",
       "dtype: object"
      ]
     },
     "execution_count": 52,
     "metadata": {},
     "output_type": "execute_result"
    }
   ],
   "source": [
    "df['$5.50'] = df['$5.50'].astype(float)\n",
    "df.dtypes"
   ]
  },
  {
   "cell_type": "markdown",
   "metadata": {},
   "source": [
    "10. Utiliza la función __describe__ en el dataframe y responde __¿Cuál es el promedio del porcentaje de la población que vive con menos de $5,50 dólares al día?__"
   ]
  },
  {
   "cell_type": "code",
   "execution_count": null,
   "metadata": {},
   "outputs": [],
   "source": []
  },
  {
   "cell_type": "code",
   "execution_count": null,
   "metadata": {},
   "outputs": [],
   "source": []
  },
  {
   "cell_type": "markdown",
   "metadata": {},
   "source": [
    "11.\t__¿Cuál es el porcentaje máximo de personas que viven con menos de \\\\$1,90 dólares al día?__"
   ]
  },
  {
   "cell_type": "code",
   "execution_count": null,
   "metadata": {},
   "outputs": [],
   "source": []
  },
  {
   "cell_type": "markdown",
   "metadata": {},
   "source": [
    "12. __¿Cuál es el país que posee ese último porcentaje?__"
   ]
  },
  {
   "cell_type": "code",
   "execution_count": null,
   "metadata": {},
   "outputs": [],
   "source": []
  },
  {
   "cell_type": "markdown",
   "metadata": {},
   "source": [
    "13.\t__¿Cuál es el porcentaje de la población en México que gana menos de \\\\$1,90 dólares al día?__"
   ]
  },
  {
   "cell_type": "code",
   "execution_count": null,
   "metadata": {},
   "outputs": [],
   "source": []
  },
  {
   "cell_type": "markdown",
   "metadata": {},
   "source": [
    "14.\t__¿Cuáles son los 5 países que tienen el mayor porcentaje de población que gana menos de \\\\$1,90 dólares al día?__"
   ]
  },
  {
   "cell_type": "code",
   "execution_count": null,
   "metadata": {},
   "outputs": [
    {
     "ename": "NameError",
     "evalue": "name 'df' is not defined",
     "output_type": "error",
     "traceback": [
      "\u001b[1;31m---------------------------------------------------------------------------\u001b[0m",
      "\u001b[1;31mNameError\u001b[0m                                 Traceback (most recent call last)",
      "\u001b[1;32m<ipython-input-1-b8e95c268ef1>\u001b[0m in \u001b[0;36m<module>\u001b[1;34m\u001b[0m\n\u001b[1;32m----> 1\u001b[1;33m \u001b[0mdf\u001b[0m\u001b[1;33m[\u001b[0m\u001b[1;34m'5.50'\u001b[0m\u001b[1;33m]\u001b[0m\u001b[1;33m.\u001b[0m\u001b[0mhead\u001b[0m\u001b[1;33m(\u001b[0m\u001b[1;33m)\u001b[0m\u001b[1;33m.\u001b[0m\u001b[0mdescribe\u001b[0m\u001b[1;33m(\u001b[0m\u001b[1;33m)\u001b[0m\u001b[1;33m\u001b[0m\u001b[1;33m\u001b[0m\u001b[0m\n\u001b[0m",
      "\u001b[1;31mNameError\u001b[0m: name 'df' is not defined"
     ]
    }
   ],
   "source": [
    "df['5.50'].head().describe()"
   ]
  },
  {
   "cell_type": "markdown",
   "metadata": {},
   "source": [
    "15.\tUtiliza la función \"drop\" de \"Pandas\" para eliminar la columna \"year\" y así simplificar más tu conjunto de datos."
   ]
  },
  {
   "cell_type": "code",
   "execution_count": null,
   "metadata": {},
   "outputs": [],
   "source": []
  },
  {
   "cell_type": "markdown",
   "metadata": {},
   "source": [
    "16.\tUtiliza la función “groupby” y contesta la siguiente pregunta __¿Cuál es el porcentaje promedio de la población en Sudamérica que vive con menos de \\\\$3,20 dólares al día?__"
   ]
  },
  {
   "cell_type": "code",
   "execution_count": null,
   "metadata": {},
   "outputs": [],
   "source": []
  },
  {
   "cell_type": "markdown",
   "metadata": {},
   "source": [
    "17.\t__¿Cuál es el país que está en el lugar 140 de la lista?__"
   ]
  },
  {
   "cell_type": "code",
   "execution_count": null,
   "metadata": {},
   "outputs": [],
   "source": []
  },
  {
   "cell_type": "markdown",
   "metadata": {},
   "source": [
    "18.\t__¿Cuál es el país que posee el 140 como número de índice?__"
   ]
  },
  {
   "cell_type": "code",
   "execution_count": null,
   "metadata": {},
   "outputs": [],
   "source": []
  },
  {
   "cell_type": "markdown",
   "metadata": {},
   "source": [
    "19.\t__¿Cuál es el país de América del sur que tiene menos porcentaje de población ganando \\\\$1,90 dólares al día?__"
   ]
  },
  {
   "cell_type": "code",
   "execution_count": null,
   "metadata": {},
   "outputs": [],
   "source": []
  },
  {
   "cell_type": "markdown",
   "metadata": {},
   "source": [
    "20.\t__¿Cuál es el país de América del sur que tiene más porcentaje de población ganando \\\\$1,90 dólares al día?__"
   ]
  },
  {
   "cell_type": "code",
   "execution_count": null,
   "metadata": {},
   "outputs": [],
   "source": []
  },
  {
   "cell_type": "markdown",
   "metadata": {},
   "source": [
    "21.\t__¿Cuál es el país de América del norte que tiene más porcentaje de población ganando \\\\$5,50 dólares al día?__"
   ]
  },
  {
   "cell_type": "code",
   "execution_count": null,
   "metadata": {},
   "outputs": [],
   "source": []
  },
  {
   "cell_type": "markdown",
   "metadata": {},
   "source": [
    "22.\t__¿Cuál es el país de América del norte que tiene menos porcentaje de población ganando \\\\$3,20 dólares al día?__"
   ]
  },
  {
   "cell_type": "code",
   "execution_count": null,
   "metadata": {
    "scrolled": true
   },
   "outputs": [],
   "source": []
  },
  {
   "cell_type": "markdown",
   "metadata": {},
   "source": [
    "23.\tUtiliza la función \"to_csv\" de \"Pandas\" para generar un archivo .csv con los datos trabajados. Ejemplo de la sintaxis de la función anterior: df.to_csv(\"NOMBRE.csv\")"
   ]
  },
  {
   "cell_type": "code",
   "execution_count": null,
   "metadata": {},
   "outputs": [],
   "source": []
  },
  {
   "cell_type": "markdown",
   "metadata": {},
   "source": [
    "24. Guarda tu libreta, tu archivo csv recién creado y colócalos en una carpeta comprimida con extensión __.zip__. Sube el archivo .zip a la plataforma de EdX y califica los ejercicios de tus demás compañeros.\n",
    "<img src=\"img3/Anáhuac_edX.png\" width=\"498\" height=\"150\" align=\"center\"/>"
   ]
  }
 ],
 "metadata": {
  "interpreter": {
   "hash": "31c0aa2156f50712dcb49d4598f39fdcf879f1903ffb438882857aea2bfd2385"
  },
  "kernelspec": {
   "display_name": "Python 3.8.8 64-bit ('base': conda)",
   "name": "python3"
  },
  "language_info": {
   "codemirror_mode": {
    "name": "ipython",
    "version": 3
   },
   "file_extension": ".py",
   "mimetype": "text/x-python",
   "name": "python",
   "nbconvert_exporter": "python",
   "pygments_lexer": "ipython3",
   "version": "3.9.7"
  }
 },
 "nbformat": 4,
 "nbformat_minor": 4
}
