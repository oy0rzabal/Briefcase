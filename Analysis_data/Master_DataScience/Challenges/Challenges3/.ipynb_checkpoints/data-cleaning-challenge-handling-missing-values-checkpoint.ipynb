{
 "cells": [
  {
   "cell_type": "markdown",
   "metadata": {
    "_cell_guid": "b91a74ba-85f4-486e-b5f9-d0898f0626bf",
    "_uuid": "6ac53f18b4f4ec0fc44348cedb5d1c319fa127c0"
   },
   "source": [
    "### All days of the challange:\n",
    "\n",
    "* [Day 1: Handling missing values](https://www.kaggle.com/rtatman/data-cleaning-challenge-handling-missing-values)\n",
    "* [Day 2: Scaling and normalization](https://www.kaggle.com/rtatman/data-cleaning-challenge-scale-and-normalize-data)\n",
    "* [Day 3: Parsing dates](https://www.kaggle.com/rtatman/data-cleaning-challenge-parsing-dates/)\n",
    "* [Day 4: Character encodings](https://www.kaggle.com/rtatman/data-cleaning-challenge-character-encodings/)\n",
    "* [Day 5: Inconsistent Data Entry](https://www.kaggle.com/rtatman/data-cleaning-challenge-inconsistent-data-entry/)\n",
    "___\n",
    "¡Bienvenido al día 1 del Desafío de datos de 5 días! Hoy, veremos cómo lidiar con los valores perdidos. Para comenzar, haga clic en el botón azul \"Fork Notebook\" en la esquina superior derecha. Esto creará una copia privada de este cuaderno que puede editar y jugar. Una vez que haya terminado con los ejercicios, puede optar por hacer público su cuaderno para compartirlo con otros. :)\n",
    "\n",
    "> **¡Tu turno!** Mientras trabajamos en este cuaderno, verá algunas celdas del cuaderno (un bloque de código o texto) que tiene \"¡Tu turno!\" escrito en él. Estos son ejercicios que puede realizar para ayudar a consolidar su comprensión de los conceptos de los que estamos hablando. Una vez que haya escrito el código para responder una pregunta específica, puede ejecutar el código haciendo clic dentro de la celda (cuadro con el código) con el código que desea ejecutar y luego presione CTRL + ENTER (CMD + ENTER en una Mac ). También puede hacer clic en una celda y luego hacer clic en la flecha derecha \"reproducir\" a la izquierda del código. Si desea ejecutar todo el código en su cuaderno, puede usar las flechas dobles de \"avance rápido\" en la parte inferior del editor del cuaderno.\n",
    "\n",
    "Esto es lo que haremos hoy:\n",
    "\n",
    "* [Take a first look at the data](#Take-a-first-look-at-the-data)\n",
    "* [See how many missing data points we have](#See-how-many-missing-data-points-we-have)\n",
    "* [Figure out why the data is missing](#Figure-out-why-the-data-is-missing)\n",
    "* [Drop missing values](#Drop-missing-values)\n",
    "* [Filling in missing values](#Filling-in-missing-values)\n",
    "\n",
    "¡Empecemos!"
   ]
  },
  {
   "cell_type": "markdown",
   "metadata": {
    "_cell_guid": "5cd5061f-ae30-4837-a53b-690ffd5c5830",
    "_uuid": "9d82bf13584b8e682962fbb96131f2447d741679"
   },
   "source": [
    "# Eche un primer vistazo a los datos\n",
    "________\n",
    "\n",
    "Lo primero que tendremos que hacer es cargar las bibliotecas y los conjuntos de datos que usaremos. Por hoy, usaré un conjunto de datos de eventos que ocurrieron en los juegos de fútbol americano para la demostración, y usted usará un conjunto de datos de permisos de construcción emitidos en San Francisco.\n",
    "\n",
    "> **¡Importante!** ¡Asegúrese de ejecutar esta celda usted mismo o el resto de su código no funcionará!"
   ]
  },
  {
   "cell_type": "code",
   "execution_count": null,
   "metadata": {
    "_cell_guid": "135a7804-b5f5-40aa-8657-4a15774e3666",
    "_uuid": "835cbe0834b935fb0fd40c75b9c39454836f4d5f",
    "collapsed": true
   },
   "outputs": [],
   "source": [
    "# modules we'll use\n",
    "import pandas as pd\n",
    "import numpy as np\n",
    "\n",
    "# read in all our data\n",
    "nfl_data = pd.read_csv(\"../input/nflplaybyplay2009to2016/NFL Play by Play 2009-2017 (v4).csv\")\n",
    "sf_permits = pd.read_csv(\"../input/building-permit-applications-data/Building_Permits.csv\")\n",
    "\n",
    "# set seed for reproducibility\n",
    "np.random.seed(0) "
   ]
  },
  {
   "cell_type": "markdown",
   "metadata": {
    "_cell_guid": "09b58d03-d34d-497a-b298-12a0ae962e3d",
    "_uuid": "53c84bf86149ac41b237633a1a79d6130d6a2cd4"
   },
   "source": [
    "Lo primero que hago cuando obtengo un nuevo conjunto de datos es echarle un vistazo. Esto me permite ver que todo se lee correctamente y tener una idea de lo que está sucediendo con los datos. En este caso, estoy buscando para ver si veo algún valor faltante, que se representará con `NaN` o `None`."
   ]
  },
  {
   "cell_type": "code",
   "execution_count": null,
   "metadata": {
    "_cell_guid": "79c7e3d0-c299-4dcb-8224-4455121ee9b0",
    "_uuid": "d629ff2d2480ee46fbb7e2d37f6b5fab8052498a",
    "collapsed": true
   },
   "outputs": [],
   "source": [
    "# look at a few rows of the nfl_data file. I can see a handful of missing data already!\n",
    "nfl_data.sample(5)"
   ]
  },
  {
   "cell_type": "markdown",
   "metadata": {
    "_cell_guid": "604ac3a4-b1d9-4264-b312-4bbeecdeec00",
    "_uuid": "03ce3b4afe87d98f777172c2c7be066a66a0b237"
   },
   "source": [
    "Sí, parece que faltan algunos valores. ¿Qué pasa con el conjunto de datos sf_permits?"
   ]
  },
  {
   "cell_type": "code",
   "execution_count": null,
   "metadata": {
    "_cell_guid": "8dca377c-95be-40ec-87dc-61a8fca750e2",
    "_uuid": "e389495bb2e5d27ab632d5f3648ca1f912c94706",
    "collapsed": true
   },
   "outputs": [],
   "source": [
    "# your turn! Look at a couple of rows from the sf_permits dataset. Do you notice any missing data?\n",
    "\n",
    "# your code goes here :)"
   ]
  },
  {
   "cell_type": "markdown",
   "metadata": {
    "_cell_guid": "33656c2b-a74e-4b76-9af2-d7ecd518577b",
    "_uuid": "400b025f618cc76a39fec2537193f28ba1e49168"
   },
   "source": [
    "# Vea cuántos puntos de datos faltantes tenemos\n",
    "___\n",
    "\n",
    "Bien, ahora sabemos que tenemos algunos valores perdidos. Veamos cuántos tenemos en cada columna."
   ]
  },
  {
   "cell_type": "code",
   "execution_count": null,
   "metadata": {
    "_cell_guid": "a69ac02d-197b-487b-a38f-2f853d208eed",
    "_uuid": "6dc0e32180c4a3bba003e7886faf126d93affadf",
    "collapsed": true
   },
   "outputs": [],
   "source": [
    "# get the number of missing data points per column\n",
    "missing_values_count = nfl_data.isnull().sum()\n",
    "\n",
    "# look at the # of missing points in the first ten columns\n",
    "missing_values_count[0:10]"
   ]
  },
  {
   "cell_type": "markdown",
   "metadata": {
    "_cell_guid": "84455c7e-6c63-4e08-a7b4-7520a61072f9",
    "_uuid": "054ba8782a7b0555336eddb90c985fb638beac4d"
   },
   "source": [
    "¡Eso parece mucho! Podría ser útil ver qué porcentaje de los valores en nuestro conjunto de datos faltaban para darnos una mejor idea de la escala de este problema:"
   ]
  },
  {
   "cell_type": "code",
   "execution_count": null,
   "metadata": {
    "_cell_guid": "fb77dd56-192e-48be-8181-2082985dd5a2",
    "_uuid": "d6e65ba197893f29d9dce0b0cd1c75017b60db09",
    "collapsed": true
   },
   "outputs": [],
   "source": [
    "# how many total missing values do we have?\n",
    "total_cells = np.product(nfl_data.shape)\n",
    "total_missing = missing_values_count.sum()\n",
    "\n",
    "# percent of data that is missing\n",
    "(total_missing/total_cells) * 100"
   ]
  },
  {
   "cell_type": "markdown",
   "metadata": {
    "_cell_guid": "31daa324-9215-4930-985c-01dee717b6b8",
    "_uuid": "3331fa42efa16f3db2e8e196411f351c5f8309f5"
   },
   "source": [
    "¡Vaya, casi una cuarta parte de las celdas de este conjunto de datos están vacías! En el siguiente paso, veremos más de cerca algunas de las columnas con valores perdidos y trataremos de averiguar qué podría estar sucediendo con ellas."
   ]
  },
  {
   "cell_type": "code",
   "execution_count": null,
   "metadata": {
    "_cell_guid": "f20a9474-41ee-4ecd-a2f4-1ab147fc8655",
    "_uuid": "64487760aa1afaaa8b8a4d1f95206773759db101",
    "collapsed": true
   },
   "outputs": [],
   "source": [
    "# your turn! Find out what percent of the sf_permits dataset is missing\n"
   ]
  },
  {
   "cell_type": "markdown",
   "metadata": {
    "_cell_guid": "62b9f021-5b80-43e2-bf60-8e0d5e22d572",
    "_uuid": "032a618abb98a28e60ab84376cf21402178f995d"
   },
   "source": [
    "# Descubra por qué faltan los datos\n",
    "____\n",
    " \n",
    "Este es el punto en el que entramos en la parte de la ciencia de datos que me gusta llamar \"intuición de datos\", con lo que me refiero a \"mirar realmente sus datos y tratar de averiguar por qué es así y cómo será afectar su análisis \". Puede ser una parte frustrante de la ciencia de datos, especialmente si es nuevo en el campo y no tiene mucha experiencia. Para lidiar con los valores perdidos, necesitará usar su intuición para averiguar por qué falta el valor. Una de las preguntas más importantes que puede hacerse para ayudar a resolver esto es la siguiente:\n",
    "\n",
    "> **¿Falta este valor porque no se registró o porque no existe?**\n",
    "\n",
    "Si falta un valor porque no existe (como la altura del hijo mayor de alguien que no tiene hijos), no tiene sentido intentar adivinar cuál podría ser. Probablemente desee mantener estos valores como NaN. Por otro lado, si falta un valor porque no se registró, puede intentar adivinar cuál podría haber sido basándose en los otros valores en esa columna y fila. (¡Esto se llama \"imputación\" y aprenderemos cómo hacerlo a continuación! :)\n",
    "\n",
    "Trabajemos con un ejemplo. Al observar el número de valores faltantes en el marco de datos nfl_data, me doy cuenta de que la columna `TimesSec` tiene muchos valores faltantes:"
   ]
  },
  {
   "cell_type": "code",
   "execution_count": null,
   "metadata": {
    "_cell_guid": "77739e82-8d32-4374-84bf-a924b6065168",
    "_uuid": "b65aea6046964806e44422c057bce8bd7f8e59d5",
    "collapsed": true
   },
   "outputs": [],
   "source": [
    "# look at the # of missing points in the first ten columns\n",
    "missing_values_count[0:10]"
   ]
  },
  {
   "cell_type": "markdown",
   "metadata": {
    "_cell_guid": "1b17f4c9-dcab-4857-82f9-a2534e804c91",
    "_uuid": "5cff158285ab37a89b80dcc35d5c690cdb42d3a4"
   },
   "source": [
    "Mirando [the documentation](https://www.kaggle.com/maxhorowitz/nflplaybyplay2009to2016), Puedo ver que esta columna tiene información sobre la cantidad de segundos que quedan en el juego cuando se realizó la jugada. Esto significa que estos valores probablemente falten porque no se registraron, en lugar de porque no existen. Por lo tanto, tendría sentido que intentemos adivinar cuáles deberían ser en lugar de simplemente dejarlos como NA.\n",
    "\n",
    "Por otro lado, hay otros campos, como `PenalizedTeam` que también tienen muchos campos faltantes. En este caso, sin embargo, falta el campo porque si no hubo penalización, entonces no tiene sentido decir * qué * equipo fue penalizado. Para esta columna, tendría más sentido dejarla vacía o agregar un tercer valor como \"ninguno\" y usarlo para reemplazar los NA.\n",
    "\n",
    "> **Tip:** Este es un gran lugar para leer la documentación del conjunto de datos si aún no lo ha hecho. Si está trabajando con un conjunto de datos que obtuvo de otra persona, también puede intentar comunicarse con ellos para obtener más información.\n",
    "\n",
    "Si está haciendo un análisis de datos muy cuidadoso, este es el punto en el que miraría cada columna individualmente para descubrir la mejor estrategia para completar esos valores faltantes. En el resto de este cuaderno, cubriremos algunas técnicas \"rápidas y sucias\" que pueden ayudarlo con los valores faltantes, pero probablemente también terminarán eliminando información útil o agregando algo de ruido a sus datos.\n",
    "\n",
    "## ¡Tu turno!\n",
    "\n",
    "* Mira las columnas `Street Number Suffix` y `Zipcode` de los conjuntos de datos `sf_permits`. Ambos contienen valores perdidos. ¿Cuáles, si alguno de estos, faltan porque no existen? ¿Cuáles, si es que faltan, porque no se grabaron?"
   ]
  },
  {
   "cell_type": "markdown",
   "metadata": {
    "_cell_guid": "ea022b62-6419-47e7-973e-c3e707e2795f",
    "_uuid": "3f72f46f2464c7cd12f5eb2a752746ce1cd0b5a7"
   },
   "source": [
    "# Eliminar los valores perdidos\n",
    "___\n",
    "\n",
    "Si tiene prisa o no tiene una razón para averiguar por qué faltan sus valores, una opción que tiene es simplemente eliminar las filas o columnas que contienen valores faltantes. (Nota: ¡generalmente no recomiendo este enfoque para proyectos importantes! Por lo general, vale la pena tomarse el tiempo para revisar sus datos y mirar realmente todas las columnas con valores faltantes una por una para conocer realmente su conjunto de datos .)\n",
    "\n",
    "Si está seguro de que desea eliminar filas con valores faltantes, los pandas tienen una función útil, `dropna ()` para ayudarlo a hacer esto. ¡Probémoslo en nuestro conjunto de datos de la NFL!"
   ]
  },
  {
   "cell_type": "code",
   "execution_count": null,
   "metadata": {
    "_cell_guid": "ad0ac9a2-2854-4bb7-8886-8eee7fad8756",
    "_uuid": "ad8ef7825ba9bce3472a47d7c5242a4522f14065",
    "collapsed": true
   },
   "outputs": [],
   "source": [
    "# remove all the rows that contain a missing value\n",
    "nfl_data.dropna()"
   ]
  },
  {
   "cell_type": "markdown",
   "metadata": {
    "_cell_guid": "e0545655-3d37-448b-ae56-2c7707cd805d",
    "_uuid": "33eb849e076d2a4d0c409f58d78b5f303879b1b3"
   },
   "source": [
    "¡Dios mío, parece que se eliminaron todos nuestros datos! 😱 Esto se debe a que cada fila de nuestro conjunto de datos tenía al menos un valor faltante. Es posible que tengamos más suerte eliminando todas las * columnas * que tienen al menos un valor faltante en su lugar."
   ]
  },
  {
   "cell_type": "code",
   "execution_count": null,
   "metadata": {
    "_cell_guid": "97709ad4-f7b8-4cd0-8911-56e14db904ae",
    "_uuid": "87c569672854fe23e1ee9376ef3115ba4712cbf5",
    "collapsed": true
   },
   "outputs": [],
   "source": [
    "# remove all columns with at least one missing value\n",
    "columns_with_na_dropped = nfl_data.dropna(axis=1)\n",
    "columns_with_na_dropped.head()"
   ]
  },
  {
   "cell_type": "code",
   "execution_count": null,
   "metadata": {
    "_cell_guid": "0e51b19b-c44d-4487-8417-725d2b911739",
    "_uuid": "e60a092d2799851aa725eadf28b197022a6b127f",
    "collapsed": true
   },
   "outputs": [],
   "source": [
    "# just how much data did we lose?\n",
    "print(\"Columns in original dataset: %d \\n\" % nfl_data.shape[1])\n",
    "print(\"Columns with na's dropped: %d\" % columns_with_na_dropped.shape[1])"
   ]
  },
  {
   "cell_type": "markdown",
   "metadata": {
    "_cell_guid": "f417c614-f77f-45eb-b16b-fdc0be936502",
    "_uuid": "bac84fee4ca849e54839c716c43dddfbb559954b"
   },
   "source": [
    "Hemos perdido bastantes datos, pero en este punto hemos eliminado con éxito todos los `NaN` de nuestros datos."
   ]
  },
  {
   "cell_type": "code",
   "execution_count": null,
   "metadata": {
    "_cell_guid": "0fe94654-7dad-4e8d-bbbb-e65e2bb2f767",
    "_uuid": "8207912f74712835283f7e1b30dad0471ee2e1fc",
    "collapsed": true
   },
   "outputs": [],
   "source": [
    "# Your turn! Try removing all the rows from the sf_permits dataset that contain missing values. How many are left?\n"
   ]
  },
  {
   "cell_type": "code",
   "execution_count": null,
   "metadata": {
    "_cell_guid": "7ec643e1-abba-4683-b794-a1924e657501",
    "_uuid": "f804c0448b18b6d411ddf8452d15abba8292fffa",
    "collapsed": true
   },
   "outputs": [],
   "source": [
    "# Now try removing all the columns with empty values. Now how much of your data is left?\n"
   ]
  },
  {
   "cell_type": "markdown",
   "metadata": {
    "_cell_guid": "1dbe153d-7b30-4ad8-80ad-a4c7fb53928e",
    "_uuid": "eb1ef8d47d9ebed77c3d21eca24708708ed4d45f"
   },
   "source": [
    "# Completar los valores perdidos automáticamente\n",
    "_____\n",
    "\n",
    "Otra opción es intentar completar los valores que faltan. Para el próximo bit, obtengo una pequeña subsección de los datos de la NFL para que se imprima bien."
   ]
  },
  {
   "cell_type": "code",
   "execution_count": null,
   "metadata": {
    "_cell_guid": "76fd83fb-a6d9-4c03-8c94-a111ee529881",
    "_uuid": "e0944282c73a63513d5345689ddd6a9da0fc8547",
    "collapsed": true
   },
   "outputs": [],
   "source": [
    "# get a small subset of the NFL dataset\n",
    "subset_nfl_data = nfl_data.loc[:, 'EPA':'Season'].head()\n",
    "subset_nfl_data"
   ]
  },
  {
   "cell_type": "markdown",
   "metadata": {
    "_cell_guid": "527c8703-4b29-459d-af7d-5505da36016b",
    "_uuid": "f8cfe916904af3265d8ecc4f791f9f62e34ff458"
   },
   "source": [
    "Podemos usar la función fillna () de Panda para completar los valores faltantes en un marco de datos para nosotros. Una opción que tenemos es especificar con qué queremos que se reemplacen los valores de `NaN`. Aquí, estoy diciendo que me gustaría reemplazar todos los valores de `NaN` con 0."
   ]
  },
  {
   "cell_type": "code",
   "execution_count": null,
   "metadata": {
    "_cell_guid": "c01ed989-8901-43c8-afa3-6ca36605dfb5",
    "_uuid": "77eac530ce398b8c13eb7886f86bce48fd997f34",
    "collapsed": true
   },
   "outputs": [],
   "source": [
    "# replace all NA's with 0\n",
    "subset_nfl_data.fillna(0)"
   ]
  },
  {
   "cell_type": "markdown",
   "metadata": {
    "_cell_guid": "1103b725-c823-4f40-9bda-e97997856339",
    "_uuid": "bec603202c6bfaae7a49b4a4042f37019ad1d801"
   },
   "source": [
    "También podría ser un poco más inteligente y reemplazar los valores faltantes con cualquier valor que venga directamente después en la misma columna. (Esto tiene mucho sentido para los conjuntos de datos donde las observaciones tienen algún tipo de orden lógico)."
   ]
  },
  {
   "cell_type": "code",
   "execution_count": null,
   "metadata": {
    "_cell_guid": "90ddac9b-ee20-492e-b437-0519c97ca317",
    "_uuid": "afba99aa7897539e9a0af77dce03daab94d0ca68",
    "collapsed": true
   },
   "outputs": [],
   "source": [
    "# replace all NA's the value that comes directly after it in the same column, \n",
    "# then replace all the reamining na's with 0\n",
    "subset_nfl_data.fillna(method = 'bfill', axis=0).fillna(0)"
   ]
  },
  {
   "cell_type": "markdown",
   "metadata": {
    "_cell_guid": "980e5d67-7e9c-41a3-b17e-51d87e9da9cf",
    "_uuid": "1f8ac8b52f2933612e315f06a53185e164e6c5bc"
   },
   "source": [
    "Completar los valores perdidos también se conoce como \"imputación\", y puede encontrar más ejercicios sobre él. [in this lesson, also linked under the \"More practice!\" section](https://www.kaggle.com/dansbecker/handling-missing-values). Sin embargo, primero, ¿por qué no intenta reemplazar algunos de los valores faltantes en el conjunto de datos sf_permit?"
   ]
  },
  {
   "cell_type": "code",
   "execution_count": null,
   "metadata": {
    "_cell_guid": "da426397-7e17-40ce-a0d4-ca6d39e47498",
    "_uuid": "f7d403c19eaf31ee0a4e04b9e1119eda96a9f95c",
    "collapsed": true
   },
   "outputs": [],
   "source": [
    "# Your turn! Try replacing all the NaN's in the sf_permits data with the one that\n",
    "# comes directly after it and then replacing any remaining NaN's with 0"
   ]
  },
  {
   "cell_type": "markdown",
   "metadata": {
    "_cell_guid": "b4f37fce-4d08-409e-bbbd-6a26c3bbc6ee",
    "_uuid": "52b0af56e3c77db96056e9acd785f8f435f7caf5"
   },
   "source": [
    "¡Y eso es todo por hoy! Si tiene alguna pregunta, asegúrese de publicarla en los comentarios a continuación o [on the forums](https://www.kaggle.com/questions-and-answers). \n",
    "\n",
    "Recuerde que su bloc de notas es privado de forma predeterminada y, para compartirlo con otras personas o pedir ayuda con él, deberá hacerlo público. Primero, deberá guardar una versión de su cuaderno que muestre su trabajo actual presionando el botón \"Confirmar y ejecutar\". (Su trabajo se guarda automáticamente, pero el control de versiones de su trabajo le permite volver atrás y ver cómo era en el momento en que lo guardó. También le permite compartir un buen cuaderno compilado en lugar de solo el código sin procesar). la computadora portátil ha terminado de ejecutarse, puede ir a la pestaña Configuración en el panel de la izquierda (es posible que deba expandirla presionando el botón [<] junto al botón \"Confirmar y ejecutar\") y configurar el menú desplegable \"Visibilidad\" en \"Público\".\n",
    "\n",
    "# ¡Más práctica!\n",
    "___\n",
    "\n",
    "Si está buscando más práctica en el manejo de valores perdidos, consulte estos ejercicios de crédito adicional \\ *:\n",
    "\n",
    "* [Handling Missing Values](https://www.kaggle.com/dansbecker/handling-missing-values): En este cuaderno, Dan le muestra varios enfoques para imputar datos faltantes utilizando el imputador de scikit-learn. \n",
    "* Vuelve a mirar la columna `Zipcode` en el conjunto de datos` sf_permits`, que tiene algunos valores faltantes. ¿Cómo averiguaría cuál debería ser el código postal real de cada dirección? (Puede intentar usar otro conjunto de datos. Puede buscar conjuntos de datos sobre San Francisco en el [Datasets listing](https://www.kaggle.com/datasets).) \n",
    "\n",
    "\\ * no se otorga crédito real por completar el desafío, solo aprende cómo limpiar datos realmente bien: P"
   ]
  },
  {
   "cell_type": "code",
   "execution_count": null,
   "metadata": {},
   "outputs": [],
   "source": []
  }
 ],
 "metadata": {
  "kernelspec": {
   "display_name": "Python 3",
   "language": "python",
   "name": "python3"
  },
  "language_info": {
   "codemirror_mode": {
    "name": "ipython",
    "version": 3
   },
   "file_extension": ".py",
   "mimetype": "text/x-python",
   "name": "python",
   "nbconvert_exporter": "python",
   "pygments_lexer": "ipython3",
   "version": "3.8.5"
  }
 },
 "nbformat": 4,
 "nbformat_minor": 1
}
