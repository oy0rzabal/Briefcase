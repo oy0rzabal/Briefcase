{
 "cells": [
  {
   "cell_type": "markdown",
   "metadata": {
    "id": "7UcH5qd4JZUY"
   },
   "source": [
    "# **Prediciendo el Rating de las aplicaciones en Google PlayStore**\n",
    "\n",
    "![](https://www.datasource.ai/uploads/e33dc9d94a413913f6a65caa5e0d4b75.png)\n",
    "\n",
    "Competencia en [DatasourceAI](https://www.datasource.ai/es/home/data-science-competitions-for-startups/prediciendo-el-rating-de-las-aplicaciones-en-google-play-store):\n",
    "\n",
    "DataSource nos provee un problema de **clasificación** en el que basándonos en los datos de una aplicación, tendremos que predecir su **Rating**\n",
    "\n",
    "La escala del **Rating** se transformó en 2 clases:\n",
    "\n",
    "- **0** si el Rating es menor o igual que 4 (Rating <= 4.0)\n",
    "\n",
    "- **1** si el Rating en mayor a 4 (Rating > 4.0)\n"
   ]
  },
  {
   "cell_type": "markdown",
   "metadata": {
    "id": "DbuIDjYLF7rT"
   },
   "source": [
    "# **Pregunta 1**"
   ]
  },
  {
   "cell_type": "markdown",
   "metadata": {
    "id": "7mMJDyRUHVNV"
   },
   "source": [
    "En esta pregunta tienes que cargar las librerías necesarias para armar tu modelo de clasificación.\n",
    "\n",
    "Importa **Pandas** para leer datos\\\n",
    "Importa **Missingno** para identificar nulos.\\\n",
    "Importa **Seaborn** para identificar outliers.\\\n",
    "Importa **train_test_split** de Sklearn para dividir los datos\\\n",
    "Importa **RandomForestClassifier** y **LogisticRegression** de Sklearn para armar tus modelos\\\n",
    "Importa **accuracy_score** de Sklearn para medir la precisión de tus modelos.  \\\\\n",
    "\n",
    "Finalmente **utiliza pandas** para leer los datos que se encuentran en el siguiente enlace:\n",
    "https://raw.githubusercontent.com/HackSpacePeru/Datasets_intro_Data_Science/master/google_playstore.csv\n"
   ]
  },
  {
   "cell_type": "code",
   "execution_count": 2,
   "metadata": {
    "id": "dHVAV1EJLAWH",
    "scrolled": false
   },
   "outputs": [],
   "source": [
    "#importamos pandas como pd\n",
    "import pandas as pd\n",
    "\n",
    "#importamos mssingno como msno\n",
    "import missingno as msno\n",
    "\n",
    "#importamos seaborn como sns\n",
    "import seaborn as sns\n",
    "\n",
    "#importamos train_test_split\n",
    "from sklearn.model_selection import train_test_split\n",
    "\n",
    "#importamos accuacy_score\n",
    "from sklearn.metrics import accuracy_score\n",
    "\n",
    "#importamos RandomForestClassifier\n",
    "from sklearn.ensemble import RandomForestClassifier\n",
    "\n",
    "#importamos LogisticRegression\n",
    "from sklearn.linear_model import LogisticRegression\n",
    "\n",
    "#Importamos numpy\n",
    "import numpy as np\n"
   ]
  },
  {
   "cell_type": "code",
   "execution_count": 3,
   "metadata": {
    "id": "mOwLTsAjFpPf"
   },
   "outputs": [
    {
     "data": {
      "text/html": [
       "<div>\n",
       "<style scoped>\n",
       "    .dataframe tbody tr th:only-of-type {\n",
       "        vertical-align: middle;\n",
       "    }\n",
       "\n",
       "    .dataframe tbody tr th {\n",
       "        vertical-align: top;\n",
       "    }\n",
       "\n",
       "    .dataframe thead th {\n",
       "        text-align: right;\n",
       "    }\n",
       "</style>\n",
       "<table border=\"1\" class=\"dataframe\">\n",
       "  <thead>\n",
       "    <tr style=\"text-align: right;\">\n",
       "      <th></th>\n",
       "      <th>Category</th>\n",
       "      <th>Rating</th>\n",
       "      <th>Reviews</th>\n",
       "      <th>Installs</th>\n",
       "      <th>Type</th>\n",
       "      <th>Price</th>\n",
       "      <th>Content Rating</th>\n",
       "      <th>Genres</th>\n",
       "      <th>Android Ver</th>\n",
       "    </tr>\n",
       "  </thead>\n",
       "  <tbody>\n",
       "    <tr>\n",
       "      <th>0</th>\n",
       "      <td>133</td>\n",
       "      <td>1.0</td>\n",
       "      <td>149723</td>\n",
       "      <td>541</td>\n",
       "      <td>Free</td>\n",
       "      <td>0.0</td>\n",
       "      <td>4764</td>\n",
       "      <td>0.768336</td>\n",
       "      <td>761</td>\n",
       "    </tr>\n",
       "    <tr>\n",
       "      <th>1</th>\n",
       "      <td>219</td>\n",
       "      <td>0.0</td>\n",
       "      <td>853</td>\n",
       "      <td>661</td>\n",
       "      <td>Free</td>\n",
       "      <td>0.0</td>\n",
       "      <td>4764</td>\n",
       "      <td>0.641972</td>\n",
       "      <td>1317</td>\n",
       "    </tr>\n",
       "    <tr>\n",
       "      <th>2</th>\n",
       "      <td>67</td>\n",
       "      <td>1.0</td>\n",
       "      <td>61881</td>\n",
       "      <td>356</td>\n",
       "      <td>Free</td>\n",
       "      <td>0.0</td>\n",
       "      <td>4764</td>\n",
       "      <td>1.172458</td>\n",
       "      <td>582</td>\n",
       "    </tr>\n",
       "    <tr>\n",
       "      <th>3</th>\n",
       "      <td>508</td>\n",
       "      <td>0.0</td>\n",
       "      <td>21943</td>\n",
       "      <td>356</td>\n",
       "      <td>Free</td>\n",
       "      <td>0.0</td>\n",
       "      <td>4764</td>\n",
       "      <td>0.757642</td>\n",
       "      <td>381</td>\n",
       "    </tr>\n",
       "    <tr>\n",
       "      <th>4</th>\n",
       "      <td>1114</td>\n",
       "      <td>1.0</td>\n",
       "      <td>6</td>\n",
       "      <td>536</td>\n",
       "      <td>Free</td>\n",
       "      <td>0.0</td>\n",
       "      <td>4764</td>\n",
       "      <td>1.058965</td>\n",
       "      <td>1317</td>\n",
       "    </tr>\n",
       "  </tbody>\n",
       "</table>\n",
       "</div>"
      ],
      "text/plain": [
       "   Category  Rating  Reviews  Installs  Type  Price  Content Rating    Genres  \\\n",
       "0       133     1.0   149723       541  Free    0.0            4764  0.768336   \n",
       "1       219     0.0      853       661  Free    0.0            4764  0.641972   \n",
       "2        67     1.0    61881       356  Free    0.0            4764  1.172458   \n",
       "3       508     0.0    21943       356  Free    0.0            4764  0.757642   \n",
       "4      1114     1.0        6       536  Free    0.0            4764  1.058965   \n",
       "\n",
       "   Android Ver  \n",
       "0          761  \n",
       "1         1317  \n",
       "2          582  \n",
       "3          381  \n",
       "4         1317  "
      ]
     },
     "execution_count": 3,
     "metadata": {},
     "output_type": "execute_result"
    }
   ],
   "source": [
    "#Leeremos los datos\n",
    "df = pd.read_csv(\"https://raw.githubusercontent.com/HackSpacePeru/Datasets_intro_Data_Science/master/google_playstore.csv\")\n",
    "\n",
    "#Devolvemos los datos\n",
    "df.head()"
   ]
  },
  {
   "cell_type": "markdown",
   "metadata": {
    "id": "EWiiXfAMIAQt"
   },
   "source": [
    "# **Pregunta 2**"
   ]
  },
  {
   "cell_type": "markdown",
   "metadata": {
    "id": "4QLuE6H9QzUC"
   },
   "source": [
    "En esta pregunta tienes que realizar todo el **Preprocesamiento** requerido para tu modelo de clasificación."
   ]
  },
  {
   "cell_type": "markdown",
   "metadata": {
    "id": "uLL_11QJIE2T"
   },
   "source": [
    " - Detecta y reemplaza aquella columna que tiene datos categóricos\n",
    " - Identifica si hay o no valores nulos en los datos, de ser así, reemplázalos por la media o moda.\n"
   ]
  },
  {
   "cell_type": "code",
   "execution_count": 4,
   "metadata": {},
   "outputs": [
    {
     "data": {
      "text/plain": [
       "0       1.0\n",
       "1       0.0\n",
       "2       1.0\n",
       "3       0.0\n",
       "4       1.0\n",
       "       ... \n",
       "5783    1.0\n",
       "5784    0.0\n",
       "5785    1.0\n",
       "5786    1.0\n",
       "5787    1.0\n",
       "Name: Rating, Length: 5788, dtype: float64"
      ]
     },
     "execution_count": 4,
     "metadata": {},
     "output_type": "execute_result"
    }
   ],
   "source": [
    "#Vamos a predecir el Rating\n",
    "df['Rating']"
   ]
  },
  {
   "cell_type": "code",
   "execution_count": 5,
   "metadata": {},
   "outputs": [
    {
     "data": {
      "text/html": [
       "<div>\n",
       "<style scoped>\n",
       "    .dataframe tbody tr th:only-of-type {\n",
       "        vertical-align: middle;\n",
       "    }\n",
       "\n",
       "    .dataframe tbody tr th {\n",
       "        vertical-align: top;\n",
       "    }\n",
       "\n",
       "    .dataframe thead th {\n",
       "        text-align: right;\n",
       "    }\n",
       "</style>\n",
       "<table border=\"1\" class=\"dataframe\">\n",
       "  <thead>\n",
       "    <tr style=\"text-align: right;\">\n",
       "      <th></th>\n",
       "      <th>Category</th>\n",
       "      <th>Rating</th>\n",
       "      <th>Reviews</th>\n",
       "      <th>Installs</th>\n",
       "      <th>Type</th>\n",
       "      <th>Price</th>\n",
       "      <th>Content Rating</th>\n",
       "      <th>Genres</th>\n",
       "      <th>Android Ver</th>\n",
       "    </tr>\n",
       "  </thead>\n",
       "  <tbody>\n",
       "    <tr>\n",
       "      <th>0</th>\n",
       "      <td>133</td>\n",
       "      <td>1.0</td>\n",
       "      <td>149723</td>\n",
       "      <td>541</td>\n",
       "      <td>1</td>\n",
       "      <td>0.00</td>\n",
       "      <td>4764</td>\n",
       "      <td>0.768336</td>\n",
       "      <td>761</td>\n",
       "    </tr>\n",
       "    <tr>\n",
       "      <th>1</th>\n",
       "      <td>219</td>\n",
       "      <td>0.0</td>\n",
       "      <td>853</td>\n",
       "      <td>661</td>\n",
       "      <td>1</td>\n",
       "      <td>0.00</td>\n",
       "      <td>4764</td>\n",
       "      <td>0.641972</td>\n",
       "      <td>1317</td>\n",
       "    </tr>\n",
       "    <tr>\n",
       "      <th>2</th>\n",
       "      <td>67</td>\n",
       "      <td>1.0</td>\n",
       "      <td>61881</td>\n",
       "      <td>356</td>\n",
       "      <td>1</td>\n",
       "      <td>0.00</td>\n",
       "      <td>4764</td>\n",
       "      <td>1.172458</td>\n",
       "      <td>582</td>\n",
       "    </tr>\n",
       "    <tr>\n",
       "      <th>3</th>\n",
       "      <td>508</td>\n",
       "      <td>0.0</td>\n",
       "      <td>21943</td>\n",
       "      <td>356</td>\n",
       "      <td>1</td>\n",
       "      <td>0.00</td>\n",
       "      <td>4764</td>\n",
       "      <td>0.757642</td>\n",
       "      <td>381</td>\n",
       "    </tr>\n",
       "    <tr>\n",
       "      <th>4</th>\n",
       "      <td>1114</td>\n",
       "      <td>1.0</td>\n",
       "      <td>6</td>\n",
       "      <td>536</td>\n",
       "      <td>1</td>\n",
       "      <td>0.00</td>\n",
       "      <td>4764</td>\n",
       "      <td>1.058965</td>\n",
       "      <td>1317</td>\n",
       "    </tr>\n",
       "    <tr>\n",
       "      <th>...</th>\n",
       "      <td>...</td>\n",
       "      <td>...</td>\n",
       "      <td>...</td>\n",
       "      <td>...</td>\n",
       "      <td>...</td>\n",
       "      <td>...</td>\n",
       "      <td>...</td>\n",
       "      <td>...</td>\n",
       "      <td>...</td>\n",
       "    </tr>\n",
       "    <tr>\n",
       "      <th>5783</th>\n",
       "      <td>195</td>\n",
       "      <td>1.0</td>\n",
       "      <td>69119316</td>\n",
       "      <td>12</td>\n",
       "      <td>1</td>\n",
       "      <td>0.00</td>\n",
       "      <td>4764</td>\n",
       "      <td>0.306677</td>\n",
       "      <td>582</td>\n",
       "    </tr>\n",
       "    <tr>\n",
       "      <th>5784</th>\n",
       "      <td>170</td>\n",
       "      <td>0.0</td>\n",
       "      <td>44</td>\n",
       "      <td>536</td>\n",
       "      <td>1</td>\n",
       "      <td>0.00</td>\n",
       "      <td>4764</td>\n",
       "      <td>0.644734</td>\n",
       "      <td>143</td>\n",
       "    </tr>\n",
       "    <tr>\n",
       "      <th>5785</th>\n",
       "      <td>46</td>\n",
       "      <td>1.0</td>\n",
       "      <td>3005</td>\n",
       "      <td>623</td>\n",
       "      <td>0</td>\n",
       "      <td>2.99</td>\n",
       "      <td>4764</td>\n",
       "      <td>0.754550</td>\n",
       "      <td>846</td>\n",
       "    </tr>\n",
       "    <tr>\n",
       "      <th>5786</th>\n",
       "      <td>1114</td>\n",
       "      <td>1.0</td>\n",
       "      <td>708</td>\n",
       "      <td>298</td>\n",
       "      <td>1</td>\n",
       "      <td>0.00</td>\n",
       "      <td>4764</td>\n",
       "      <td>0.559427</td>\n",
       "      <td>137</td>\n",
       "    </tr>\n",
       "    <tr>\n",
       "      <th>5787</th>\n",
       "      <td>134</td>\n",
       "      <td>1.0</td>\n",
       "      <td>144</td>\n",
       "      <td>536</td>\n",
       "      <td>1</td>\n",
       "      <td>0.00</td>\n",
       "      <td>597</td>\n",
       "      <td>0.462860</td>\n",
       "      <td>846</td>\n",
       "    </tr>\n",
       "  </tbody>\n",
       "</table>\n",
       "<p>5788 rows × 9 columns</p>\n",
       "</div>"
      ],
      "text/plain": [
       "      Category  Rating   Reviews  Installs  Type  Price  Content Rating  \\\n",
       "0          133     1.0    149723       541     1   0.00            4764   \n",
       "1          219     0.0       853       661     1   0.00            4764   \n",
       "2           67     1.0     61881       356     1   0.00            4764   \n",
       "3          508     0.0     21943       356     1   0.00            4764   \n",
       "4         1114     1.0         6       536     1   0.00            4764   \n",
       "...        ...     ...       ...       ...   ...    ...             ...   \n",
       "5783       195     1.0  69119316        12     1   0.00            4764   \n",
       "5784       170     0.0        44       536     1   0.00            4764   \n",
       "5785        46     1.0      3005       623     0   2.99            4764   \n",
       "5786      1114     1.0       708       298     1   0.00            4764   \n",
       "5787       134     1.0       144       536     1   0.00             597   \n",
       "\n",
       "        Genres  Android Ver  \n",
       "0     0.768336          761  \n",
       "1     0.641972         1317  \n",
       "2     1.172458          582  \n",
       "3     0.757642          381  \n",
       "4     1.058965         1317  \n",
       "...        ...          ...  \n",
       "5783  0.306677          582  \n",
       "5784  0.644734          143  \n",
       "5785  0.754550          846  \n",
       "5786  0.559427          137  \n",
       "5787  0.462860          846  \n",
       "\n",
       "[5788 rows x 9 columns]"
      ]
     },
     "execution_count": 5,
     "metadata": {},
     "output_type": "execute_result"
    }
   ],
   "source": [
    "df['Type']=pd.get_dummies(df['Type'])\n",
    "\n",
    "df"
   ]
  },
  {
   "cell_type": "code",
   "execution_count": 6,
   "metadata": {
    "id": "wnqtapfCLDiM"
   },
   "outputs": [
    {
     "data": {
      "text/plain": [
       "False"
      ]
     },
     "execution_count": 6,
     "metadata": {},
     "output_type": "execute_result"
    }
   ],
   "source": [
    "#Reemplazar datos datos nulos por moda o media\n",
    "#Vamos a buscar valores nulos\n",
    "df.isnull().values.any()"
   ]
  },
  {
   "cell_type": "code",
   "execution_count": 7,
   "metadata": {},
   "outputs": [
    {
     "data": {
      "text/html": [
       "<div>\n",
       "<style scoped>\n",
       "    .dataframe tbody tr th:only-of-type {\n",
       "        vertical-align: middle;\n",
       "    }\n",
       "\n",
       "    .dataframe tbody tr th {\n",
       "        vertical-align: top;\n",
       "    }\n",
       "\n",
       "    .dataframe thead th {\n",
       "        text-align: right;\n",
       "    }\n",
       "</style>\n",
       "<table border=\"1\" class=\"dataframe\">\n",
       "  <thead>\n",
       "    <tr style=\"text-align: right;\">\n",
       "      <th></th>\n",
       "      <th>Category</th>\n",
       "      <th>Rating</th>\n",
       "      <th>Reviews</th>\n",
       "      <th>Installs</th>\n",
       "      <th>Type</th>\n",
       "      <th>Price</th>\n",
       "      <th>Content Rating</th>\n",
       "      <th>Genres</th>\n",
       "      <th>Android Ver</th>\n",
       "    </tr>\n",
       "  </thead>\n",
       "  <tbody>\n",
       "    <tr>\n",
       "      <th>0</th>\n",
       "      <td>False</td>\n",
       "      <td>False</td>\n",
       "      <td>False</td>\n",
       "      <td>False</td>\n",
       "      <td>False</td>\n",
       "      <td>False</td>\n",
       "      <td>False</td>\n",
       "      <td>False</td>\n",
       "      <td>False</td>\n",
       "    </tr>\n",
       "    <tr>\n",
       "      <th>1</th>\n",
       "      <td>False</td>\n",
       "      <td>False</td>\n",
       "      <td>False</td>\n",
       "      <td>False</td>\n",
       "      <td>False</td>\n",
       "      <td>False</td>\n",
       "      <td>False</td>\n",
       "      <td>False</td>\n",
       "      <td>False</td>\n",
       "    </tr>\n",
       "    <tr>\n",
       "      <th>2</th>\n",
       "      <td>False</td>\n",
       "      <td>False</td>\n",
       "      <td>False</td>\n",
       "      <td>False</td>\n",
       "      <td>False</td>\n",
       "      <td>False</td>\n",
       "      <td>False</td>\n",
       "      <td>False</td>\n",
       "      <td>False</td>\n",
       "    </tr>\n",
       "    <tr>\n",
       "      <th>3</th>\n",
       "      <td>False</td>\n",
       "      <td>False</td>\n",
       "      <td>False</td>\n",
       "      <td>False</td>\n",
       "      <td>False</td>\n",
       "      <td>False</td>\n",
       "      <td>False</td>\n",
       "      <td>False</td>\n",
       "      <td>False</td>\n",
       "    </tr>\n",
       "    <tr>\n",
       "      <th>4</th>\n",
       "      <td>False</td>\n",
       "      <td>False</td>\n",
       "      <td>False</td>\n",
       "      <td>False</td>\n",
       "      <td>False</td>\n",
       "      <td>False</td>\n",
       "      <td>False</td>\n",
       "      <td>False</td>\n",
       "      <td>False</td>\n",
       "    </tr>\n",
       "    <tr>\n",
       "      <th>...</th>\n",
       "      <td>...</td>\n",
       "      <td>...</td>\n",
       "      <td>...</td>\n",
       "      <td>...</td>\n",
       "      <td>...</td>\n",
       "      <td>...</td>\n",
       "      <td>...</td>\n",
       "      <td>...</td>\n",
       "      <td>...</td>\n",
       "    </tr>\n",
       "    <tr>\n",
       "      <th>5783</th>\n",
       "      <td>False</td>\n",
       "      <td>False</td>\n",
       "      <td>False</td>\n",
       "      <td>False</td>\n",
       "      <td>False</td>\n",
       "      <td>False</td>\n",
       "      <td>False</td>\n",
       "      <td>False</td>\n",
       "      <td>False</td>\n",
       "    </tr>\n",
       "    <tr>\n",
       "      <th>5784</th>\n",
       "      <td>False</td>\n",
       "      <td>False</td>\n",
       "      <td>False</td>\n",
       "      <td>False</td>\n",
       "      <td>False</td>\n",
       "      <td>False</td>\n",
       "      <td>False</td>\n",
       "      <td>False</td>\n",
       "      <td>False</td>\n",
       "    </tr>\n",
       "    <tr>\n",
       "      <th>5785</th>\n",
       "      <td>False</td>\n",
       "      <td>False</td>\n",
       "      <td>False</td>\n",
       "      <td>False</td>\n",
       "      <td>False</td>\n",
       "      <td>False</td>\n",
       "      <td>False</td>\n",
       "      <td>False</td>\n",
       "      <td>False</td>\n",
       "    </tr>\n",
       "    <tr>\n",
       "      <th>5786</th>\n",
       "      <td>False</td>\n",
       "      <td>False</td>\n",
       "      <td>False</td>\n",
       "      <td>False</td>\n",
       "      <td>False</td>\n",
       "      <td>False</td>\n",
       "      <td>False</td>\n",
       "      <td>False</td>\n",
       "      <td>False</td>\n",
       "    </tr>\n",
       "    <tr>\n",
       "      <th>5787</th>\n",
       "      <td>False</td>\n",
       "      <td>False</td>\n",
       "      <td>False</td>\n",
       "      <td>False</td>\n",
       "      <td>False</td>\n",
       "      <td>False</td>\n",
       "      <td>False</td>\n",
       "      <td>False</td>\n",
       "      <td>False</td>\n",
       "    </tr>\n",
       "  </tbody>\n",
       "</table>\n",
       "<p>5788 rows × 9 columns</p>\n",
       "</div>"
      ],
      "text/plain": [
       "      Category  Rating  Reviews  Installs   Type  Price  Content Rating  \\\n",
       "0        False   False    False     False  False  False           False   \n",
       "1        False   False    False     False  False  False           False   \n",
       "2        False   False    False     False  False  False           False   \n",
       "3        False   False    False     False  False  False           False   \n",
       "4        False   False    False     False  False  False           False   \n",
       "...        ...     ...      ...       ...    ...    ...             ...   \n",
       "5783     False   False    False     False  False  False           False   \n",
       "5784     False   False    False     False  False  False           False   \n",
       "5785     False   False    False     False  False  False           False   \n",
       "5786     False   False    False     False  False  False           False   \n",
       "5787     False   False    False     False  False  False           False   \n",
       "\n",
       "      Genres  Android Ver  \n",
       "0      False        False  \n",
       "1      False        False  \n",
       "2      False        False  \n",
       "3      False        False  \n",
       "4      False        False  \n",
       "...      ...          ...  \n",
       "5783   False        False  \n",
       "5784   False        False  \n",
       "5785   False        False  \n",
       "5786   False        False  \n",
       "5787   False        False  \n",
       "\n",
       "[5788 rows x 9 columns]"
      ]
     },
     "execution_count": 7,
     "metadata": {},
     "output_type": "execute_result"
    }
   ],
   "source": [
    "#Devolvemos los datos si tenemos nulos\n",
    "df.isnull()"
   ]
  },
  {
   "cell_type": "code",
   "execution_count": 10,
   "metadata": {
    "scrolled": false
   },
   "outputs": [
    {
     "name": "stdout",
     "output_type": "stream",
     "text": [
      "1.0    4317\n",
      "0.0    1471\n",
      "Name: Rating, dtype: int64\n"
     ]
    }
   ],
   "source": [
    "#Quitamos la columna 'Rating'\n",
    "x_train = df.drop('Rating', axis=1)\n",
    "\n",
    "#Declaramos y_traing con el dato de Rating\n",
    "y_train = df['Rating']\n",
    "\n",
    "#values.counts() = cuenta los numeros que coinciden\n",
    "y_train.value_counts()\n",
    "\n",
    "#Devolvemos los datos\n",
    "print(y_train.value_counts())"
   ]
  },
  {
   "cell_type": "code",
   "execution_count": 11,
   "metadata": {},
   "outputs": [
    {
     "name": "stdout",
     "output_type": "stream",
     "text": [
      "1.0    4317\n",
      "0.0    1471\n",
      "Name: Rating, dtype: int64\n"
     ]
    }
   ],
   "source": [
    "#Quitamos la columna 'Rating'\n",
    "x_test = df.drop('Rating', axis=1)\n",
    "\n",
    "#Declaramos y_test con el dato de Rating\n",
    "y_test = df['Rating']\n",
    "\n",
    "#values.counts() = cuenta los numeros que coinciden\n",
    "y_train.value_counts()\n",
    "\n",
    "#Devolvemos los datos contados\n",
    "print(y_train.value_counts())"
   ]
  },
  {
   "cell_type": "markdown",
   "metadata": {
    "id": "QVKfTKXHLqXd"
   },
   "source": [
    "# **Pregunta 3**"
   ]
  },
  {
   "cell_type": "markdown",
   "metadata": {
    "id": "tj3TAaPWRegG"
   },
   "source": [
    "En esta pregunta deberás realizar la partición de los datos en train y test.\n",
    "\n",
    "- Utiliza el método de **train_test_split** reservando el **20%** para test.\n"
   ]
  },
  {
   "cell_type": "code",
   "execution_count": 10,
   "metadata": {},
   "outputs": [],
   "source": [
    "#Preparamos el modelo train_test_split\n",
    "X_train, X_test, y_train, y_test = train_test_split(x_train, y_train, test_size=0.2)"
   ]
  },
  {
   "cell_type": "code",
   "execution_count": 11,
   "metadata": {
    "scrolled": true
   },
   "outputs": [
    {
     "data": {
      "text/html": [
       "<div>\n",
       "<style scoped>\n",
       "    .dataframe tbody tr th:only-of-type {\n",
       "        vertical-align: middle;\n",
       "    }\n",
       "\n",
       "    .dataframe tbody tr th {\n",
       "        vertical-align: top;\n",
       "    }\n",
       "\n",
       "    .dataframe thead th {\n",
       "        text-align: right;\n",
       "    }\n",
       "</style>\n",
       "<table border=\"1\" class=\"dataframe\">\n",
       "  <thead>\n",
       "    <tr style=\"text-align: right;\">\n",
       "      <th></th>\n",
       "      <th>Category</th>\n",
       "      <th>Reviews</th>\n",
       "      <th>Installs</th>\n",
       "      <th>Type</th>\n",
       "      <th>Price</th>\n",
       "      <th>Content Rating</th>\n",
       "      <th>Genres</th>\n",
       "      <th>Android Ver</th>\n",
       "    </tr>\n",
       "  </thead>\n",
       "  <tbody>\n",
       "    <tr>\n",
       "      <th>1697</th>\n",
       "      <td>37</td>\n",
       "      <td>3596</td>\n",
       "      <td>623</td>\n",
       "      <td>1</td>\n",
       "      <td>0.00</td>\n",
       "      <td>597</td>\n",
       "      <td>0.746032</td>\n",
       "      <td>846</td>\n",
       "    </tr>\n",
       "    <tr>\n",
       "      <th>4445</th>\n",
       "      <td>204</td>\n",
       "      <td>24980</td>\n",
       "      <td>841</td>\n",
       "      <td>1</td>\n",
       "      <td>0.00</td>\n",
       "      <td>4764</td>\n",
       "      <td>0.550864</td>\n",
       "      <td>1317</td>\n",
       "    </tr>\n",
       "    <tr>\n",
       "      <th>4667</th>\n",
       "      <td>253</td>\n",
       "      <td>2094</td>\n",
       "      <td>308</td>\n",
       "      <td>1</td>\n",
       "      <td>0.00</td>\n",
       "      <td>4764</td>\n",
       "      <td>0.990172</td>\n",
       "      <td>143</td>\n",
       "    </tr>\n",
       "    <tr>\n",
       "      <th>1603</th>\n",
       "      <td>1114</td>\n",
       "      <td>1752017</td>\n",
       "      <td>114</td>\n",
       "      <td>1</td>\n",
       "      <td>0.00</td>\n",
       "      <td>4764</td>\n",
       "      <td>0.687842</td>\n",
       "      <td>1317</td>\n",
       "    </tr>\n",
       "    <tr>\n",
       "      <th>3691</th>\n",
       "      <td>1114</td>\n",
       "      <td>1</td>\n",
       "      <td>448</td>\n",
       "      <td>1</td>\n",
       "      <td>0.00</td>\n",
       "      <td>4764</td>\n",
       "      <td>1.144774</td>\n",
       "      <td>846</td>\n",
       "    </tr>\n",
       "    <tr>\n",
       "      <th>...</th>\n",
       "      <td>...</td>\n",
       "      <td>...</td>\n",
       "      <td>...</td>\n",
       "      <td>...</td>\n",
       "      <td>...</td>\n",
       "      <td>...</td>\n",
       "      <td>...</td>\n",
       "      <td>...</td>\n",
       "    </tr>\n",
       "    <tr>\n",
       "      <th>5766</th>\n",
       "      <td>212</td>\n",
       "      <td>1734</td>\n",
       "      <td>661</td>\n",
       "      <td>1</td>\n",
       "      <td>0.00</td>\n",
       "      <td>234</td>\n",
       "      <td>1.249489</td>\n",
       "      <td>846</td>\n",
       "    </tr>\n",
       "    <tr>\n",
       "      <th>2340</th>\n",
       "      <td>253</td>\n",
       "      <td>3</td>\n",
       "      <td>448</td>\n",
       "      <td>0</td>\n",
       "      <td>2.99</td>\n",
       "      <td>4764</td>\n",
       "      <td>0.453316</td>\n",
       "      <td>1317</td>\n",
       "    </tr>\n",
       "    <tr>\n",
       "      <th>3157</th>\n",
       "      <td>1114</td>\n",
       "      <td>1667</td>\n",
       "      <td>623</td>\n",
       "      <td>0</td>\n",
       "      <td>14.99</td>\n",
       "      <td>597</td>\n",
       "      <td>0.928328</td>\n",
       "      <td>381</td>\n",
       "    </tr>\n",
       "    <tr>\n",
       "      <th>3983</th>\n",
       "      <td>264</td>\n",
       "      <td>0</td>\n",
       "      <td>237</td>\n",
       "      <td>1</td>\n",
       "      <td>0.00</td>\n",
       "      <td>4764</td>\n",
       "      <td>0.821480</td>\n",
       "      <td>1317</td>\n",
       "    </tr>\n",
       "    <tr>\n",
       "      <th>3962</th>\n",
       "      <td>253</td>\n",
       "      <td>2570</td>\n",
       "      <td>661</td>\n",
       "      <td>1</td>\n",
       "      <td>0.00</td>\n",
       "      <td>4764</td>\n",
       "      <td>0.523573</td>\n",
       "      <td>761</td>\n",
       "    </tr>\n",
       "  </tbody>\n",
       "</table>\n",
       "<p>4630 rows × 8 columns</p>\n",
       "</div>"
      ],
      "text/plain": [
       "      Category  Reviews  Installs  Type  Price  Content Rating    Genres  \\\n",
       "1697        37     3596       623     1   0.00             597  0.746032   \n",
       "4445       204    24980       841     1   0.00            4764  0.550864   \n",
       "4667       253     2094       308     1   0.00            4764  0.990172   \n",
       "1603      1114  1752017       114     1   0.00            4764  0.687842   \n",
       "3691      1114        1       448     1   0.00            4764  1.144774   \n",
       "...        ...      ...       ...   ...    ...             ...       ...   \n",
       "5766       212     1734       661     1   0.00             234  1.249489   \n",
       "2340       253        3       448     0   2.99            4764  0.453316   \n",
       "3157      1114     1667       623     0  14.99             597  0.928328   \n",
       "3983       264        0       237     1   0.00            4764  0.821480   \n",
       "3962       253     2570       661     1   0.00            4764  0.523573   \n",
       "\n",
       "      Android Ver  \n",
       "1697          846  \n",
       "4445         1317  \n",
       "4667          143  \n",
       "1603         1317  \n",
       "3691          846  \n",
       "...           ...  \n",
       "5766          846  \n",
       "2340         1317  \n",
       "3157          381  \n",
       "3983         1317  \n",
       "3962          761  \n",
       "\n",
       "[4630 rows x 8 columns]"
      ]
     },
     "execution_count": 11,
     "metadata": {},
     "output_type": "execute_result"
    }
   ],
   "source": [
    "X_train"
   ]
  },
  {
   "cell_type": "code",
   "execution_count": 12,
   "metadata": {},
   "outputs": [
    {
     "data": {
      "text/plain": [
       "1697    1.0\n",
       "4445    1.0\n",
       "4667    0.0\n",
       "1603    1.0\n",
       "3691    1.0\n",
       "       ... \n",
       "5766    1.0\n",
       "2340    1.0\n",
       "3157    1.0\n",
       "3983    1.0\n",
       "3962    1.0\n",
       "Name: Rating, Length: 4630, dtype: float64"
      ]
     },
     "execution_count": 12,
     "metadata": {},
     "output_type": "execute_result"
    }
   ],
   "source": [
    "y_train"
   ]
  },
  {
   "cell_type": "code",
   "execution_count": 13,
   "metadata": {},
   "outputs": [
    {
     "name": "stdout",
     "output_type": "stream",
     "text": [
      "       Category   Reviews  Installs  Type  Price  Content Rating    Genres  \\\n",
      "0          133    149723       541     1   0.00            4764  0.768336   \n",
      "1          219       853       661     1   0.00            4764  0.641972   \n",
      "2           67     61881       356     1   0.00            4764  1.172458   \n",
      "3          508     21943       356     1   0.00            4764  0.757642   \n",
      "4         1114         6       536     1   0.00            4764  1.058965   \n",
      "...        ...       ...       ...   ...    ...             ...       ...   \n",
      "5783       195  69119316        12     1   0.00            4764  0.306677   \n",
      "5784       170        44       536     1   0.00            4764  0.644734   \n",
      "5785        46      3005       623     0   2.99            4764  0.754550   \n",
      "5786      1114       708       298     1   0.00            4764  0.559427   \n",
      "5787       134       144       536     1   0.00             597  0.462860   \n",
      "\n",
      "      Android Ver  \n",
      "0             761  \n",
      "1            1317  \n",
      "2             582  \n",
      "3             381  \n",
      "4            1317  \n",
      "...           ...  \n",
      "5783          582  \n",
      "5784          143  \n",
      "5785          846  \n",
      "5786          137  \n",
      "5787          846  \n",
      "\n",
      "[5788 rows x 8 columns]\n"
     ]
    },
    {
     "data": {
      "text/plain": [
       "2928    1.0\n",
       "4483    1.0\n",
       "4529    1.0\n",
       "1068    1.0\n",
       "1114    1.0\n",
       "       ... \n",
       "114     1.0\n",
       "3323    1.0\n",
       "5020    0.0\n",
       "4282    1.0\n",
       "5658    1.0\n",
       "Name: Rating, Length: 1158, dtype: float64"
      ]
     },
     "execution_count": 13,
     "metadata": {},
     "output_type": "execute_result"
    }
   ],
   "source": [
    "#Comprobamos si x_test esta bien\n",
    "print('',x_test)\n",
    "\n",
    "#Comprobamos si y_test esta bien\n",
    "y_test"
   ]
  },
  {
   "cell_type": "markdown",
   "metadata": {
    "id": "zbaEUpfuL-ZP"
   },
   "source": [
    "# **Pregunta 4**"
   ]
  },
  {
   "cell_type": "markdown",
   "metadata": {
    "id": "q50LjTcJPf0E"
   },
   "source": [
    "En esta pregunta debes realizar el **Modelamiento**. Utiliza **train** (X_train, y train) para entrenar:\n",
    "- Un modelo de clasificación con **Random Forest**\n",
    "- Un modelo de clasificación con **Regresión Logistica**"
   ]
  },
  {
   "cell_type": "code",
   "execution_count": 14,
   "metadata": {},
   "outputs": [
    {
     "data": {
      "text/plain": [
       "array([1., 1., 1., ..., 1., 1., 1.])"
      ]
     },
     "execution_count": 14,
     "metadata": {},
     "output_type": "execute_result"
    }
   ],
   "source": [
    "#Create del modelo\n",
    "rf = RandomForestClassifier(n_jobs = -1,max_depth=3,random_state=1) #creamos la variable rf para guardar el modelo con los parámetros deseados\n",
    "rf.fit(X_train,y_train) #entrenamos con datos guardados en X_train, y_train\n",
    "rf_pred = rf.predict(X_test) #generamos las predicciones usando como variables predictoras los datos en X_test\n",
    "rf_pred #mostramos las predicciones guardadas en la variable rf_pred"
   ]
  },
  {
   "cell_type": "code",
   "execution_count": 15,
   "metadata": {
    "id": "fe-VJUHBT99W"
   },
   "outputs": [
    {
     "name": "stdout",
     "output_type": "stream",
     "text": [
      "[[  0 296]\n",
      " [  1 861]]\n",
      "              precision    recall  f1-score   support\n",
      "\n",
      "         0.0       0.00      0.00      0.00       296\n",
      "         1.0       0.74      1.00      0.85       862\n",
      "\n",
      "    accuracy                           0.74      1158\n",
      "   macro avg       0.37      0.50      0.43      1158\n",
      "weighted avg       0.55      0.74      0.63      1158\n",
      "\n"
     ]
    }
   ],
   "source": [
    "#Importamos sklear.metrics\n",
    "from sklearn.metrics import confusion_matrix, classification_report\n",
    "\n",
    "#Instacia del clasificacion: logreg\n",
    "logreg = LogisticRegression()\n",
    "\n",
    "#Clasificacdor a los de entrenamiento\n",
    "logreg.fit(X_train, y_train)\n",
    "\n",
    "#Modelo de prueba para que haga predicciones después del entrenamiento: y_pred\n",
    "y_pred = logreg.predict(X_test)\n",
    "\n",
    "print(confusion_matrix(y_test, y_pred))\n",
    "print(classification_report(y_test, y_pred))"
   ]
  },
  {
   "cell_type": "markdown",
   "metadata": {
    "id": "UUIK-66-MBoB"
   },
   "source": [
    "# **Pregunta 5**"
   ]
  },
  {
   "cell_type": "markdown",
   "metadata": {
    "id": "I1E0buXOPy5L"
   },
   "source": [
    "En esta pregunta debes realizar la **Evaluación** de ambos modelos:\n",
    " - Genera las **predicciones** utilzando **X_test** para ambos modelos\n",
    " - Evalúa el rendimiento de cada modelo utilizando **accuracy_score** para comparar y_test versus tus predicciones."
   ]
  },
  {
   "cell_type": "code",
   "execution_count": null,
   "metadata": {},
   "outputs": [],
   "source": [
    "#Donde sklearn.metrics importamos accury_score\n",
    "from sklearn.metrics import accuracy_score"
   ]
  },
  {
   "cell_type": "code",
   "execution_count": 50,
   "metadata": {},
   "outputs": [
    {
     "data": {
      "text/plain": [
       "0.7443868739205527"
      ]
     },
     "execution_count": 50,
     "metadata": {},
     "output_type": "execute_result"
    }
   ],
   "source": [
    "#Creando el segundo metodo \"predict\"\n",
    "model2 = rf.predict(X_test)\n",
    "\n",
    "#Devolvemos la predicción\n",
    "predict1 = accuracy_score(y_test, model2)\n",
    "\n",
    "#Devolvemos la segunda predicción\n",
    "predict1"
   ]
  },
  {
   "cell_type": "code",
   "execution_count": 45,
   "metadata": {
    "id": "G3r3Ce2qMCt1",
    "scrolled": true
   },
   "outputs": [
    {
     "data": {
      "text/plain": [
       "0.7435233160621761"
      ]
     },
     "execution_count": 45,
     "metadata": {},
     "output_type": "execute_result"
    }
   ],
   "source": [
    "#Creando el primer Metodo \"predct\"\n",
    "y_pred = logreg.predict(X_test)\n",
    "\n",
    "#Hacemos las predicciones\n",
    "predict = accuracy_score(y_test, y_pred)\n",
    "\n",
    "#Devolvemos la predicción\n",
    "exactitud"
   ]
  }
 ],
 "metadata": {
  "colab": {
   "collapsed_sections": [],
   "name": "DS3_TAREA3.ipynb",
   "provenance": []
  },
  "kernelspec": {
   "display_name": "Python 3 (ipykernel)",
   "language": "python",
   "name": "python3"
  },
  "language_info": {
   "codemirror_mode": {
    "name": "ipython",
    "version": 3
   },
   "file_extension": ".py",
   "mimetype": "text/x-python",
   "name": "python",
   "nbconvert_exporter": "python",
   "pygments_lexer": "ipython3",
   "version": "3.8.5"
  }
 },
 "nbformat": 4,
 "nbformat_minor": 1
}
