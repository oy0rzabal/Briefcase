{
 "cells": [
  {
   "cell_type": "markdown",
   "metadata": {
    "_cell_guid": "b91a74ba-85f4-486e-b5f9-d0898f0626bf",
    "_uuid": "6ac53f18b4f4ec0fc44348cedb5d1c319fa127c0"
   },
   "source": [
    "### All days of the challange:\n",
    "\n",
    "* [Day 1: Handling missing values](https://www.kaggle.com/rtatman/data-cleaning-challenge-handling-missing-values)\n",
    "* [Day 2: Scaling and normalization](https://www.kaggle.com/rtatman/data-cleaning-challenge-scale-and-normalize-data)\n",
    "* [Day 3: Parsing dates](https://www.kaggle.com/rtatman/data-cleaning-challenge-parsing-dates/)\n",
    "* [Day 4: Character encodings](https://www.kaggle.com/rtatman/data-cleaning-challenge-character-encodings/)\n",
    "* [Day 5: Inconsistent Data Entry](https://www.kaggle.com/rtatman/data-cleaning-challenge-inconsistent-data-entry/)\n",
    "___\n",
    "\n",
    "¡Bienvenido al día 5 del Desafío de datos de 5 días! (¿Puedes creer que ya han pasado cinco días?) Hoy, vamos a aprender cómo limpiar entradas de texto inconsistentes. Para comenzar, haga clic en el botón azul \"Fork Notebook\" en la esquina superior derecha. Esto creará una copia privada de este cuaderno que puede editar y jugar. Una vez que haya terminado con los ejercicios, puede optar por hacer público su cuaderno para compartirlo con otros. :)\n",
    "\n",
    "> **¡Tu turno!** Mientras trabajamos en este cuaderno, verá algunas celdas del cuaderno (un bloque de código o texto) que tiene \"¡Tu turno!\" escrito en él. Estos son ejercicios que puede realizar para ayudar a consolidar su comprensión de los conceptos de los que estamos hablando. Una vez que haya escrito el código para responder una pregunta específica, puede ejecutar el código haciendo clic dentro de la celda (cuadro con el código) con el código que desea ejecutar y luego presione CTRL + ENTER (CMD + ENTER en una Mac ). También puede hacer clic en una celda y luego hacer clic en la flecha derecha \"reproducir\" a la izquierda del código. Si desea ejecutar todo el código en su cuaderno, puede usar las flechas dobles de \"avance rápido\" en la parte inferior del editor del cuaderno.\n",
    "\n",
    "Esto es lo que haremos hoy:\n",
    "\n",
    "* [Get our environment set up](#Get-our-environment-set-up)\n",
    "* [Do some preliminary text pre-processing](#Do-some-preliminary-text-pre-processing)\n",
    "* [Use fuzzy matching to correct inconsistent data entry](#Use-fuzzy-matching-to-correct-inconsistent-data-entry)\n",
    "\n",
    "\n",
    "¡Empecemos!"
   ]
  },
  {
   "cell_type": "markdown",
   "metadata": {
    "_cell_guid": "5cd5061f-ae30-4837-a53b-690ffd5c5830",
    "_uuid": "9d82bf13584b8e682962fbb96131f2447d741679"
   },
   "source": [
    "# Configurar nuestro entorno\n",
    "________\n",
    "\n",
    "Lo primero que tendremos que hacer es cargar las bibliotecas que usaremos. Sin embargo, no nuestros conjuntos de datos: ¡llegaremos a ellos más tarde!\n",
    "\n",
    "> **¡Importante!** ¡Asegúrese de ejecutar esta celda usted mismo o el resto de su código no funcionará!"
   ]
  },
  {
   "cell_type": "code",
   "execution_count": null,
   "metadata": {
    "_cell_guid": "135a7804-b5f5-40aa-8657-4a15774e3666",
    "_uuid": "835cbe0834b935fb0fd40c75b9c39454836f4d5f",
    "collapsed": true
   },
   "outputs": [],
   "source": [
    "# modules we'll use\n",
    "import pandas as pd\n",
    "import numpy as np\n",
    "\n",
    "# helpful modules\n",
    "import fuzzywuzzy\n",
    "from fuzzywuzzy import process\n",
    "import chardet\n",
    "\n",
    "# set seed for reproducibility\n",
    "np.random.seed(0)"
   ]
  },
  {
   "cell_type": "markdown",
   "metadata": {
    "_cell_guid": "5169ae8c-6210-400a-ace2-e5fbe00378fc",
    "_uuid": "ed09d242e94e22f1bac2dc446d7545b1d1f5d5c5"
   },
   "source": [
    "Cuando intenté leer en el archivo `PakistanSuicideAttacks Ver 11 (30-November-2017) .csv` por primera vez, recibí un error de codificación de caracteres, así que voy a comprobar rápidamente cuál debería ser la codificación ..."
   ]
  },
  {
   "cell_type": "code",
   "execution_count": null,
   "metadata": {
    "_cell_guid": "ee54b6ee-0869-438a-9b6f-57c6d67f923f",
    "_uuid": "d2578d4d4bc7e42f5ab6157d9c3eb40e68d42e9b",
    "collapsed": true
   },
   "outputs": [],
   "source": [
    "# look at the first ten thousand bytes to guess the character encoding\n",
    "with open(\"../input/PakistanSuicideAttacks Ver 11 (30-November-2017).csv\", 'rb') as rawdata:\n",
    "    result = chardet.detect(rawdata.read(100000))\n",
    "\n",
    "# check what the character encoding might be\n",
    "print(result)"
   ]
  },
  {
   "cell_type": "markdown",
   "metadata": {
    "_cell_guid": "6a60be35-cd57-4dcc-9b98-c365de041332",
    "_uuid": "71d00770de8e42e926d8dc5a3a8b48b2c368ea43"
   },
   "source": [
    "Y luego léelo con la codificación correcta. (Si esto no le resulta familiar, consulte [yesterday's challenge](https://www.kaggle.com/rtatman/data-cleaning-challenge-character-encodings/).) "
   ]
  },
  {
   "cell_type": "code",
   "execution_count": null,
   "metadata": {
    "_cell_guid": "0f40ed87-fc61-4a61-b230-6af1f4618114",
    "_uuid": "c82584427932f3f0ccd21c7d1eca92f62476ed0a",
    "collapsed": true
   },
   "outputs": [],
   "source": [
    "# read in our dat\n",
    "suicide_attacks = pd.read_csv(\"../input/PakistanSuicideAttacks Ver 11 (30-November-2017).csv\", \n",
    "                              encoding='Windows-1252')"
   ]
  },
  {
   "cell_type": "markdown",
   "metadata": {
    "_cell_guid": "83630dd4-6775-4ba5-a290-077c6f503f64",
    "_uuid": "a3f42cea88795426f036e35d30d5c079f3c6152c"
   },
   "source": [
    "¡Ahora estamos listos para empezar! Como siempre, puede tomarse un momento para ver los datos y familiarizarse con ellos. :)\n",
    "\n",
    "\n",
    "# Haga un preprocesamiento preliminar del texto\n",
    "___\n",
    "\n",
    "Para este ejercicio, estoy interesado en limpiar la columna \"Ciudad\" para asegurarme de que no haya inconsistencias en la entrada de datos. Podríamos revisar y verificar cada fila a mano, por supuesto, y corregir manualmente las inconsistencias cuando las encontremos. ¡Sin embargo, hay una forma más eficiente de hacer esto!"
   ]
  },
  {
   "cell_type": "code",
   "execution_count": null,
   "metadata": {
    "_cell_guid": "b3d4b17e-77c4-46d8-9681-a94801969b49",
    "_uuid": "4bced8b6f6a985ded2c991f46ed0145ac1d8b722",
    "collapsed": true
   },
   "outputs": [],
   "source": [
    "# get all the unique values in the 'City' column\n",
    "cities = suicide_attacks['City'].unique()\n",
    "\n",
    "# sort them alphabetically and then take a closer look\n",
    "cities.sort()\n",
    "cities"
   ]
  },
  {
   "cell_type": "markdown",
   "metadata": {
    "_cell_guid": "c11d7808-e677-4ec3-a357-0a3e9bed4cf5",
    "_uuid": "8785e8cc59b40e6ac7a824184132460e22a99f87"
   },
   "source": [
    "Con solo mirar esto, puedo ver algunos problemas debido a la entrada de datos inconsistente: 'Lahore' y 'Lahore', por ejemplo, o 'Lakki Marwat' y 'Lakki marwat'.\n",
    "\n",
    "Lo primero que voy a hacer es poner todo en minúsculas (puedo volver a cambiarlo al final si quiero) y eliminar los espacios en blanco al principio y al final de las celdas. Las inconsistencias en las mayúsculas y los espacios en blanco finales son muy comunes en los datos de texto y puede corregir un buen 80% de las inconsistencias de entrada de datos de texto haciendo esto."
   ]
  },
  {
   "cell_type": "code",
   "execution_count": null,
   "metadata": {
    "_cell_guid": "61651d57-f28c-4b81-bd05-b82720a8ed18",
    "_uuid": "2b604c74492419f89a43262d1f811e272646f9a6",
    "collapsed": true
   },
   "outputs": [],
   "source": [
    "# convert to lower case\n",
    "suicide_attacks['City'] = suicide_attacks['City'].str.lower()\n",
    "# remove trailing white spaces\n",
    "suicide_attacks['City'] = suicide_attacks['City'].str.strip()"
   ]
  },
  {
   "cell_type": "markdown",
   "metadata": {
    "_cell_guid": "4c11e916-981a-41c3-b79f-9ac60521d6a2",
    "_uuid": "29388ff41b320262a8fe17a8f2a347ae919bad7c"
   },
   "source": [
    "A continuación, abordaremos inconsistencias más difíciles."
   ]
  },
  {
   "cell_type": "code",
   "execution_count": null,
   "metadata": {
    "_cell_guid": "3deb3f1b-80e0-4a94-9bf7-1c9cd4882c18",
    "_uuid": "27aeda660f0e95ccb24bf8c5c1e1d5cfb22be7a8",
    "collapsed": true
   },
   "outputs": [],
   "source": [
    "# Your turn! Take a look at all the unique values in the \"Province\" column. \n",
    "# Then convert the column to lowercase and remove any trailing white spaces"
   ]
  },
  {
   "cell_type": "markdown",
   "metadata": {
    "_cell_guid": "a612e0fa-1361-4e8e-a6aa-5008b631d076",
    "_uuid": "3639865348f499faa25b75a46438807ed70d4173"
   },
   "source": [
    "# Utilice la coincidencia aproximada para corregir la entrada de datos inconsistentes\n",
    "___\n",
    "\n",
    "Muy bien, echemos otro vistazo a la columna de la ciudad y veamos si hay más limpieza de datos que debamos hacer."
   ]
  },
  {
   "cell_type": "code",
   "execution_count": null,
   "metadata": {
    "_cell_guid": "8f20fd24-33a4-472d-ba22-be0abc2a1e5b",
    "_uuid": "1408dacdd7b76f306bd1c0c534b991d76243d7cc",
    "collapsed": true
   },
   "outputs": [],
   "source": [
    "# get all the unique values in the 'City' column\n",
    "cities = suicide_attacks['City'].unique()\n",
    "\n",
    "# sort them alphabetically and then take a closer look\n",
    "cities.sort()\n",
    "cities"
   ]
  },
  {
   "cell_type": "markdown",
   "metadata": {
    "_cell_guid": "dcbefc7e-702c-4b5a-86ab-f0c2f93f3873",
    "_uuid": "b092eca650105d8fe8b15f85fbe2747003b4f170"
   },
   "source": [
    "Parece que quedan algunas inconsistencias: 'd. i khan 'y' d.i khan 'probablemente deberían ser lo mismo. (I [looked it up](https://en.wikipedia.org/wiki/List_of_most_populous_cities_in_Pakistan) y 'd.g khan' es una ciudad separada, así que no debería combinarlos).\n",
    "\n",
    "Voy a usar el [fuzzywuzzy](https://github.com/seatgeek/fuzzywuzzy) paquete para ayudar a identificar qué cadenas están más cerca una de la otra. Este conjunto de datos es lo suficientemente pequeño como para que podamos corregir los errores a mano, pero ese enfoque no se escala bien. (¿Le gustaría corregir mil errores a mano? ¿Y diez mil? Automatizar las cosas lo antes posible es generalmente una buena idea. Además, ¡es divertido! :)\n",
    "\n",
    "> **Coincidencia difusa:** El proceso de buscar automáticamente cadenas de texto que son muy similares a la cadena de destino. En general, una cadena se considera \"más cercana\" a otra, menos caracteres necesitaría cambiar si estuviera transformando una cadena en otra. Entonces, \"apple\" y \"snapple\" están a dos cambios uno del otro (agregue \"s\" y \"n\") mientras que \"in\" y \"on\" y un cambio de distancia (rplace \"i\" con \"o\"). No siempre podrá confiar en la coincidencia aproximada al 100%, pero por lo general terminará ahorrándole al menos un poco de tiempo.\n",
    "\n",
    "Fuzzywuzzy devuelve una proporción dadas dos cadenas. Cuanto más cercana sea la relación a 100, menor será la distancia de edición entre las dos cadenas. Aquí, vamos a obtener las diez cadenas de nuestra lista de ciudades que tienen la distancia más cercana a \"d.i khan\"."
   ]
  },
  {
   "cell_type": "code",
   "execution_count": null,
   "metadata": {
    "_cell_guid": "4fdcd726-4a4f-4348-b745-1e42c3338100",
    "_uuid": "a53c6f011f5c9144e9a48f329d5cf15e2feddec8",
    "collapsed": true
   },
   "outputs": [],
   "source": [
    "# get the top 10 closest matches to \"d.i khan\"\n",
    "matches = fuzzywuzzy.process.extract(\"d.i khan\", cities, limit=10, scorer=fuzzywuzzy.fuzz.token_sort_ratio)\n",
    "\n",
    "# take a look at them\n",
    "matches"
   ]
  },
  {
   "cell_type": "markdown",
   "metadata": {
    "_cell_guid": "68060fa2-b344-4e2a-b7ce-ca2b6233a4bc",
    "_uuid": "8ae2f8f1601f37b3bdce74fcb4a9817b41c10bf8"
   },
   "source": [
    "Podemos ver que dos de los elementos en las ciudades están muy cerca de \"d.i khan\": \"d. I khan\" y \"d.i khan\". También podemos ver que \"dg khan\", que es una ciudad separada, tiene una proporción de 88. Como no queremos reemplazar \"dg khan\" por \"di khan\", reemplacemos todas las filas en nuestra columna Ciudad que tienen una relación de> 90 con \"d. i khan\".\n",
    "\n",
    "Para hacer esto, voy a escribir una función. (Es una buena idea escribir una función de propósito general que pueda reutilizar si cree que podría tener que hacer una tarea específica más de una o dos veces. Esto evita que tenga que copiar y pegar código con demasiada frecuencia, lo que ahorra tiempo y puede ayudar prevenir errores.)"
   ]
  },
  {
   "cell_type": "code",
   "execution_count": null,
   "metadata": {
    "_cell_guid": "fb2068ed-9f09-47f4-b0e0-7fb97abda373",
    "_uuid": "ba5ad95702b3aa9f30788aa571d0c61f4e8131cc",
    "collapsed": true
   },
   "outputs": [],
   "source": [
    "# function to replace rows in the provided column of the provided dataframe\n",
    "# that match the provided string above the provided ratio with the provided string\n",
    "def replace_matches_in_column(df, column, string_to_match, min_ratio = 90):\n",
    "    # get a list of unique strings\n",
    "    strings = df[column].unique()\n",
    "    \n",
    "    # get the top 10 closest matches to our input string\n",
    "    matches = fuzzywuzzy.process.extract(string_to_match, strings, \n",
    "                                         limit=10, scorer=fuzzywuzzy.fuzz.token_sort_ratio)\n",
    "\n",
    "    # only get matches with a ratio > 90\n",
    "    close_matches = [matches[0] for matches in matches if matches[1] >= min_ratio]\n",
    "\n",
    "    # get the rows of all the close matches in our dataframe\n",
    "    rows_with_matches = df[column].isin(close_matches)\n",
    "\n",
    "    # replace all rows with close matches with the input matches \n",
    "    df.loc[rows_with_matches, column] = string_to_match\n",
    "    \n",
    "    # let us know the function's done\n",
    "    print(\"All done!\")"
   ]
  },
  {
   "cell_type": "markdown",
   "metadata": {
    "_cell_guid": "35635fb1-1456-4d40-b740-79e0c34f9b60",
    "_uuid": "33afd31ad4f34445fea3fb815b5b92f5c60f8a3e"
   },
   "source": [
    "Ahora que tenemos una función, ¡podemos ponerla a prueba!"
   ]
  },
  {
   "cell_type": "code",
   "execution_count": null,
   "metadata": {
    "_cell_guid": "23fd3ac0-f236-45c8-85cb-fad3706b2850",
    "_uuid": "6bcfc2b8f35d07b6c284767789b22974cc05ae18",
    "collapsed": true
   },
   "outputs": [],
   "source": [
    "# use the function we just wrote to replace close matches to \"d.i khan\" with \"d.i khan\"\n",
    "replace_matches_in_column(df=suicide_attacks, column='City', string_to_match=\"d.i khan\")"
   ]
  },
  {
   "cell_type": "markdown",
   "metadata": {
    "_cell_guid": "e9c88b1c-a60d-4b0b-9d78-b305dd37dc45",
    "_uuid": "ae329ead1c242bcfe658d62320b57f3f7c6a715f"
   },
   "source": [
    "Y ahora podemos verificar los valores únicos en nuestra columna Ciudad nuevamente y asegurarnos de que hemos ordenado d.i khan correctamente."
   ]
  },
  {
   "cell_type": "code",
   "execution_count": null,
   "metadata": {
    "_cell_guid": "730dc89a-30c6-4848-8fe0-a28e259ea427",
    "_uuid": "a8b54015e53fc9d7829266ca5839d6feb920d036",
    "collapsed": true
   },
   "outputs": [],
   "source": [
    "# get all the unique values in the 'City' column\n",
    "cities = suicide_attacks['City'].unique()\n",
    "\n",
    "# sort them alphabetically and then take a closer look\n",
    "cities.sort()\n",
    "cities"
   ]
  },
  {
   "cell_type": "markdown",
   "metadata": {
    "_cell_guid": "5227b710-77f0-4cdb-92ce-fedadaa1a6e6",
    "_uuid": "f0b73ae1e4592e0da21788abebbb0f1a84c5eb7a"
   },
   "source": [
    "¡Excelente! Ahora solo tenemos \"d.i khan\" en nuestro marco de datos y no tuvimos que cambiar nada a mano."
   ]
  },
  {
   "cell_type": "code",
   "execution_count": null,
   "metadata": {
    "_cell_guid": "0922e215-9abb-4b44-9060-7b52080fae90",
    "_uuid": "bfb366a27a3995fe253a662dd09f453afba117f6",
    "collapsed": true
   },
   "outputs": [],
   "source": [
    "# Your turn! It looks like 'kuram agency' and 'kurram agency' should\n",
    "# be the same city. Correct the dataframe so that they are."
   ]
  },
  {
   "cell_type": "markdown",
   "metadata": {
    "_cell_guid": "b4f37fce-4d08-409e-bbbd-6a26c3bbc6ee",
    "_uuid": "52b0af56e3c77db96056e9acd785f8f435f7caf5"
   },
   "source": [
    "¡Y eso es todo por hoy! Si tiene alguna pregunta, asegúrese de publicarla en los comentarios a continuación o [on the forums](https://www.kaggle.com/questions-and-answers). \n",
    "\n",
    "Recuerde que su bloc de notas es privado de forma predeterminada y, para compartirlo con otras personas o pedir ayuda con él, deberá hacerlo público. Primero, deberá guardar una versión de su cuaderno que muestre su trabajo actual presionando el botón \"Confirmar y ejecutar\". (Su trabajo se guarda automáticamente, pero el control de versiones de su trabajo le permite volver atrás y ver cómo era en el momento en que lo guardó. También le permite compartir un buen cuaderno compilado en lugar de solo el código sin procesar). la computadora portátil ha terminado de ejecutarse, puede ir a la pestaña Configuración en el panel de la izquierda (es posible que deba expandirla presionando el botón [<] junto al botón \"Confirmar y ejecutar\") y configurar el menú desplegable \"Visibilidad\" en \"Público\".\n",
    "\n",
    "# ¡Más práctica!\n",
    "___\n",
    "\n",
    "¿Alguna otra columna en este marco de datos tiene entrada de datos inconsistente? Si puede encontrar alguno, intente ordenarlo.\n",
    "\n",
    "También puede intentar leer en el `PakistanSuicideAttacks Ver 6 (10-October-2017).csv` archivo de este conjunto de datos y ordenar las columnas inconsistentes en ese archivo de datos"
   ]
  },
  {
   "cell_type": "code",
   "execution_count": null,
   "metadata": {},
   "outputs": [],
   "source": []
  }
 ],
 "metadata": {
  "kernelspec": {
   "display_name": "Python 3",
   "language": "python",
   "name": "python3"
  },
  "language_info": {
   "codemirror_mode": {
    "name": "ipython",
    "version": 3
   },
   "file_extension": ".py",
   "mimetype": "text/x-python",
   "name": "python",
   "nbconvert_exporter": "python",
   "pygments_lexer": "ipython3",
   "version": "3.8.5"
  }
 },
 "nbformat": 4,
 "nbformat_minor": 1
}
